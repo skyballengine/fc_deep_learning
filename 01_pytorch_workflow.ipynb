{
  "nbformat": 4,
  "nbformat_minor": 0,
  "metadata": {
    "colab": {
      "provenance": [],
      "gpuType": "T4",
      "authorship_tag": "ABX9TyM34xrtlykfUh54/45J1Bd+",
      "include_colab_link": true
    },
    "kernelspec": {
      "name": "python3",
      "display_name": "Python 3"
    },
    "language_info": {
      "name": "python"
    },
    "accelerator": "GPU"
  },
  "cells": [
    {
      "cell_type": "markdown",
      "metadata": {
        "id": "view-in-github",
        "colab_type": "text"
      },
      "source": [
        "<a href=\"https://colab.research.google.com/github/skyballengine/fc_deep_learning/blob/main/01_pytorch_workflow.ipynb\" target=\"_parent\"><img src=\"https://colab.research.google.com/assets/colab-badge.svg\" alt=\"Open In Colab\"/></a>"
      ]
    },
    {
      "cell_type": "markdown",
      "source": [
        "# PyTorch Workflow\n",
        "\n",
        "Exploring an example of an end-to-end PyTorch workflow"
      ],
      "metadata": {
        "id": "XDCmzD_-YKM2"
      }
    },
    {
      "cell_type": "code",
      "source": [
        "what_were_covering = {1: \"data (prepare and load)\",\n",
        "                      2: \"build model\",\n",
        "                      3: \"fitting the model to the data (training)\",\n",
        "                      4: \"making predictions and evaluating the model (inference)\",\n",
        "                      5: \"saving and loading a model\",\n",
        "                      6: \"putting it all together\"}"
      ],
      "metadata": {
        "id": "VJfZH-0tYaJi"
      },
      "execution_count": 1,
      "outputs": []
    },
    {
      "cell_type": "code",
      "source": [
        "what_were_covering\n"
      ],
      "metadata": {
        "colab": {
          "base_uri": "https://localhost:8080/"
        },
        "id": "9Fz4ikAUZG_p",
        "outputId": "c34d64bd-811e-4464-ad5a-5191266bb727"
      },
      "execution_count": 2,
      "outputs": [
        {
          "output_type": "execute_result",
          "data": {
            "text/plain": [
              "{1: 'data (prepare and load)',\n",
              " 2: 'build model',\n",
              " 3: 'fitting the model to the data (training)',\n",
              " 4: 'making predictions and evaluating the model (inference)',\n",
              " 5: 'saving and loading a model',\n",
              " 6: 'putting it all together'}"
            ]
          },
          "metadata": {},
          "execution_count": 2
        }
      ]
    },
    {
      "cell_type": "code",
      "source": [
        "import torch\n",
        "from torch import nn # nn contains all. of PyTorch's building blocks for neural networks\n",
        "import matplotlib.pyplot as plt\n",
        "\n",
        "# Check PyTorch version\n",
        "torch.__version__"
      ],
      "metadata": {
        "colab": {
          "base_uri": "https://localhost:8080/",
          "height": 36
        },
        "id": "KU0xvJSnZU4b",
        "outputId": "830faaca-28e9-452f-b464-7e99bc2eb916"
      },
      "execution_count": 3,
      "outputs": [
        {
          "output_type": "execute_result",
          "data": {
            "text/plain": [
              "'2.0.1+cu118'"
            ],
            "application/vnd.google.colaboratory.intrinsic+json": {
              "type": "string"
            }
          },
          "metadata": {},
          "execution_count": 3
        }
      ]
    },
    {
      "cell_type": "markdown",
      "source": [
        "\n",
        "## 1. Data - Preparing and loading\n",
        "\n",
        "Data can be almost anything in machine learning\n",
        "\n",
        "* Structured data - spreadhseets, rows and columns\n",
        "* Unstructured data - images, videos, audio, dna, text\n",
        "\n",
        "Machine learning is a game of two parts:\n",
        "\n",
        "1. Get data into a numerical representation\n",
        "2. Build a model to learn patterns in that numerical representation\n",
        "\n",
        "To showcase this, let's create some *known* data using the linear regression formula\n",
        "\n",
        "We'll use a linear regression formula to make a stright line with *known* **parameters**."
      ],
      "metadata": {
        "id": "t_QMusUqZ5Iq"
      }
    },
    {
      "cell_type": "code",
      "source": [
        "# Create *known* parameters\n",
        "\n",
        "weight = 0.7\n",
        "bias = 0.3\n"
      ],
      "metadata": {
        "id": "J1Fi4-E_ajV6"
      },
      "execution_count": 4,
      "outputs": []
    },
    {
      "cell_type": "code",
      "source": [
        "# Create\n",
        "start = 0\n",
        "end = 1\n",
        "step = 0.02\n",
        "X = torch.arange(start, end, step).unsqueeze(dim=1)\n",
        "y = weight * X + bias"
      ],
      "metadata": {
        "id": "kHHdgaukc2wL"
      },
      "execution_count": 5,
      "outputs": []
    },
    {
      "cell_type": "code",
      "source": [
        "X[:10], y[:10], len(X), len(y)"
      ],
      "metadata": {
        "colab": {
          "base_uri": "https://localhost:8080/"
        },
        "id": "9VSoRM58dMZn",
        "outputId": "824827c2-45f8-4482-8693-ce1fe6a7b417"
      },
      "execution_count": 6,
      "outputs": [
        {
          "output_type": "execute_result",
          "data": {
            "text/plain": [
              "(tensor([[0.0000],\n",
              "         [0.0200],\n",
              "         [0.0400],\n",
              "         [0.0600],\n",
              "         [0.0800],\n",
              "         [0.1000],\n",
              "         [0.1200],\n",
              "         [0.1400],\n",
              "         [0.1600],\n",
              "         [0.1800]]),\n",
              " tensor([[0.3000],\n",
              "         [0.3140],\n",
              "         [0.3280],\n",
              "         [0.3420],\n",
              "         [0.3560],\n",
              "         [0.3700],\n",
              "         [0.3840],\n",
              "         [0.3980],\n",
              "         [0.4120],\n",
              "         [0.4260]]),\n",
              " 50,\n",
              " 50)"
            ]
          },
          "metadata": {},
          "execution_count": 6
        }
      ]
    },
    {
      "cell_type": "markdown",
      "source": [
        "### Splitting data into training and test sets (one of the most important concepts in machine learning)\n",
        "\n",
        "Three datasets\n",
        "\n",
        "1. Training sets (like course materials)- models learn patterns here\n",
        "2. Validation sets (like practice exam) -  tune models here\n",
        "3. Test sets (like final exam) - see if model is ready for the wild\n",
        "\n",
        "Generalization - The ability for a machine learning miodels to perform well on data it hasn't seen before."
      ],
      "metadata": {
        "id": "dpl2zZ6IhZYo"
      }
    },
    {
      "cell_type": "code",
      "source": [
        "### Let's create a training set and a test set with our data\n",
        "## train/test split\n",
        "train_split = int(0.8 * len(X))\n",
        "X_train, y_train = X[:train_split], y[:train_split]\n",
        "X_test, y_test = X[train_split:], y[train_split:]\n",
        "\n",
        "len(X_train), len(y_train), len(X_test), len(y_test)"
      ],
      "metadata": {
        "colab": {
          "base_uri": "https://localhost:8080/"
        },
        "id": "ARdULev9hr5T",
        "outputId": "1ba57843-c928-4954-c868-58a104f40ac5"
      },
      "execution_count": 7,
      "outputs": [
        {
          "output_type": "execute_result",
          "data": {
            "text/plain": [
              "(40, 40, 10, 10)"
            ]
          },
          "metadata": {},
          "execution_count": 7
        }
      ]
    },
    {
      "cell_type": "code",
      "source": [
        "X_train, y_train"
      ],
      "metadata": {
        "colab": {
          "base_uri": "https://localhost:8080/"
        },
        "id": "abUnImUrjPU8",
        "outputId": "a743e475-c35b-4337-c64f-a47b189cc37d"
      },
      "execution_count": 8,
      "outputs": [
        {
          "output_type": "execute_result",
          "data": {
            "text/plain": [
              "(tensor([[0.0000],\n",
              "         [0.0200],\n",
              "         [0.0400],\n",
              "         [0.0600],\n",
              "         [0.0800],\n",
              "         [0.1000],\n",
              "         [0.1200],\n",
              "         [0.1400],\n",
              "         [0.1600],\n",
              "         [0.1800],\n",
              "         [0.2000],\n",
              "         [0.2200],\n",
              "         [0.2400],\n",
              "         [0.2600],\n",
              "         [0.2800],\n",
              "         [0.3000],\n",
              "         [0.3200],\n",
              "         [0.3400],\n",
              "         [0.3600],\n",
              "         [0.3800],\n",
              "         [0.4000],\n",
              "         [0.4200],\n",
              "         [0.4400],\n",
              "         [0.4600],\n",
              "         [0.4800],\n",
              "         [0.5000],\n",
              "         [0.5200],\n",
              "         [0.5400],\n",
              "         [0.5600],\n",
              "         [0.5800],\n",
              "         [0.6000],\n",
              "         [0.6200],\n",
              "         [0.6400],\n",
              "         [0.6600],\n",
              "         [0.6800],\n",
              "         [0.7000],\n",
              "         [0.7200],\n",
              "         [0.7400],\n",
              "         [0.7600],\n",
              "         [0.7800]]),\n",
              " tensor([[0.3000],\n",
              "         [0.3140],\n",
              "         [0.3280],\n",
              "         [0.3420],\n",
              "         [0.3560],\n",
              "         [0.3700],\n",
              "         [0.3840],\n",
              "         [0.3980],\n",
              "         [0.4120],\n",
              "         [0.4260],\n",
              "         [0.4400],\n",
              "         [0.4540],\n",
              "         [0.4680],\n",
              "         [0.4820],\n",
              "         [0.4960],\n",
              "         [0.5100],\n",
              "         [0.5240],\n",
              "         [0.5380],\n",
              "         [0.5520],\n",
              "         [0.5660],\n",
              "         [0.5800],\n",
              "         [0.5940],\n",
              "         [0.6080],\n",
              "         [0.6220],\n",
              "         [0.6360],\n",
              "         [0.6500],\n",
              "         [0.6640],\n",
              "         [0.6780],\n",
              "         [0.6920],\n",
              "         [0.7060],\n",
              "         [0.7200],\n",
              "         [0.7340],\n",
              "         [0.7480],\n",
              "         [0.7620],\n",
              "         [0.7760],\n",
              "         [0.7900],\n",
              "         [0.8040],\n",
              "         [0.8180],\n",
              "         [0.8320],\n",
              "         [0.8460]]))"
            ]
          },
          "metadata": {},
          "execution_count": 8
        }
      ]
    },
    {
      "cell_type": "markdown",
      "source": [
        "How might we better visualize our data?\n",
        "\n",
        "This is where the data explorer's motto comes in!\n",
        "\n",
        "Visualize, visulaize, visualize!\n"
      ],
      "metadata": {
        "id": "pfNaYqwUj6GK"
      }
    },
    {
      "cell_type": "code",
      "source": [
        "def plot_predictions(train_data=X_train,\n",
        "                     train_labels=y_train,\n",
        "                     test_data=X_test,\n",
        "                     test_labels=y_test,\n",
        "                     predictions=None):\n",
        "  \"\"\"\n",
        "  Plots training data, test data, and compares predictions\n",
        "  \"\"\"\n",
        "  plt.figure(figsize=(10, 7))\n",
        "\n",
        "  # Plot training data in blue\n",
        "  plt.scatter(train_data, train_labels, c=\"b\", s=4, label=\"Training data\")\n",
        "\n",
        "  # Plot test data in green\n",
        "  plt.scatter(test_data, test_labels, c=\"g\", s=4, label=\"Test data\")\n",
        "\n",
        "  # Are there any predictions?\n",
        "  if predictions is not None:\n",
        "    # Plot the predictions if exist\n",
        "    plt.scatter(test_data, predictions, c=\"r\", s=4, label=\"Predictions\")\n",
        "\n",
        "  # Show the legend\n",
        "  plt.legend(prop={\"size\": 14})\n"
      ],
      "metadata": {
        "id": "T6yB-ajLkOt4"
      },
      "execution_count": 9,
      "outputs": []
    },
    {
      "cell_type": "code",
      "source": [
        "plot_predictions()"
      ],
      "metadata": {
        "colab": {
          "base_uri": "https://localhost:8080/",
          "height": 599
        },
        "id": "8O1JdRA6kmLG",
        "outputId": "d50eb4ed-8c6a-4a25-c0ff-ad92054d6388"
      },
      "execution_count": 10,
      "outputs": [
        {
          "output_type": "display_data",
          "data": {
            "text/plain": [
              "<Figure size 1000x700 with 1 Axes>"
            ],
            "image/png": "[encoded data removed]"
          },
          "metadata": {}
        }
      ]
    },
    {
      "cell_type": "markdown",
      "source": [
        "\n",
        "## 2. Build model\n",
        "\n",
        "Our first PyTorch model!\n",
        "\n",
        "What our model does:\n",
        "\n",
        "1. Start with random values (weight and bias)\n",
        "\n",
        "2. Look at training data and adjust the random values to better represent (or get closer to) the ideal values (the weight and bias values we used to create the data)\n",
        "\n",
        "How does it do so?\n",
        "\n",
        "Through 2 main algorithms:\n",
        "1. Gradient descent -\n",
        "2. Back propagation"
      ],
      "metadata": {
        "id": "bLYXqgn9m1rc"
      }
    },
    {
      "cell_type": "code",
      "source": [
        "# Create a linear regression model class\n",
        "\n",
        "class LinearRegressionModel(nn.Module): # almost everything in PyTorch inherits from nn.Model\n",
        "  def __init__(self):\n",
        "    super().__init__()\n",
        "    self.weight = nn.Parameter(torch.randn(1,\n",
        "                                            requires_grad=True,\n",
        "                                            dtype=torch.float))\n",
        "    self.bias = nn.Parameter(torch.randn(1,\n",
        "                                         requires_grad=True,\n",
        "                                         dtype=torch.float))\n",
        "\n",
        "  # Forward method to define the computation in the model\n",
        "  def forward(self, x: torch.Tensor) -> torch.Tensor:  # x is the input data\n",
        "    return self.weight * x + self.bias  # linear regression formula"
      ],
      "metadata": {
        "id": "bOKbpS6yqGSL"
      },
      "execution_count": 11,
      "outputs": []
    },
    {
      "cell_type": "markdown",
      "source": [
        "# Checking the contents of our PyTorch model\n",
        "\n",
        "## Now that we have a model, what is inside?\n",
        "\n",
        "## We can check out our model parameters or what's inside our model using **.parameters()**\n"
      ],
      "metadata": {
        "id": "kOi5qtQ4-xqQ"
      }
    },
    {
      "cell_type": "code",
      "source": [
        "# Let's create a random seed\n",
        "torch.manual_seed(42)\n",
        "\n",
        "# Create an instance of the model (a subclass of nn.Module)\n",
        "model_0 = LinearRegressionModel()\n",
        "\n",
        "# Look at it's parameters\n",
        "list(model_0.parameters())"
      ],
      "metadata": {
        "colab": {
          "base_uri": "https://localhost:8080/"
        },
        "id": "gJi9rq-YGxZj",
        "outputId": "9b7a0a31-64fb-4251-d42e-b18abf8a573c"
      },
      "execution_count": 12,
      "outputs": [
        {
          "output_type": "execute_result",
          "data": {
            "text/plain": [
              "[Parameter containing:\n",
              " tensor([0.3367], requires_grad=True),\n",
              " Parameter containing:\n",
              " tensor([0.1288], requires_grad=True)]"
            ]
          },
          "metadata": {},
          "execution_count": 12
        }
      ]
    },
    {
      "cell_type": "code",
      "source": [
        "# List named parameters\n",
        "model_0.state_dict()"
      ],
      "metadata": {
        "colab": {
          "base_uri": "https://localhost:8080/"
        },
        "id": "Cs6vZq8gHMgo",
        "outputId": "0127fdd8-b296-4978-a0d8-cfda5ff9c234"
      },
      "execution_count": 13,
      "outputs": [
        {
          "output_type": "execute_result",
          "data": {
            "text/plain": [
              "OrderedDict([('weight', tensor([0.3367])), ('bias', tensor([0.1288]))])"
            ]
          },
          "metadata": {},
          "execution_count": 13
        }
      ]
    },
    {
      "cell_type": "code",
      "source": [
        "weight, bias"
      ],
      "metadata": {
        "colab": {
          "base_uri": "https://localhost:8080/"
        },
        "id": "_ePA8763H-Cu",
        "outputId": "4e1646dc-d803-4741-9bb4-b4ed35cff60e"
      },
      "execution_count": 14,
      "outputs": [
        {
          "output_type": "execute_result",
          "data": {
            "text/plain": [
              "(0.7, 0.3)"
            ]
          },
          "metadata": {},
          "execution_count": 14
        }
      ]
    },
    {
      "cell_type": "markdown",
      "source": [
        "### Making predictions using `torch.inference_mode()`\n",
        "\n",
        "To check our model's predictive power, let's see how well it predicts `X_test` and `y_test`\n",
        "\n",
        "When we pass data through our model, it's going to run it through the `forward()` method"
      ],
      "metadata": {
        "id": "cBc-M92pIaSP"
      }
    },
    {
      "cell_type": "code",
      "source": [
        "X_test, y_test"
      ],
      "metadata": {
        "colab": {
          "base_uri": "https://localhost:8080/"
        },
        "id": "5oSclg9XJqZp",
        "outputId": "f3ba5cf3-cb5f-4e78-83f3-fdc2915a0a85"
      },
      "execution_count": 15,
      "outputs": [
        {
          "output_type": "execute_result",
          "data": {
            "text/plain": [
              "(tensor([[0.8000],\n",
              "         [0.8200],\n",
              "         [0.8400],\n",
              "         [0.8600],\n",
              "         [0.8800],\n",
              "         [0.9000],\n",
              "         [0.9200],\n",
              "         [0.9400],\n",
              "         [0.9600],\n",
              "         [0.9800]]),\n",
              " tensor([[0.8600],\n",
              "         [0.8740],\n",
              "         [0.8880],\n",
              "         [0.9020],\n",
              "         [0.9160],\n",
              "         [0.9300],\n",
              "         [0.9440],\n",
              "         [0.9580],\n",
              "         [0.9720],\n",
              "         [0.9860]]))"
            ]
          },
          "metadata": {},
          "execution_count": 15
        }
      ]
    },
    {
      "cell_type": "code",
      "source": [
        "# Make predictions with model\n",
        "with torch.inference_mode():\n",
        "  y_preds = model_0(X_test)\n",
        "\n",
        "y_preds"
      ],
      "metadata": {
        "colab": {
          "base_uri": "https://localhost:8080/"
        },
        "id": "E0vJQR06JYTQ",
        "outputId": "e414acdc-f2f7-404b-cb76-acb98ec78586"
      },
      "execution_count": 16,
      "outputs": [
        {
          "output_type": "execute_result",
          "data": {
            "text/plain": [
              "tensor([[0.3982],\n",
              "        [0.4049],\n",
              "        [0.4116],\n",
              "        [0.4184],\n",
              "        [0.4251],\n",
              "        [0.4318],\n",
              "        [0.4386],\n",
              "        [0.4453],\n",
              "        [0.4520],\n",
              "        [0.4588]])"
            ]
          },
          "metadata": {},
          "execution_count": 16
        }
      ]
    },
    {
      "cell_type": "code",
      "source": [
        "plot_predictions(predictions=y_preds)"
      ],
      "metadata": {
        "colab": {
          "base_uri": "https://localhost:8080/",
          "height": 599
        },
        "id": "Zfo8sO77KxkF",
        "outputId": "d900fa0f-5b42-4876-85b0-e18e090e6684"
      },
      "execution_count": 17,
      "outputs": [
        {
          "output_type": "display_data",
          "data": {
            "text/plain": [
              "<Figure size 1000x700 with 1 Axes>"
            ],
            "image/png": "[encoded data removed]"
          },
          "metadata": {}
        }
      ]
    },
    {
      "cell_type": "markdown",
      "source": [
        "\n",
        "## 3. Train model\n",
        "\n",
        "The whole idea of training is for the model to move from some **unknown** parameters to **known** parameter\n",
        "\n",
        "In other words, from a poor representation to a better representation\n",
        "\n",
        "**Need to measure how wrong our predictions are**\n",
        "\n",
        "In machine learning, we use loss functions to measure this metric\n",
        "\n",
        "* Note: Loss function may also be called criterion or cost function\n",
        "\n",
        "* **Loss function:** A function to measure how **wrong** your model's predictions are to the ideal output, lower is better.\n",
        "\n",
        "Things we need to train:\n",
        "\n",
        "* **Loss Function:** A function to measure how wrong your model's predictions are to the ideal outputs, lower is better.\n",
        "* **Optimizer:** Takes into acount the loss of a model and adjusts the model's parameters (e.g. weight and bias in our case)\n",
        "\n",
        "  * Inside the optimizer you'll often have to set two parameters:\n",
        "    * params - the model parameters you'd like to optimize, for example params=model_0.parameters()\n",
        "    * lr (learning rate) - the learning rate is a hyperparameter that defines how big/small the optimizer changes the parameters with each step (a small lr results in small changes, a larger lr results in large changes)\n",
        "\n",
        "And for PyTorch, we need:\n",
        "\n",
        "* A **training loop**\n",
        "* A **testing loop**"
      ],
      "metadata": {
        "id": "zQD3hx3IK7VH"
      }
    },
    {
      "cell_type": "code",
      "source": [
        "# Check out our model's parameters (a parameter is a value that the model sets itself)\n",
        "model_0.state_dict()"
      ],
      "metadata": {
        "colab": {
          "base_uri": "https://localhost:8080/"
        },
        "id": "CoSx-Wf5M22z",
        "outputId": "6b85006e-b0da-4abf-b0d5-28d656337fbb"
      },
      "execution_count": 18,
      "outputs": [
        {
          "output_type": "execute_result",
          "data": {
            "text/plain": [
              "OrderedDict([('weight', tensor([0.3367])), ('bias', tensor([0.1288]))])"
            ]
          },
          "metadata": {},
          "execution_count": 18
        }
      ]
    },
    {
      "cell_type": "code",
      "source": [
        "# Setup a loss function\n",
        "loss_fn = nn.L1Loss()\n",
        "\n",
        "# Setup an optimizer (stochastic gradient descent)\n",
        "optimizer = torch.optim.SGD(params=model_0.parameters(),\n",
        "                            lr=0.01) # lr = learning rate = possibly the most important hyperparameter\n"
      ],
      "metadata": {
        "id": "SI6h2Kq0fF97"
      },
      "execution_count": 19,
      "outputs": []
    },
    {
      "cell_type": "markdown",
      "source": [
        "# Building a training loop in PyTorch and a testing loop\n",
        "\n",
        "A couple of things we need in a training loop:\n",
        "0. Loop through the data\n",
        "1. Forward pass (this involves data moving thorugh our model's `forward()` functions to make predictions on data - also called forward propagation - from input layer to output layer\n",
        "2. Calculate the loss (compare forward pass predictions to ground truth labels)\n",
        "3. Optimizer zero grad\n",
        "4. Loss backward - move backwards through the network to calculate the gradients of each of the parameters of our model with respect to the loss (**back propagation**)\n",
        "5. Optimizer step - use the optimizer to adjust our model's parameters to try and improve the loss (**gradient descent**)\n"
      ],
      "metadata": {
        "id": "lOJEpyZNkhm6"
      }
    },
    {
      "cell_type": "code",
      "source": [
        "'''\n",
        "# An epoch is one loop through the data...\n",
        "# This is a hyperparameter because we've set it manually\n",
        "epochs = 1\n",
        "\n",
        "### Training\n",
        "# 0. Loop through the data\n",
        "for epoch in range(epochs):\n",
        "  # Set the model to training mode\n",
        "  model_0.train() # train mode in PyTorch sets all parameters that require gradients to require gradients\n",
        "\n",
        "  #1. Forward pass\n",
        "  y_pred = model_0(X_train)\n",
        "\n",
        "  # 2. Calulate the loss\n",
        "  loss = loss_fn(y_pred, y_train)\n",
        "\n",
        "  # 3. Optimizer zero grad\n",
        "  optimizer.zero_grad() # start fresh with each new iteration\n",
        "\n",
        "  # 4. Perform backpropagation on the loss with respect to the parameters of the model.\n",
        "  loss.backward()\n",
        "\n",
        "  # 5. Step the optimizer (perform gradient descent\n",
        "  optimizer.step() # by default how the optimizer changes will accumulate through the loop so we have to zero them above in step 3 for the next iteration\n",
        "\n",
        "\n",
        "  # model_0.eval() # turns off gradient tracking\n",
        "  '''\n"
      ],
      "metadata": {
        "colab": {
          "base_uri": "https://localhost:8080/",
          "height": 105
        },
        "id": "KMWmtnI3nhYC",
        "outputId": "71424fd4-15f9-4e59-a2dc-411c6a1ad8bc"
      },
      "execution_count": 20,
      "outputs": [
        {
          "output_type": "execute_result",
          "data": {
            "text/plain": [
              "\"\\n# An epoch is one loop through the data...\\n# This is a hyperparameter because we've set it manually\\nepochs = 1\\n\\n### Training\\n# 0. Loop through the data\\nfor epoch in range(epochs):\\n  # Set the model to training mode\\n  model_0.train() # train mode in PyTorch sets all parameters that require gradients to require gradients\\n\\n  #1. Forward pass\\n  y_pred = model_0(X_train)\\n\\n  # 2. Calulate the loss\\n  loss = loss_fn(y_pred, y_train)\\n\\n  # 3. Optimizer zero grad\\n  optimizer.zero_grad() # start fresh with each new iteration\\n\\n  # 4. Perform backpropagation on the loss with respect to the parameters of the model.\\n  loss.backward()\\n\\n  # 5. Step the optimizer (perform gradient descent\\n  optimizer.step() # by default how the optimizer changes will accumulate through the loop so we have to zero them above in step 3 for the next iteration\\n\\n\\n  # model_0.eval() # turns off gradient tracking\\n  \""
            ],
            "application/vnd.google.colaboratory.intrinsic+json": {
              "type": "string"
            }
          },
          "metadata": {},
          "execution_count": 20
        }
      ]
    },
    {
      "cell_type": "code",
      "source": [
        "torch.manual_seed(42)\n",
        "# need iterable that determines number of loops\n",
        "epochs_2 = 200\n",
        "\n",
        "# Track different values in lists\n",
        "epoch_count = []\n",
        "loss_values = []\n",
        "test_loss_values = []\n",
        "\n",
        "for epoch in range(epochs_2):\n",
        "  # set training mode\n",
        "  model_0.train()\n",
        "\n",
        "  # forward pass\n",
        "  y_predictions = model_0(X_train)\n",
        "  # print(f\"\")\n",
        "\n",
        "  # calculate the loss\n",
        "  loss = loss_fn(y_predictions, y_train)\n",
        "  # print(f\"Loss: {loss}\")\n",
        "\n",
        "  # zero optimizer for next iteration\n",
        "  optimizer.zero_grad()\n",
        "\n",
        "  # back propagation\n",
        "  loss.backward()\n",
        "\n",
        "  # optimizer gradient descent\n",
        "  optimizer.step()\n",
        "\n",
        "  # Testing loop starts here\n",
        "  model_0.eval() # turns off different settings in the model not needed for evaluation/testing\n",
        "\n",
        "  with torch.inference_mode(): # turns off gradient tracking and a couple more things\n",
        "    # Can also use torch.no_grad(), which is an older version of inference_mode()\n",
        "    # 1. Do the forward pass\n",
        "    test_predictions = model_0(X_test)\n",
        "\n",
        "    # 2. Calculate the loss\n",
        "    test_loss = loss_fn(test_predictions, y_test)\n",
        "\n",
        "  if epoch % 10 == 0:\n",
        "    epoch_count.append(epoch)\n",
        "    loss_values.append(loss)\n",
        "    test_loss_values.append(test_loss)\n",
        "    print(f\"Epoch: {epoch} | Loss: {loss} | Test Loss: {test_loss}\")\n",
        "\n",
        "    # Print out the model state_dict()\n",
        "    print(model_0.state_dict())\n",
        "\n"
      ],
      "metadata": {
        "colab": {
          "base_uri": "https://localhost:8080/"
        },
        "id": "xs47ByLm-pG9",
        "outputId": "5adad3be-6985-4de6-f278-4704141f2536"
      },
      "execution_count": 21,
      "outputs": [
        {
          "output_type": "stream",
          "name": "stdout",
          "text": [
            "Epoch: 0 | Loss: 0.31288138031959534 | Test Loss: 0.48106518387794495\n",
            "OrderedDict([('weight', tensor([0.3406])), ('bias', tensor([0.1388]))])\n",
            "Epoch: 10 | Loss: 0.1976713240146637 | Test Loss: 0.3463551998138428\n",
            "OrderedDict([('weight', tensor([0.3796])), ('bias', tensor([0.2388]))])\n",
            "Epoch: 20 | Loss: 0.08908725529909134 | Test Loss: 0.21729660034179688\n",
            "OrderedDict([('weight', tensor([0.4184])), ('bias', tensor([0.3333]))])\n",
            "Epoch: 30 | Loss: 0.053148526698350906 | Test Loss: 0.14464017748832703\n",
            "OrderedDict([('weight', tensor([0.4512])), ('bias', tensor([0.3768]))])\n",
            "Epoch: 40 | Loss: 0.04543796554207802 | Test Loss: 0.11360953003168106\n",
            "OrderedDict([('weight', tensor([0.4748])), ('bias', tensor([0.3868]))])\n",
            "Epoch: 50 | Loss: 0.04167863354086876 | Test Loss: 0.09919948130846024\n",
            "OrderedDict([('weight', tensor([0.4938])), ('bias', tensor([0.3843]))])\n",
            "Epoch: 60 | Loss: 0.03818932920694351 | Test Loss: 0.08886633068323135\n",
            "OrderedDict([('weight', tensor([0.5116])), ('bias', tensor([0.3788]))])\n",
            "Epoch: 70 | Loss: 0.03476089984178543 | Test Loss: 0.0805937647819519\n",
            "OrderedDict([('weight', tensor([0.5288])), ('bias', tensor([0.3718]))])\n",
            "Epoch: 80 | Loss: 0.03132382780313492 | Test Loss: 0.07232122868299484\n",
            "OrderedDict([('weight', tensor([0.5459])), ('bias', tensor([0.3648]))])\n",
            "Epoch: 90 | Loss: 0.02788739837706089 | Test Loss: 0.06473556160926819\n",
            "OrderedDict([('weight', tensor([0.5629])), ('bias', tensor([0.3573]))])\n",
            "Epoch: 100 | Loss: 0.024458957836031914 | Test Loss: 0.05646304413676262\n",
            "OrderedDict([('weight', tensor([0.5800])), ('bias', tensor([0.3503]))])\n",
            "Epoch: 110 | Loss: 0.021020207554101944 | Test Loss: 0.04819049686193466\n",
            "OrderedDict([('weight', tensor([0.5972])), ('bias', tensor([0.3433]))])\n",
            "Epoch: 120 | Loss: 0.01758546568453312 | Test Loss: 0.04060482233762741\n",
            "OrderedDict([('weight', tensor([0.6141])), ('bias', tensor([0.3358]))])\n",
            "Epoch: 130 | Loss: 0.014155393466353416 | Test Loss: 0.03233227878808975\n",
            "OrderedDict([('weight', tensor([0.6313])), ('bias', tensor([0.3288]))])\n",
            "Epoch: 140 | Loss: 0.010716589167714119 | Test Loss: 0.024059748277068138\n",
            "OrderedDict([('weight', tensor([0.6485])), ('bias', tensor([0.3218]))])\n",
            "Epoch: 150 | Loss: 0.0072835334576666355 | Test Loss: 0.016474086791276932\n",
            "OrderedDict([('weight', tensor([0.6654])), ('bias', tensor([0.3143]))])\n",
            "Epoch: 160 | Loss: 0.0038517764769494534 | Test Loss: 0.008201557211577892\n",
            "OrderedDict([('weight', tensor([0.6826])), ('bias', tensor([0.3073]))])\n",
            "Epoch: 170 | Loss: 0.008932482451200485 | Test Loss: 0.005023092031478882\n",
            "OrderedDict([('weight', tensor([0.6951])), ('bias', tensor([0.2993]))])\n",
            "Epoch: 180 | Loss: 0.008932482451200485 | Test Loss: 0.005023092031478882\n",
            "OrderedDict([('weight', tensor([0.6951])), ('bias', tensor([0.2993]))])\n",
            "Epoch: 190 | Loss: 0.008932482451200485 | Test Loss: 0.005023092031478882\n",
            "OrderedDict([('weight', tensor([0.6951])), ('bias', tensor([0.2993]))])\n"
          ]
        }
      ]
    },
    {
      "cell_type": "code",
      "source": [
        "epoch_count"
      ],
      "metadata": {
        "colab": {
          "base_uri": "https://localhost:8080/"
        },
        "id": "DKGu_B_owxnx",
        "outputId": "c6e3139d-9c92-49cf-a298-b54b523a0e8e"
      },
      "execution_count": 22,
      "outputs": [
        {
          "output_type": "execute_result",
          "data": {
            "text/plain": [
              "[0,\n",
              " 10,\n",
              " 20,\n",
              " 30,\n",
              " 40,\n",
              " 50,\n",
              " 60,\n",
              " 70,\n",
              " 80,\n",
              " 90,\n",
              " 100,\n",
              " 110,\n",
              " 120,\n",
              " 130,\n",
              " 140,\n",
              " 150,\n",
              " 160,\n",
              " 170,\n",
              " 180,\n",
              " 190]"
            ]
          },
          "metadata": {},
          "execution_count": 22
        }
      ]
    },
    {
      "cell_type": "code",
      "source": [
        "loss_values"
      ],
      "metadata": {
        "colab": {
          "base_uri": "https://localhost:8080/"
        },
        "id": "B2TPLqiBw6JD",
        "outputId": "171b7c0a-616f-4a71-c884-fce0acedcaa3"
      },
      "execution_count": 23,
      "outputs": [
        {
          "output_type": "execute_result",
          "data": {
            "text/plain": [
              "[tensor(0.3129, grad_fn=<MeanBackward0>),\n",
              " tensor(0.1977, grad_fn=<MeanBackward0>),\n",
              " tensor(0.0891, grad_fn=<MeanBackward0>),\n",
              " tensor(0.0531, grad_fn=<MeanBackward0>),\n",
              " tensor(0.0454, grad_fn=<MeanBackward0>),\n",
              " tensor(0.0417, grad_fn=<MeanBackward0>),\n",
              " tensor(0.0382, grad_fn=<MeanBackward0>),\n",
              " tensor(0.0348, grad_fn=<MeanBackward0>),\n",
              " tensor(0.0313, grad_fn=<MeanBackward0>),\n",
              " tensor(0.0279, grad_fn=<MeanBackward0>),\n",
              " tensor(0.0245, grad_fn=<MeanBackward0>),\n",
              " tensor(0.0210, grad_fn=<MeanBackward0>),\n",
              " tensor(0.0176, grad_fn=<MeanBackward0>),\n",
              " tensor(0.0142, grad_fn=<MeanBackward0>),\n",
              " tensor(0.0107, grad_fn=<MeanBackward0>),\n",
              " tensor(0.0073, grad_fn=<MeanBackward0>),\n",
              " tensor(0.0039, grad_fn=<MeanBackward0>),\n",
              " tensor(0.0089, grad_fn=<MeanBackward0>),\n",
              " tensor(0.0089, grad_fn=<MeanBackward0>),\n",
              " tensor(0.0089, grad_fn=<MeanBackward0>)]"
            ]
          },
          "metadata": {},
          "execution_count": 23
        }
      ]
    },
    {
      "cell_type": "code",
      "source": [
        "test_loss_values"
      ],
      "metadata": {
        "colab": {
          "base_uri": "https://localhost:8080/"
        },
        "id": "WGiF_G5Mw7H9",
        "outputId": "e4244dee-3792-4d65-c357-44299763cc18"
      },
      "execution_count": 24,
      "outputs": [
        {
          "output_type": "execute_result",
          "data": {
            "text/plain": [
              "[tensor(0.4811),\n",
              " tensor(0.3464),\n",
              " tensor(0.2173),\n",
              " tensor(0.1446),\n",
              " tensor(0.1136),\n",
              " tensor(0.0992),\n",
              " tensor(0.0889),\n",
              " tensor(0.0806),\n",
              " tensor(0.0723),\n",
              " tensor(0.0647),\n",
              " tensor(0.0565),\n",
              " tensor(0.0482),\n",
              " tensor(0.0406),\n",
              " tensor(0.0323),\n",
              " tensor(0.0241),\n",
              " tensor(0.0165),\n",
              " tensor(0.0082),\n",
              " tensor(0.0050),\n",
              " tensor(0.0050),\n",
              " tensor(0.0050)]"
            ]
          },
          "metadata": {},
          "execution_count": 24
        }
      ]
    },
    {
      "cell_type": "code",
      "source": [
        "# Plot the loss curves\n",
        "import numpy as np\n",
        "# Remember that matplotlib requires numpy, so PyTorch tensors must be converted to numpy arrays using np.array(torch.tensor(loss_values).numpy())\n",
        "plt.plot(epoch_count, np.array(torch.tensor(loss_values).numpy()), label=\"Train loss\")\n",
        "plt.plot(epoch_count, np.array(torch.tensor(test_loss_values).numpy()), label=\"Test loss\")\n",
        "plt.title(\"training and test loss curves\")\n",
        "plt.xlabel(\"Epochs\")\n",
        "plt.ylabel(\"Loss\")\n",
        "plt.legend()"
      ],
      "metadata": {
        "colab": {
          "base_uri": "https://localhost:8080/",
          "height": 489
        },
        "id": "kKkhWue-wtO2",
        "outputId": "765349be-93b6-491f-db8b-056bc2a0150e"
      },
      "execution_count": 25,
      "outputs": [
        {
          "output_type": "execute_result",
          "data": {
            "text/plain": [
              "<matplotlib.legend.Legend at 0x78e3a3a47100>"
            ]
          },
          "metadata": {},
          "execution_count": 25
        },
        {
          "output_type": "display_data",
          "data": {
            "text/plain": [
              "<Figure size 640x480 with 1 Axes>"
            ],
            "image/png": "[encoded data removed]"
          },
          "metadata": {}
        }
      ]
    },
    {
      "cell_type": "code",
      "source": [
        "with torch.inference_mode():\n",
        "  y_preds_new = model_0(X_test)\n",
        "\n",
        "print(model_0.state_dict())\n",
        "\n",
        "weight, bias"
      ],
      "metadata": {
        "colab": {
          "base_uri": "https://localhost:8080/"
        },
        "id": "aVDZmtZhQdyG",
        "outputId": "80b7318b-9656-4723-c541-c9f3d20188ad"
      },
      "execution_count": 26,
      "outputs": [
        {
          "output_type": "stream",
          "name": "stdout",
          "text": [
            "OrderedDict([('weight', tensor([0.6990])), ('bias', tensor([0.3093]))])\n"
          ]
        },
        {
          "output_type": "execute_result",
          "data": {
            "text/plain": [
              "(0.7, 0.3)"
            ]
          },
          "metadata": {},
          "execution_count": 26
        }
      ]
    },
    {
      "cell_type": "code",
      "source": [
        "plot_predictions(predictions=y_preds)"
      ],
      "metadata": {
        "colab": {
          "base_uri": "https://localhost:8080/",
          "height": 599
        },
        "id": "Gr7EONoDRA7f",
        "outputId": "b14381fe-bbf0-4d0c-b505-aba469e83dd1"
      },
      "execution_count": 27,
      "outputs": [
        {
          "output_type": "display_data",
          "data": {
            "text/plain": [
              "<Figure size 1000x700 with 1 Axes>"
            ],
            "image/png": "[encoded data removed]"
          },
          "metadata": {}
        }
      ]
    },
    {
      "cell_type": "code",
      "source": [
        "plot_predictions(predictions=y_preds_new)"
      ],
      "metadata": {
        "colab": {
          "base_uri": "https://localhost:8080/",
          "height": 599
        },
        "id": "ZGGqt3CpIbYm",
        "outputId": "2508b75c-7e70-4315-fea5-dd4cbeb8c49a"
      },
      "execution_count": 28,
      "outputs": [
        {
          "output_type": "display_data",
          "data": {
            "text/plain": [
              "<Figure size 1000x700 with 1 Axes>"
            ],
            "image/png": "[encoded data removed]"
          },
          "metadata": {}
        }
      ]
    },
    {
      "cell_type": "markdown",
      "source": [
        "from IPython.core.interactiveshell import PyColorize\n",
        "## Saving a model in PyTorch\n",
        "https://pytorch.org/tutorials/beginner/saving_loading_models.html?highlight=saving%20loading\n",
        "\n",
        "There are three main mthods you shoul know about for saving and loading models in PyTorch\n",
        "\n",
        "1. `torch.save()` - allows you to save a PyTorch object in Python's pickle format\n",
        "2. `torch.load()` - allows you to load a saved PyTorch object\n",
        "\n",
        "3. `torch.nn.Module.load_state_dict()` - allows to load a model's saved state dictionary\n",
        "\n"
      ],
      "metadata": {
        "id": "QqaWzHi3Pqrg"
      }
    },
    {
      "cell_type": "code",
      "source": [
        "# Saving our PyTorch model\n",
        "from pathlib import Path\n",
        "\n",
        "# 1. Create models directory\n",
        "MODEL_PATH = Path(\"models\")\n",
        "MODEL_PATH.mkdir(parents=True, exist_ok=True)\n",
        "\n",
        "# 2. Create model save path\n",
        "MODEL_NAME = \"01_pytorch_workflow_model_0.pth\"\n",
        "MODEL_SAVE_PATH = MODEL_PATH / MODEL_NAME\n",
        "\n",
        "# 3. Save model.state_dict()\n",
        "torch.save(model_0.state_dict(), MODEL_SAVE_PATH)"
      ],
      "metadata": {
        "id": "NCXA97R0RA5_"
      },
      "execution_count": 29,
      "outputs": []
    },
    {
      "cell_type": "code",
      "source": [
        "!ls -la models"
      ],
      "metadata": {
        "colab": {
          "base_uri": "https://localhost:8080/"
        },
        "id": "t8FZfKq3RENS",
        "outputId": "360e3680-6ee3-470c-8a81-8493925be933"
      },
      "execution_count": 30,
      "outputs": [
        {
          "output_type": "stream",
          "name": "stdout",
          "text": [
            "total 12\n",
            "drwxr-xr-x 2 root root 4096 Sep 18 01:58 .\n",
            "drwxr-xr-x 1 root root 4096 Sep 18 01:58 ..\n",
            "-rw-r--r-- 1 root root 1207 Sep 18 01:58 01_pytorch_workflow_model_0.pth\n"
          ]
        }
      ]
    },
    {
      "cell_type": "markdown",
      "source": [
        "## Loading a PyTorch model that was saved using torch.save()\n",
        "\n",
        "Since we saved our model's `state_dict()` rather than the entire model, we'll create a new instance of our model class and load thje saved `state_dict()` into that.\n"
      ],
      "metadata": {
        "id": "vr1t1rVqVpyP"
      }
    },
    {
      "cell_type": "code",
      "source": [
        "# To load in a saved state_dict(), we have to instantiate a new instance of our model class\n",
        "loaded_model_0 = LinearRegressionModel()\n",
        "\n",
        "# Load the saved state_dict()) of model_0 ( this will update the new instance with updated parameters)\n",
        "loaded_model_0.load_state_dict(torch.load(MODEL_SAVE_PATH))"
      ],
      "metadata": {
        "colab": {
          "base_uri": "https://localhost:8080/"
        },
        "id": "S4T0zYHzWbGX",
        "outputId": "fff8a51c-482e-4b92-be39-a4b03483b11b"
      },
      "execution_count": 31,
      "outputs": [
        {
          "output_type": "execute_result",
          "data": {
            "text/plain": [
              "<All keys matched successfully>"
            ]
          },
          "metadata": {},
          "execution_count": 31
        }
      ]
    },
    {
      "cell_type": "code",
      "source": [
        "loaded_model_0.state_dict(), model_0.state_dict()"
      ],
      "metadata": {
        "colab": {
          "base_uri": "https://localhost:8080/"
        },
        "id": "LYn53friXLiH",
        "outputId": "433f0edd-ced9-4e7e-ed3f-61c7a9c53538"
      },
      "execution_count": 32,
      "outputs": [
        {
          "output_type": "execute_result",
          "data": {
            "text/plain": [
              "(OrderedDict([('weight', tensor([0.6990])), ('bias', tensor([0.3093]))]),\n",
              " OrderedDict([('weight', tensor([0.6990])), ('bias', tensor([0.3093]))]))"
            ]
          },
          "metadata": {},
          "execution_count": 32
        }
      ]
    },
    {
      "cell_type": "code",
      "source": [
        "# Make some predictions with our loaded model\n",
        "# 1. set model state to eval()\n",
        "loaded_model_0.eval()\n",
        "\n",
        "# 2. Use inference mode\n",
        "with torch.inference_mode():\n",
        "  loaded_model_0_preds = loaded_model_0(X_test)\n",
        "\n",
        "plot_predictions(predictions=loaded_model_0_preds)"
      ],
      "metadata": {
        "colab": {
          "base_uri": "https://localhost:8080/",
          "height": 599
        },
        "id": "z3enW_4cXTLd",
        "outputId": "b8aa4bff-3b16-410c-b5a6-d2bf523a0b78"
      },
      "execution_count": 33,
      "outputs": [
        {
          "output_type": "display_data",
          "data": {
            "text/plain": [
              "<Figure size 1000x700 with 1 Axes>"
            ],
            "image/png": "[encoded data removed]"
          },
          "metadata": {}
        }
      ]
    },
    {
      "cell_type": "code",
      "source": [
        "loaded_model_0_preds == y_preds_new"
      ],
      "metadata": {
        "colab": {
          "base_uri": "https://localhost:8080/"
        },
        "id": "bYHiW2vUY0-j",
        "outputId": "4a4d3f96-1738-439c-cce1-a2f755781f55"
      },
      "execution_count": 34,
      "outputs": [
        {
          "output_type": "execute_result",
          "data": {
            "text/plain": [
              "tensor([[True],\n",
              "        [True],\n",
              "        [True],\n",
              "        [True],\n",
              "        [True],\n",
              "        [True],\n",
              "        [True],\n",
              "        [True],\n",
              "        [True],\n",
              "        [True]])"
            ]
          },
          "metadata": {},
          "execution_count": 34
        }
      ]
    },
    {
      "cell_type": "markdown",
      "source": [
        "## 6. Putting it all together\n",
        "\n",
        "Let's go back through the steps above and see it all in one place"
      ],
      "metadata": {
        "id": "t7fEpqrZZtCB"
      }
    },
    {
      "cell_type": "code",
      "source": [
        "# Import PyTorch and matplotlib\n",
        "import torch\n",
        "from torch import nn\n",
        "import matplotlib.pyplot as plt\n",
        "torch.__version__"
      ],
      "metadata": {
        "colab": {
          "base_uri": "https://localhost:8080/",
          "height": 36
        },
        "id": "pJVYVXvqaS4l",
        "outputId": "90e8e65b-2c49-4d32-806e-4632870f075c"
      },
      "execution_count": 35,
      "outputs": [
        {
          "output_type": "execute_result",
          "data": {
            "text/plain": [
              "'2.0.1+cu118'"
            ],
            "application/vnd.google.colaboratory.intrinsic+json": {
              "type": "string"
            }
          },
          "metadata": {},
          "execution_count": 35
        }
      ]
    },
    {
      "cell_type": "code",
      "source": [
        "# Create device agnostic code\n",
        "# If we have access to a gpu, then our code will use it ( for faster computing)\n",
        "# If no gpu available, then code will default to use cpu.\n",
        "\n",
        "device = \"cuda\" if torch.cuda.is_available() else \"cpu\"\n",
        "print(f\"Using: {device}\")"
      ],
      "metadata": {
        "colab": {
          "base_uri": "https://localhost:8080/"
        },
        "id": "SysYl9k1avgQ",
        "outputId": "de56f6e0-db33-4fc8-d9fc-3dfe250f42e0"
      },
      "execution_count": 36,
      "outputs": [
        {
          "output_type": "stream",
          "name": "stdout",
          "text": [
            "Using: cuda\n"
          ]
        }
      ]
    },
    {
      "cell_type": "code",
      "source": [
        "!nvidia-smi"
      ],
      "metadata": {
        "colab": {
          "base_uri": "https://localhost:8080/"
        },
        "id": "N6gowMKpbgsH",
        "outputId": "2e95f21a-eb78-4e52-f9cd-564472f59d88"
      },
      "execution_count": 37,
      "outputs": [
        {
          "output_type": "stream",
          "name": "stdout",
          "text": [
            "Mon Sep 18 01:58:46 2023       \n",
            "+-----------------------------------------------------------------------------+\n",
            "| NVIDIA-SMI 525.105.17   Driver Version: 525.105.17   CUDA Version: 12.0     |\n",
            "|-------------------------------+----------------------+----------------------+\n",
            "| GPU  Name        Persistence-M| Bus-Id        Disp.A | Volatile Uncorr. ECC |\n",
            "| Fan  Temp  Perf  Pwr:Usage/Cap|         Memory-Usage | GPU-Util  Compute M. |\n",
            "|                               |                      |               MIG M. |\n",
            "|===============================+======================+======================|\n",
            "|   0  Tesla T4            Off  | 00000000:00:04.0 Off |                    0 |\n",
            "| N/A   55C    P8    11W /  70W |      3MiB / 15360MiB |      0%      Default |\n",
            "|                               |                      |                  N/A |\n",
            "+-------------------------------+----------------------+----------------------+\n",
            "                                                                               \n",
            "+-----------------------------------------------------------------------------+\n",
            "| Processes:                                                                  |\n",
            "|  GPU   GI   CI        PID   Type   Process name                  GPU Memory |\n",
            "|        ID   ID                                                   Usage      |\n",
            "|=============================================================================|\n",
            "|  No running processes found                                                 |\n",
            "+-----------------------------------------------------------------------------+\n"
          ]
        }
      ]
    },
    {
      "cell_type": "markdown",
      "source": [
        "## 6.1 Data"
      ],
      "metadata": {
        "id": "lkIQj6wbaB7L"
      }
    },
    {
      "cell_type": "code",
      "source": [
        "# Create some data using the linear regression formula of y = weight * x + bias\n",
        "weight = 0.7\n",
        "bias = 0.30\n",
        "\n",
        "# Create a range of values\n",
        "start = 0\n",
        "end = 1\n",
        "step = 0.02\n",
        "X = torch.arange(start, end, step).unsqueeze(dim=1) # without unsqueeze, errors will arise\n",
        "y = weight * X + bias\n",
        "X[:], y[:], len(X), len(y)"
      ],
      "metadata": {
        "colab": {
          "base_uri": "https://localhost:8080/"
        },
        "id": "ikKvmZA5aQsc",
        "outputId": "3260537c-f7f7-465c-d2b5-28ed2e2279e4"
      },
      "execution_count": 38,
      "outputs": [
        {
          "output_type": "execute_result",
          "data": {
            "text/plain": [
              "(tensor([[0.0000],\n",
              "         [0.0200],\n",
              "         [0.0400],\n",
              "         [0.0600],\n",
              "         [0.0800],\n",
              "         [0.1000],\n",
              "         [0.1200],\n",
              "         [0.1400],\n",
              "         [0.1600],\n",
              "         [0.1800],\n",
              "         [0.2000],\n",
              "         [0.2200],\n",
              "         [0.2400],\n",
              "         [0.2600],\n",
              "         [0.2800],\n",
              "         [0.3000],\n",
              "         [0.3200],\n",
              "         [0.3400],\n",
              "         [0.3600],\n",
              "         [0.3800],\n",
              "         [0.4000],\n",
              "         [0.4200],\n",
              "         [0.4400],\n",
              "         [0.4600],\n",
              "         [0.4800],\n",
              "         [0.5000],\n",
              "         [0.5200],\n",
              "         [0.5400],\n",
              "         [0.5600],\n",
              "         [0.5800],\n",
              "         [0.6000],\n",
              "         [0.6200],\n",
              "         [0.6400],\n",
              "         [0.6600],\n",
              "         [0.6800],\n",
              "         [0.7000],\n",
              "         [0.7200],\n",
              "         [0.7400],\n",
              "         [0.7600],\n",
              "         [0.7800],\n",
              "         [0.8000],\n",
              "         [0.8200],\n",
              "         [0.8400],\n",
              "         [0.8600],\n",
              "         [0.8800],\n",
              "         [0.9000],\n",
              "         [0.9200],\n",
              "         [0.9400],\n",
              "         [0.9600],\n",
              "         [0.9800]]),\n",
              " tensor([[0.3000],\n",
              "         [0.3140],\n",
              "         [0.3280],\n",
              "         [0.3420],\n",
              "         [0.3560],\n",
              "         [0.3700],\n",
              "         [0.3840],\n",
              "         [0.3980],\n",
              "         [0.4120],\n",
              "         [0.4260],\n",
              "         [0.4400],\n",
              "         [0.4540],\n",
              "         [0.4680],\n",
              "         [0.4820],\n",
              "         [0.4960],\n",
              "         [0.5100],\n",
              "         [0.5240],\n",
              "         [0.5380],\n",
              "         [0.5520],\n",
              "         [0.5660],\n",
              "         [0.5800],\n",
              "         [0.5940],\n",
              "         [0.6080],\n",
              "         [0.6220],\n",
              "         [0.6360],\n",
              "         [0.6500],\n",
              "         [0.6640],\n",
              "         [0.6780],\n",
              "         [0.6920],\n",
              "         [0.7060],\n",
              "         [0.7200],\n",
              "         [0.7340],\n",
              "         [0.7480],\n",
              "         [0.7620],\n",
              "         [0.7760],\n",
              "         [0.7900],\n",
              "         [0.8040],\n",
              "         [0.8180],\n",
              "         [0.8320],\n",
              "         [0.8460],\n",
              "         [0.8600],\n",
              "         [0.8740],\n",
              "         [0.8880],\n",
              "         [0.9020],\n",
              "         [0.9160],\n",
              "         [0.9300],\n",
              "         [0.9440],\n",
              "         [0.9580],\n",
              "         [0.9720],\n",
              "         [0.9860]]),\n",
              " 50,\n",
              " 50)"
            ]
          },
          "metadata": {},
          "execution_count": 38
        }
      ]
    },
    {
      "cell_type": "code",
      "source": [
        "plt.plot(X,\"r\", label=\"Original values\")\n",
        "plt.plot(y, \"g\", label=\"LR values\")\n",
        "plt.title(\"Linear regression formula applied\")\n",
        "plt.xlabel(\"Range\")\n",
        "plt.ylabel(\"Change\")\n",
        "plt.legend()\n"
      ],
      "metadata": {
        "colab": {
          "base_uri": "https://localhost:8080/",
          "height": 489
        },
        "id": "dYmwZULDeIXZ",
        "outputId": "c5f618e1-5f8c-44f5-a4a3-fdb77e6d0e5f"
      },
      "execution_count": 39,
      "outputs": [
        {
          "output_type": "execute_result",
          "data": {
            "text/plain": [
              "<matplotlib.legend.Legend at 0x78e2d4638e50>"
            ]
          },
          "metadata": {},
          "execution_count": 39
        },
        {
          "output_type": "display_data",
          "data": {
            "text/plain": [
              "<Figure size 640x480 with 1 Axes>"
            ],
            "image/png": "[encoded data removed]"
          },
          "metadata": {}
        }
      ]
    },
    {
      "cell_type": "code",
      "source": [
        "# Split data\n",
        "train_split = int(0.8 * len(X))\n",
        "X_train, y_train = X[:train_split], y[:train_split]\n",
        "X_test, y_test = X[train_split:], y[train_split:]\n",
        "len(X_train), len(y_train), len(X_test), len(y_test)"
      ],
      "metadata": {
        "colab": {
          "base_uri": "https://localhost:8080/"
        },
        "id": "IQHAKc-nf9qA",
        "outputId": "f28bc89e-0e74-4f9c-baae-a79ad6228c7c"
      },
      "execution_count": 40,
      "outputs": [
        {
          "output_type": "execute_result",
          "data": {
            "text/plain": [
              "(40, 40, 10, 10)"
            ]
          },
          "metadata": {},
          "execution_count": 40
        }
      ]
    },
    {
      "cell_type": "code",
      "source": [
        "plot_predictions(X_train, y_train, X_test, y_test)"
      ],
      "metadata": {
        "colab": {
          "base_uri": "https://localhost:8080/",
          "height": 599
        },
        "id": "i8fKuHzliHzS",
        "outputId": "efdb00b1-138d-4a42-ad18-e22ffd552458"
      },
      "execution_count": 41,
      "outputs": [
        {
          "output_type": "display_data",
          "data": {
            "text/plain": [
              "<Figure size 1000x700 with 1 Axes>"
            ],
            "image/png": "[encoded data removed]"
          },
          "metadata": {}
        }
      ]
    },
    {
      "cell_type": "markdown",
      "source": [
        "# 6.2 Building a PyTorch Linear model\n"
      ],
      "metadata": {
        "id": "Aysqc9v0ibF5"
      }
    },
    {
      "cell_type": "code",
      "source": [
        "# Create a linear model by subclassing nn.Module\n",
        "class LinearRegressionModelV2(nn.Module):\n",
        "  def __init__(self):\n",
        "    super().__init__()\n",
        "    ## Use nn.Linear() for creating the model parameters | also called: linear layer, linear transform, probing layer, fully connected layer, and dense layer.\n",
        "    self.linear_layer = nn.Linear(in_features=1, out_features=1)\n",
        "\n",
        "  def forward(self, x: torch.Tensor) -> torch.Tensor:\n",
        "    return self.linear_layer(x)\n",
        "\n",
        "# Set the manual seed\n",
        "torch.manual_seed(42)\n",
        "model_2 = LinearRegressionModelV2()\n",
        "model_2, model_2.state_dict()"
      ],
      "metadata": {
        "colab": {
          "base_uri": "https://localhost:8080/"
        },
        "id": "1WqUrP7Kipra",
        "outputId": "88599623-27f5-4c91-f92a-7754c0f35613"
      },
      "execution_count": 42,
      "outputs": [
        {
          "output_type": "execute_result",
          "data": {
            "text/plain": [
              "(LinearRegressionModelV2(\n",
              "   (linear_layer): Linear(in_features=1, out_features=1, bias=True)\n",
              " ),\n",
              " OrderedDict([('linear_layer.weight', tensor([[0.7645]])),\n",
              "              ('linear_layer.bias', tensor([0.8300]))]))"
            ]
          },
          "metadata": {},
          "execution_count": 42
        }
      ]
    },
    {
      "cell_type": "code",
      "source": [
        "# Check the model current device\n",
        "next(model_2.parameters()).device"
      ],
      "metadata": {
        "colab": {
          "base_uri": "https://localhost:8080/"
        },
        "id": "dUhQJCzB2TN-",
        "outputId": "7733ad41-4bb8-4b11-c5c0-0278fc70394d"
      },
      "execution_count": 43,
      "outputs": [
        {
          "output_type": "execute_result",
          "data": {
            "text/plain": [
              "device(type='cpu')"
            ]
          },
          "metadata": {},
          "execution_count": 43
        }
      ]
    },
    {
      "cell_type": "code",
      "source": [
        "# Set the model to use the target device\n",
        "model_2.to(device)\n",
        "next(model_2.parameters()).device"
      ],
      "metadata": {
        "colab": {
          "base_uri": "https://localhost:8080/"
        },
        "id": "UCMOdm-w1Xtg",
        "outputId": "235a6e8c-a183-4c5b-b02c-d9e52da0f576"
      },
      "execution_count": 44,
      "outputs": [
        {
          "output_type": "execute_result",
          "data": {
            "text/plain": [
              "device(type='cuda', index=0)"
            ]
          },
          "metadata": {},
          "execution_count": 44
        }
      ]
    },
    {
      "cell_type": "markdown",
      "source": [
        "### 6.3 Training\n",
        "\n",
        "For training we need a:\n",
        "* Loss function\n",
        "* Optimizer\n",
        "* Training loop\n",
        "* Testing loop"
      ],
      "metadata": {
        "id": "gMLJ_JFK2ycp"
      }
    },
    {
      "cell_type": "code",
      "source": [
        "# Setup loss function\n",
        "loss_fn = nn.L1Loss() # same as MAE\n",
        "\n",
        "# Setup our optimizer\n",
        "optimizer = torch.optim.SGD(params=model_2.parameters(), lr=0.001)"
      ],
      "metadata": {
        "id": "bhD0HoxR3I4Z"
      },
      "execution_count": 45,
      "outputs": []
    },
    {
      "cell_type": "code",
      "source": [
        "# Setup a training loop\n",
        "torch.manual_seed(42)\n",
        "\n",
        "epochs = 400\n",
        "\n",
        "# Put data on the target device (device agnpostic code for data)\n",
        "X_train = X_train.to(device)\n",
        "y_train = y_train.to(device)\n",
        "X_test = X_test.to(device)\n",
        "y_test = y_test.to(device)\n",
        "\n",
        "for epoch in range(epochs):\n",
        "  model_2.train()\n",
        "\n",
        "  # 1. Forward pass\n",
        "  y_pred_model_2 = model_2(X_train)\n",
        "\n",
        "  # 2. Calculate the loss\n",
        "  loss = loss_fn(y_pred_model_2, y_train)\n",
        "\n",
        "  # 3. Optimizer zero grad\n",
        "  optimizer.zero_grad()\n",
        "\n",
        "  # 4. Perform backpropagattion\n",
        "  loss.backward()\n",
        "\n",
        "  # 5. Optimizer step\n",
        "  optimizer.step()\n",
        "\n",
        "  ## Testing\n",
        "  model_2.eval()\n",
        "  with torch.inference_mode():\n",
        "    test_pred = model_2(X_test)\n",
        "    test_loss = loss_fn(test_pred, y_test)\n",
        "\n",
        "  # Print what's happening\n",
        "\n",
        "  if epoch % 10 == 0:\n",
        "    print(f\"Epoch: {epoch} | Loss {loss} | Test loss: {test_loss}\")"
      ],
      "metadata": {
        "colab": {
          "base_uri": "https://localhost:8080/"
        },
        "id": "WeUvpiBS3j3Z",
        "outputId": "44599660-9963-483e-9e07-2d72083da1a3"
      },
      "execution_count": 46,
      "outputs": [
        {
          "output_type": "stream",
          "name": "stdout",
          "text": [
            "Epoch: 0 | Loss 0.5551779866218567 | Test loss: 0.5861001014709473\n",
            "Epoch: 10 | Loss 0.5436570644378662 | Test loss: 0.5726293921470642\n",
            "Epoch: 20 | Loss 0.5321362614631653 | Test loss: 0.5591585040092468\n",
            "Epoch: 30 | Loss 0.5206153988838196 | Test loss: 0.5456876754760742\n",
            "Epoch: 40 | Loss 0.5090945363044739 | Test loss: 0.5322169661521912\n",
            "Epoch: 50 | Loss 0.49757376313209534 | Test loss: 0.5187460780143738\n",
            "Epoch: 60 | Loss 0.48605284094810486 | Test loss: 0.5052752494812012\n",
            "Epoch: 70 | Loss 0.47453203797340393 | Test loss: 0.49180442094802856\n",
            "Epoch: 80 | Loss 0.4630111753940582 | Test loss: 0.4783336818218231\n",
            "Epoch: 90 | Loss 0.4514903724193573 | Test loss: 0.4648628234863281\n",
            "Epoch: 100 | Loss 0.4399694502353668 | Test loss: 0.4513919949531555\n",
            "Epoch: 110 | Loss 0.4284486472606659 | Test loss: 0.4379211962223053\n",
            "Epoch: 120 | Loss 0.4169278144836426 | Test loss: 0.4244503974914551\n",
            "Epoch: 130 | Loss 0.4054069519042969 | Test loss: 0.41097956895828247\n",
            "Epoch: 140 | Loss 0.39388611912727356 | Test loss: 0.39750877022743225\n",
            "Epoch: 150 | Loss 0.38236525654792786 | Test loss: 0.38403797149658203\n",
            "Epoch: 160 | Loss 0.37084442377090454 | Test loss: 0.3705671727657318\n",
            "Epoch: 170 | Loss 0.3593235909938812 | Test loss: 0.3570963442325592\n",
            "Epoch: 180 | Loss 0.3478027284145355 | Test loss: 0.343625545501709\n",
            "Epoch: 190 | Loss 0.3362818658351898 | Test loss: 0.33015474677085876\n",
            "Epoch: 200 | Loss 0.3247610330581665 | Test loss: 0.31668388843536377\n",
            "Epoch: 210 | Loss 0.3132402002811432 | Test loss: 0.30321311950683594\n",
            "Epoch: 220 | Loss 0.3017193675041199 | Test loss: 0.28974229097366333\n",
            "Epoch: 230 | Loss 0.29019853472709656 | Test loss: 0.27627143263816833\n",
            "Epoch: 240 | Loss 0.27867767214775085 | Test loss: 0.2628006637096405\n",
            "Epoch: 250 | Loss 0.26715680956840515 | Test loss: 0.2493298500776291\n",
            "Epoch: 260 | Loss 0.25563597679138184 | Test loss: 0.23585906624794006\n",
            "Epoch: 270 | Loss 0.24411511421203613 | Test loss: 0.22238822281360626\n",
            "Epoch: 280 | Loss 0.232594296336174 | Test loss: 0.20891742408275604\n",
            "Epoch: 290 | Loss 0.2210734337568283 | Test loss: 0.19544661045074463\n",
            "Epoch: 300 | Loss 0.209552600979805 | Test loss: 0.18197579681873322\n",
            "Epoch: 310 | Loss 0.19803175330162048 | Test loss: 0.168504998087883\n",
            "Epoch: 320 | Loss 0.18651090562343597 | Test loss: 0.1550341695547104\n",
            "Epoch: 330 | Loss 0.17499005794525146 | Test loss: 0.14156334102153778\n",
            "Epoch: 340 | Loss 0.16346922516822815 | Test loss: 0.12809255719184875\n",
            "Epoch: 350 | Loss 0.15194837749004364 | Test loss: 0.11462175101041794\n",
            "Epoch: 360 | Loss 0.14042751491069794 | Test loss: 0.10115094482898712\n",
            "Epoch: 370 | Loss 0.12890666723251343 | Test loss: 0.08768010139465332\n",
            "Epoch: 380 | Loss 0.11738584190607071 | Test loss: 0.07420932501554489\n",
            "Epoch: 390 | Loss 0.105864979326725 | Test loss: 0.06073850393295288\n"
          ]
        }
      ]
    },
    {
      "cell_type": "code",
      "source": [
        "model_2.state_dict()"
      ],
      "metadata": {
        "colab": {
          "base_uri": "https://localhost:8080/"
        },
        "id": "vuwmWwz14kQ8",
        "outputId": "b0ff0344-2990-4175-edaa-d6dbcd1baf08"
      },
      "execution_count": 47,
      "outputs": [
        {
          "output_type": "execute_result",
          "data": {
            "text/plain": [
              "OrderedDict([('linear_layer.weight', tensor([[0.6085]], device='cuda:0')),\n",
              "             ('linear_layer.bias', tensor([0.4300], device='cuda:0'))])"
            ]
          },
          "metadata": {},
          "execution_count": 47
        }
      ]
    },
    {
      "cell_type": "code",
      "source": [
        "weight, bias"
      ],
      "metadata": {
        "colab": {
          "base_uri": "https://localhost:8080/"
        },
        "id": "NgPu4NBA66ih",
        "outputId": "a667d398-dfd9-4d19-c295-db5223a94ed9"
      },
      "execution_count": 48,
      "outputs": [
        {
          "output_type": "execute_result",
          "data": {
            "text/plain": [
              "(0.7, 0.3)"
            ]
          },
          "metadata": {},
          "execution_count": 48
        }
      ]
    },
    {
      "cell_type": "code",
      "source": [
        "### 6.4 Making and evaluating model\n",
        "\n",
        "# Model must be in evaluation mode\n",
        "model_2.eval()\n",
        "\n",
        "with torch.inference_mode():\n",
        "  y_preds = model_2(X_test)\n"
      ],
      "metadata": {
        "id": "0TGtMolO7Bkl"
      },
      "execution_count": 49,
      "outputs": []
    },
    {
      "cell_type": "code",
      "source": [
        "# Check out our model predicitons visually\n",
        "plot_predictions(predictions=y_preds.cpu())"
      ],
      "metadata": {
        "colab": {
          "base_uri": "https://localhost:8080/",
          "height": 599
        },
        "id": "7I_JLCpG8JR1",
        "outputId": "6290c676-7cc2-40d0-971c-2af0ad2c7c31"
      },
      "execution_count": 50,
      "outputs": [
        {
          "output_type": "display_data",
          "data": {
            "text/plain": [
              "<Figure size 1000x700 with 1 Axes>"
            ],
            "image/png": "[encoded data removed]"
          },
          "metadata": {}
        }
      ]
    },
    {
      "cell_type": "markdown",
      "source": [
        "### 6.5 Saving and loading a trained model"
      ],
      "metadata": {
        "id": "CKJ9Gn5i-nax"
      }
    },
    {
      "cell_type": "code",
      "source": [
        "MODEL_2_NAME = \"pytorch_workflow_model_2.pth\"\n",
        "MODEL_2_SAVE_PATH = MODEL_PATH / MODEL_2_NAME\n",
        "torch.save(model_2.state_dict(), MODEL_2_SAVE_PATH)\n",
        "\n"
      ],
      "metadata": {
        "id": "x5KvfWf3pa1Q"
      },
      "execution_count": 51,
      "outputs": []
    },
    {
      "cell_type": "code",
      "source": [
        "loaded_model_2 = LinearRegressionModelV2()\n",
        "loaded_model_2.load_state_dict(torch.load(MODEL_2_SAVE_PATH))"
      ],
      "metadata": {
        "colab": {
          "base_uri": "https://localhost:8080/"
        },
        "id": "MdN0MX2aq5NQ",
        "outputId": "febc5b94-a6db-414d-a2b1-d50fa3241f9d"
      },
      "execution_count": 52,
      "outputs": [
        {
          "output_type": "execute_result",
          "data": {
            "text/plain": [
              "<All keys matched successfully>"
            ]
          },
          "metadata": {},
          "execution_count": 52
        }
      ]
    },
    {
      "cell_type": "code",
      "source": [
        "loaded_model_2.state_dict(), model_2.state_dict()"
      ],
      "metadata": {
        "colab": {
          "base_uri": "https://localhost:8080/"
        },
        "id": "R3-6fKj7rjBr",
        "outputId": "dcfa7393-fb94-4221-ad48-7505d1a0c554"
      },
      "execution_count": 53,
      "outputs": [
        {
          "output_type": "execute_result",
          "data": {
            "text/plain": [
              "(OrderedDict([('linear_layer.weight', tensor([[0.6085]])),\n",
              "              ('linear_layer.bias', tensor([0.4300]))]),\n",
              " OrderedDict([('linear_layer.weight', tensor([[0.6085]], device='cuda:0')),\n",
              "              ('linear_layer.bias', tensor([0.4300], device='cuda:0'))]))"
            ]
          },
          "metadata": {},
          "execution_count": 53
        }
      ]
    },
    {
      "cell_type": "code",
      "source": [
        "loaded_model_2.to(device)"
      ],
      "metadata": {
        "colab": {
          "base_uri": "https://localhost:8080/"
        },
        "id": "e21eftOxrnLH",
        "outputId": "5d35c6fb-4d3a-412b-c5c1-c8ddac0e2e6f"
      },
      "execution_count": 54,
      "outputs": [
        {
          "output_type": "execute_result",
          "data": {
            "text/plain": [
              "LinearRegressionModelV2(\n",
              "  (linear_layer): Linear(in_features=1, out_features=1, bias=True)\n",
              ")"
            ]
          },
          "metadata": {},
          "execution_count": 54
        }
      ]
    },
    {
      "cell_type": "code",
      "source": [
        "loaded_model_2.eval()\n",
        "with torch.inference_mode():\n",
        "  y_preds = model_2(X_test)\n",
        "\n",
        "plot_predictions(predictions=y_preds.cpu())"
      ],
      "metadata": {
        "colab": {
          "base_uri": "https://localhost:8080/",
          "height": 599
        },
        "id": "inX-u9FMrs-L",
        "outputId": "3d58981d-a3f3-455a-f88c-5b6c47aafe4e"
      },
      "execution_count": 55,
      "outputs": [
        {
          "output_type": "display_data",
          "data": {
            "text/plain": [
              "<Figure size 1000x700 with 1 Axes>"
            ],
            "image/png": "[encoded data removed]"
          },
          "metadata": {}
        }
      ]
    },
    {
      "cell_type": "code",
      "source": [],
      "metadata": {
        "id": "1Pq6S_rQr_-V"
      },
      "execution_count": 55,
      "outputs": []
    }
  ]
}