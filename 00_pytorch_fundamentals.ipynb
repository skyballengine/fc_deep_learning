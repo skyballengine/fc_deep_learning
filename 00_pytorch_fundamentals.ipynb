{
  "nbformat": 4,
  "nbformat_minor": 0,
  "metadata": {
    "colab": {
      "provenance": [],
      "gpuType": "T4",
      "authorship_tag": "ABX9TyNPxV3+jxlwmeLJG8hNKdiv",
      "include_colab_link": true
    },
    "kernelspec": {
      "name": "python3",
      "display_name": "Python 3"
    },
    "language_info": {
      "name": "python"
    },
    "accelerator": "GPU"
  },
  "cells": [
    {
      "cell_type": "markdown",
      "metadata": {
        "id": "view-in-github",
        "colab_type": "text"
      },
      "source": [
        "<a href=\"https://colab.research.google.com/github/skyballengine/fc_deep_learning/blob/main/00_pytorch_fundamentals.ipynb\" target=\"_parent\"><img src=\"https://colab.research.google.com/assets/colab-badge.svg\" alt=\"Open In Colab\"/></a>"
      ]
    },
    {
      "cell_type": "code",
      "source": [
        "print(\"Yay, Pytorch!\")\n"
      ],
      "metadata": {
        "colab": {
          "base_uri": "https://localhost:8080/"
        },
        "id": "ZmiNvPBMnlMd",
        "outputId": "a0ee48bf-35e2-4d96-be5f-d66fdb2b1cd6"
      },
      "execution_count": null,
      "outputs": [
        {
          "output_type": "stream",
          "name": "stdout",
          "text": [
            "Yay, Pytorch!\n"
          ]
        }
      ]
    },
    {
      "cell_type": "markdown",
      "source": [
        "00. PyTorch Fundamentals\n",
        "\n",
        "Resource Notebook: https://www.learnpytorch.io/00_pytorch_fundamentals/\n",
        "\n",
        "Questions: https://github.com/mrdbourke/pytorch-deep-learning/discussions"
      ],
      "metadata": {
        "id": "GR0Uva31nHfV"
      }
    },
    {
      "cell_type": "code",
      "source": [
        "import torch\n",
        "import pandas as pd\n",
        "import numpy as np\n",
        "import matplotlib.pyplot as plt\n",
        "print(torch.__version__)"
      ],
      "metadata": {
        "colab": {
          "base_uri": "https://localhost:8080/"
        },
        "id": "xvnMtLKwoA6M",
        "outputId": "893fcf20-74db-45c8-f88b-83c812b5edb8"
      },
      "execution_count": null,
      "outputs": [
        {
          "output_type": "stream",
          "name": "stdout",
          "text": [
            "2.0.1+cu118\n"
          ]
        }
      ]
    },
    {
      "cell_type": "markdown",
      "source": [
        "## Intro To Tensors\n",
        "\n",
        "### Creating tensors\n",
        "\n",
        "Pytorch tensors are created using torch.Tensor() = https://pytorch.org/docs/stable/tensors.html\n"
      ],
      "metadata": {
        "id": "GQnXDkaLorx3"
      }
    },
    {
      "cell_type": "code",
      "source": [
        "# scalar\n",
        "scalar = torch.tensor(7)\n",
        "scalar"
      ],
      "metadata": {
        "colab": {
          "base_uri": "https://localhost:8080/"
        },
        "id": "swqRLJ32pttA",
        "outputId": "705f3cbf-66a6-46cc-93eb-9adcf3c5e0fa"
      },
      "execution_count": null,
      "outputs": [
        {
          "output_type": "execute_result",
          "data": {
            "text/plain": [
              "tensor(7)"
            ]
          },
          "metadata": {},
          "execution_count": 3
        }
      ]
    },
    {
      "cell_type": "code",
      "source": [
        "# Get number of dimensions of tensor\n",
        "scalar.ndim"
      ],
      "metadata": {
        "colab": {
          "base_uri": "https://localhost:8080/"
        },
        "id": "Lu2CbGG_rGok",
        "outputId": "2f1649ea-ffd0-4c7f-a8aa-4d0475ea5f82"
      },
      "execution_count": null,
      "outputs": [
        {
          "output_type": "execute_result",
          "data": {
            "text/plain": [
              "0"
            ]
          },
          "metadata": {},
          "execution_count": 4
        }
      ]
    },
    {
      "cell_type": "code",
      "source": [
        "# Get tensor back as an integer\n",
        "scalar.item()"
      ],
      "metadata": {
        "colab": {
          "base_uri": "https://localhost:8080/"
        },
        "id": "P5xDVYn2riH4",
        "outputId": "60d9687b-a860-40ee-fcbf-c38b27b84d50"
      },
      "execution_count": null,
      "outputs": [
        {
          "output_type": "execute_result",
          "data": {
            "text/plain": [
              "7"
            ]
          },
          "metadata": {},
          "execution_count": 5
        }
      ]
    },
    {
      "cell_type": "code",
      "source": [
        "# Vector\n",
        "vector = torch.tensor([7, 7])\n"
      ],
      "metadata": {
        "id": "JCRSPSQ0rl2j"
      },
      "execution_count": null,
      "outputs": []
    },
    {
      "cell_type": "code",
      "source": [
        "# Get vector dimensions\n",
        "vector.ndim"
      ],
      "metadata": {
        "colab": {
          "base_uri": "https://localhost:8080/"
        },
        "id": "Mzl_V6BksGji",
        "outputId": "8990b32b-3f81-43ed-ef73-e5577b8931c3"
      },
      "execution_count": null,
      "outputs": [
        {
          "output_type": "execute_result",
          "data": {
            "text/plain": [
              "1"
            ]
          },
          "metadata": {},
          "execution_count": 7
        }
      ]
    },
    {
      "cell_type": "code",
      "source": [
        "vector.shape\n"
      ],
      "metadata": {
        "colab": {
          "base_uri": "https://localhost:8080/"
        },
        "id": "LJNKmM5vsXdQ",
        "outputId": "1c4e86eb-83bf-4d36-ef0f-20d0f7871c2e"
      },
      "execution_count": null,
      "outputs": [
        {
          "output_type": "execute_result",
          "data": {
            "text/plain": [
              "torch.Size([2])"
            ]
          },
          "metadata": {},
          "execution_count": 8
        }
      ]
    },
    {
      "cell_type": "code",
      "source": [
        "# MATRIX\n",
        "MATRIX = torch.tensor([[7, 8],\n",
        "                      [2, 3]])\n",
        "MATRIX\n"
      ],
      "metadata": {
        "colab": {
          "base_uri": "https://localhost:8080/"
        },
        "id": "rz9CnfPyurfz",
        "outputId": "54215d83-0013-4763-814f-b143bdadffc5"
      },
      "execution_count": null,
      "outputs": [
        {
          "output_type": "execute_result",
          "data": {
            "text/plain": [
              "tensor([[7, 8],\n",
              "        [2, 3]])"
            ]
          },
          "metadata": {},
          "execution_count": 9
        }
      ]
    },
    {
      "cell_type": "code",
      "source": [
        "MATRIX.ndim"
      ],
      "metadata": {
        "colab": {
          "base_uri": "https://localhost:8080/"
        },
        "id": "iIhoijMWu5QS",
        "outputId": "e4cacbb4-8912-4e57-c4bb-fcf2f6b1b28e"
      },
      "execution_count": null,
      "outputs": [
        {
          "output_type": "execute_result",
          "data": {
            "text/plain": [
              "2"
            ]
          },
          "metadata": {},
          "execution_count": 10
        }
      ]
    },
    {
      "cell_type": "code",
      "source": [
        "MATRIX.shape"
      ],
      "metadata": {
        "colab": {
          "base_uri": "https://localhost:8080/"
        },
        "id": "aCA_VQpgvCbt",
        "outputId": "5c4ad6fe-a5d1-4521-eb43-e46509dd2b65"
      },
      "execution_count": null,
      "outputs": [
        {
          "output_type": "execute_result",
          "data": {
            "text/plain": [
              "torch.Size([2, 2])"
            ]
          },
          "metadata": {},
          "execution_count": 11
        }
      ]
    },
    {
      "cell_type": "code",
      "source": [
        "MATRIX[0]\n"
      ],
      "metadata": {
        "colab": {
          "base_uri": "https://localhost:8080/"
        },
        "id": "-bjAst7LvFKc",
        "outputId": "e0aee793-aee6-4f23-bfb0-f9dd93c5c92f"
      },
      "execution_count": null,
      "outputs": [
        {
          "output_type": "execute_result",
          "data": {
            "text/plain": [
              "tensor([7, 8])"
            ]
          },
          "metadata": {},
          "execution_count": 12
        }
      ]
    },
    {
      "cell_type": "markdown",
      "source": [],
      "metadata": {
        "id": "QpwFj4p-wCXv"
      }
    },
    {
      "cell_type": "code",
      "source": [
        "MATRIX[1]"
      ],
      "metadata": {
        "colab": {
          "base_uri": "https://localhost:8080/"
        },
        "id": "CwLCoca_vURE",
        "outputId": "776a1548-cba9-40aa-8ddb-4b720e33e2e7"
      },
      "execution_count": null,
      "outputs": [
        {
          "output_type": "execute_result",
          "data": {
            "text/plain": [
              "tensor([2, 3])"
            ]
          },
          "metadata": {},
          "execution_count": 13
        }
      ]
    },
    {
      "cell_type": "code",
      "source": [
        "# TENSOR\n",
        "TENSOR = torch.tensor([[[3, 6, 9],\n",
        "                        [4, 5, 6],\n",
        "                       [11, 45, 7]]])\n"
      ],
      "metadata": {
        "id": "3CVsyuERvWwT"
      },
      "execution_count": null,
      "outputs": []
    },
    {
      "cell_type": "code",
      "source": [
        "TENSOR"
      ],
      "metadata": {
        "colab": {
          "base_uri": "https://localhost:8080/"
        },
        "id": "kMjaXMvqwGBd",
        "outputId": "25ac2166-4a34-4c68-8fbd-b400bbb61b3a"
      },
      "execution_count": null,
      "outputs": [
        {
          "output_type": "execute_result",
          "data": {
            "text/plain": [
              "tensor([[[ 3,  6,  9],\n",
              "         [ 4,  5,  6],\n",
              "         [11, 45,  7]]])"
            ]
          },
          "metadata": {},
          "execution_count": 15
        }
      ]
    },
    {
      "cell_type": "code",
      "source": [
        "TENSOR.ndim\n"
      ],
      "metadata": {
        "colab": {
          "base_uri": "https://localhost:8080/"
        },
        "id": "DNgLqGZ7wIN0",
        "outputId": "1a73a28c-46f8-451d-da7e-7cd2e6585712"
      },
      "execution_count": null,
      "outputs": [
        {
          "output_type": "execute_result",
          "data": {
            "text/plain": [
              "3"
            ]
          },
          "metadata": {},
          "execution_count": 16
        }
      ]
    },
    {
      "cell_type": "code",
      "source": [
        "TENSOR.shape\n"
      ],
      "metadata": {
        "colab": {
          "base_uri": "https://localhost:8080/"
        },
        "id": "syf-byYYweX9",
        "outputId": "41ac3d3c-7a98-4a94-a615-cd57d0d3215a"
      },
      "execution_count": null,
      "outputs": [
        {
          "output_type": "execute_result",
          "data": {
            "text/plain": [
              "torch.Size([1, 3, 3])"
            ]
          },
          "metadata": {},
          "execution_count": 17
        }
      ]
    },
    {
      "cell_type": "code",
      "source": [
        "TENSOR[0]"
      ],
      "metadata": {
        "colab": {
          "base_uri": "https://localhost:8080/"
        },
        "id": "T5LHf68SwkoV",
        "outputId": "c302170e-73ad-4255-fc81-ecef5a7a0a5a"
      },
      "execution_count": null,
      "outputs": [
        {
          "output_type": "execute_result",
          "data": {
            "text/plain": [
              "tensor([[ 3,  6,  9],\n",
              "        [ 4,  5,  6],\n",
              "        [11, 45,  7]])"
            ]
          },
          "metadata": {},
          "execution_count": 18
        }
      ]
    },
    {
      "cell_type": "code",
      "source": [
        "own_tensor = torch.tensor([[[[4, 6, 7, 8],\n",
        "                             [11, 12, 13, 14],\n",
        "                             [1, 3, 5, 7],\n",
        "                             [3, 6, 9, 12]]]])"
      ],
      "metadata": {
        "id": "dbtPJpyAwu52"
      },
      "execution_count": null,
      "outputs": []
    },
    {
      "cell_type": "code",
      "source": [
        "own_tensor.ndim\n"
      ],
      "metadata": {
        "colab": {
          "base_uri": "https://localhost:8080/"
        },
        "id": "bYn_DLIXwzP3",
        "outputId": "16d65b16-8e02-4f3c-9b10-ecf82bbb8c81"
      },
      "execution_count": null,
      "outputs": [
        {
          "output_type": "execute_result",
          "data": {
            "text/plain": [
              "4"
            ]
          },
          "metadata": {},
          "execution_count": 20
        }
      ]
    },
    {
      "cell_type": "code",
      "source": [
        "own_tensor.shape\n"
      ],
      "metadata": {
        "colab": {
          "base_uri": "https://localhost:8080/"
        },
        "id": "jKHIJQ2QxsNU",
        "outputId": "bcf267f0-72c6-409c-f128-34ffdce5198d"
      },
      "execution_count": null,
      "outputs": [
        {
          "output_type": "execute_result",
          "data": {
            "text/plain": [
              "torch.Size([1, 1, 4, 4])"
            ]
          },
          "metadata": {},
          "execution_count": 21
        }
      ]
    },
    {
      "cell_type": "code",
      "source": [
        "own_tensor[0][0][1][1]"
      ],
      "metadata": {
        "colab": {
          "base_uri": "https://localhost:8080/"
        },
        "id": "mmPXRz9ex0Co",
        "outputId": "d8287cc5-e70e-4a84-fa22-5134e57ff701"
      },
      "execution_count": null,
      "outputs": [
        {
          "output_type": "execute_result",
          "data": {
            "text/plain": [
              "tensor(12)"
            ]
          },
          "metadata": {},
          "execution_count": 22
        }
      ]
    },
    {
      "cell_type": "markdown",
      "source": [
        "### Random tensors"
      ],
      "metadata": {
        "id": "lJF_Gbo4x6zk"
      }
    },
    {
      "cell_type": "markdown",
      "source": [
        "Random tensors are important because the way many neural networks learn is that they start with tensors full of random numbers and then adjust those random numbers to better represent the data.\n",
        "\n",
        "Process\n",
        "Start with random numbers -> look at dta -> update random numbers -> look at data -> update random numbers\n"
      ],
      "metadata": {
        "id": "JxK_H20HEuwo"
      }
    },
    {
      "cell_type": "code",
      "source": [
        "# Create a random tensor of size or shape\n",
        "random_tensor = torch.rand(3,4)\n",
        "torch.rand(1).ndim, torch.tensor(12).ndim\n"
      ],
      "metadata": {
        "colab": {
          "base_uri": "https://localhost:8080/"
        },
        "id": "Rkr5YvcYFL2H",
        "outputId": "d7f4e933-e7c1-4f66-fb54-218d97feb149"
      },
      "execution_count": null,
      "outputs": [
        {
          "output_type": "execute_result",
          "data": {
            "text/plain": [
              "(1, 0)"
            ]
          },
          "metadata": {},
          "execution_count": 23
        }
      ]
    },
    {
      "cell_type": "code",
      "source": [
        "random_tensor\n"
      ],
      "metadata": {
        "colab": {
          "base_uri": "https://localhost:8080/"
        },
        "id": "Naxsb63vFUG_",
        "outputId": "4ede6a40-4724-4f46-d087-9c15f1d46a10"
      },
      "execution_count": null,
      "outputs": [
        {
          "output_type": "execute_result",
          "data": {
            "text/plain": [
              "tensor([[0.7335, 0.8632, 0.5793, 0.9212],\n",
              "        [0.8006, 0.8026, 0.9103, 0.1089],\n",
              "        [0.8041, 0.6861, 0.0389, 0.3651]])"
            ]
          },
          "metadata": {},
          "execution_count": 24
        }
      ]
    },
    {
      "cell_type": "code",
      "source": [
        " random_tensor.ndim"
      ],
      "metadata": {
        "colab": {
          "base_uri": "https://localhost:8080/"
        },
        "id": "NmpqHN0HFyQP",
        "outputId": "42ceaae1-8fd4-4f40-af4b-b9cef6054afc"
      },
      "execution_count": null,
      "outputs": [
        {
          "output_type": "execute_result",
          "data": {
            "text/plain": [
              "2"
            ]
          },
          "metadata": {},
          "execution_count": 25
        }
      ]
    },
    {
      "cell_type": "code",
      "source": [
        "random_tensor_2 = torch.rand(1, 11, 11)\n",
        "random_tensor_2"
      ],
      "metadata": {
        "colab": {
          "base_uri": "https://localhost:8080/"
        },
        "id": "C2FojKNBGKPF",
        "outputId": "66608838-1b1c-4522-aa08-62369c7021dc"
      },
      "execution_count": null,
      "outputs": [
        {
          "output_type": "execute_result",
          "data": {
            "text/plain": [
              "tensor([[[0.6202, 0.2331, 0.1531, 0.3097, 0.8168, 0.3570, 0.0229, 0.6027,\n",
              "          0.1397, 0.0168, 0.0442],\n",
              "         [0.8305, 0.0583, 0.8846, 0.4961, 0.5684, 0.3284, 0.9152, 0.0241,\n",
              "          0.7353, 0.0775, 0.3585],\n",
              "         [0.6707, 0.5085, 0.1458, 0.5527, 0.6321, 0.5321, 0.1542, 0.5072,\n",
              "          0.7382, 0.2596, 0.3017],\n",
              "         [0.3204, 0.1017, 0.5256, 0.3359, 0.5338, 0.7829, 0.3234, 0.0370,\n",
              "          0.0260, 0.6056, 0.2819],\n",
              "         [0.9754, 0.3602, 0.3466, 0.3111, 0.6254, 0.8344, 0.2024, 0.5808,\n",
              "          0.7637, 0.8235, 0.2866],\n",
              "         [0.6983, 0.1453, 0.3681, 0.9743, 0.2492, 0.8785, 0.6268, 0.4017,\n",
              "          0.6072, 0.0490, 0.9140],\n",
              "         [0.9460, 0.4646, 0.3579, 0.1100, 0.1744, 0.9401, 0.7686, 0.8023,\n",
              "          0.4086, 0.7314, 0.3999],\n",
              "         [0.2563, 0.6138, 0.6727, 0.5181, 0.9710, 0.0754, 0.7086, 0.4351,\n",
              "          0.4926, 0.8302, 0.7723],\n",
              "         [0.2728, 0.1854, 0.7146, 0.6139, 0.5751, 0.1176, 0.8220, 0.4715,\n",
              "          0.6285, 0.8920, 0.5434],\n",
              "         [0.2871, 0.7492, 0.0742, 0.6222, 0.8733, 0.9681, 0.1827, 0.6625,\n",
              "          0.4188, 0.3386, 0.9619],\n",
              "         [0.8281, 0.9350, 0.0865, 0.9347, 0.0688, 0.4188, 0.2935, 0.4570,\n",
              "          0.7885, 0.6147, 0.9629]]])"
            ]
          },
          "metadata": {},
          "execution_count": 26
        }
      ]
    },
    {
      "cell_type": "code",
      "source": [
        "torch.rand(1)\n"
      ],
      "metadata": {
        "colab": {
          "base_uri": "https://localhost:8080/"
        },
        "id": "AIarcwIjGa2K",
        "outputId": "185bf47b-0346-42a0-97fc-ad79b27fe70d"
      },
      "execution_count": null,
      "outputs": [
        {
          "output_type": "execute_result",
          "data": {
            "text/plain": [
              "tensor([0.5299])"
            ]
          },
          "metadata": {},
          "execution_count": 27
        }
      ]
    },
    {
      "cell_type": "code",
      "source": [
        "# Create a random tensor with dimilar shape to an image tensor\n",
        "random_image_tensor = torch.rand(size=(224, 224, 3)) # height, width, color channel\n",
        "random_image_tensor.shape, random_image_tensor.ndim"
      ],
      "metadata": {
        "colab": {
          "base_uri": "https://localhost:8080/"
        },
        "id": "PcNlLt31HM8w",
        "outputId": "84eb795f-4de9-457d-cbaf-09e96d8e65c0"
      },
      "execution_count": null,
      "outputs": [
        {
          "output_type": "execute_result",
          "data": {
            "text/plain": [
              "(torch.Size([224, 224, 3]), 3)"
            ]
          },
          "metadata": {},
          "execution_count": 28
        }
      ]
    },
    {
      "cell_type": "code",
      "source": [
        "random_image_tensor\n"
      ],
      "metadata": {
        "colab": {
          "base_uri": "https://localhost:8080/"
        },
        "id": "6Aam6RspHx47",
        "outputId": "722838da-bb94-4ae3-c214-748235b532df"
      },
      "execution_count": null,
      "outputs": [
        {
          "output_type": "execute_result",
          "data": {
            "text/plain": [
              "tensor([[[4.3914e-01, 3.0905e-01, 4.1453e-01],\n",
              "         [4.0222e-01, 4.0438e-01, 5.2629e-01],\n",
              "         [2.3579e-01, 2.3149e-01, 1.4523e-01],\n",
              "         ...,\n",
              "         [8.7219e-01, 1.6694e-01, 1.1603e-01],\n",
              "         [8.1194e-02, 1.5593e-01, 9.0167e-01],\n",
              "         [8.8170e-01, 2.4089e-01, 4.6801e-01]],\n",
              "\n",
              "        [[6.1532e-01, 8.8615e-01, 7.4910e-01],\n",
              "         [7.4482e-01, 2.4861e-01, 1.3470e-02],\n",
              "         [2.2990e-01, 8.0183e-01, 8.0387e-01],\n",
              "         ...,\n",
              "         [5.5333e-01, 9.7899e-01, 3.2436e-02],\n",
              "         [4.6591e-01, 7.4685e-01, 8.0174e-04],\n",
              "         [4.5716e-02, 8.0094e-01, 4.4788e-01]],\n",
              "\n",
              "        [[6.6381e-01, 7.9502e-01, 2.8838e-01],\n",
              "         [6.5823e-01, 7.0447e-01, 1.8758e-01],\n",
              "         [9.9699e-01, 5.8450e-02, 1.4285e-01],\n",
              "         ...,\n",
              "         [5.4489e-01, 3.4004e-04, 9.0815e-01],\n",
              "         [8.0832e-01, 4.9266e-02, 6.6798e-01],\n",
              "         [4.3147e-01, 2.7277e-02, 6.0016e-01]],\n",
              "\n",
              "        ...,\n",
              "\n",
              "        [[6.4681e-01, 1.3089e-01, 5.7139e-01],\n",
              "         [8.1539e-01, 3.2506e-01, 2.2149e-01],\n",
              "         [3.9676e-01, 6.5115e-01, 4.7738e-01],\n",
              "         ...,\n",
              "         [9.8952e-01, 3.9861e-01, 8.3808e-01],\n",
              "         [7.4260e-02, 3.5659e-01, 1.9047e-01],\n",
              "         [2.8439e-01, 1.5406e-01, 7.1953e-01]],\n",
              "\n",
              "        [[5.9317e-01, 8.6735e-01, 7.7399e-02],\n",
              "         [2.5775e-01, 2.5053e-01, 1.9247e-02],\n",
              "         [7.7596e-01, 9.7671e-01, 7.4740e-01],\n",
              "         ...,\n",
              "         [5.0130e-01, 3.6058e-01, 3.6242e-01],\n",
              "         [1.6151e-01, 5.9523e-01, 7.9370e-01],\n",
              "         [7.8349e-01, 3.4492e-01, 7.3504e-01]],\n",
              "\n",
              "        [[8.6612e-01, 6.8005e-01, 1.2578e-01],\n",
              "         [8.4840e-01, 7.7466e-02, 6.7153e-01],\n",
              "         [9.2038e-01, 1.9693e-01, 5.1479e-01],\n",
              "         ...,\n",
              "         [4.8761e-02, 6.2756e-01, 9.5888e-01],\n",
              "         [7.6301e-01, 2.3341e-01, 2.1691e-01],\n",
              "         [9.0501e-01, 2.0338e-01, 3.6381e-01]]])"
            ]
          },
          "metadata": {},
          "execution_count": 29
        }
      ]
    },
    {
      "cell_type": "code",
      "source": [
        "random_tensor_3 = torch.rand(1, 2, 3, 4)\n",
        "random_tensor_3"
      ],
      "metadata": {
        "colab": {
          "base_uri": "https://localhost:8080/"
        },
        "id": "lHpKrlkVIYi3",
        "outputId": "d20e42c7-d0bf-4338-8e84-92a6435b30ea"
      },
      "execution_count": null,
      "outputs": [
        {
          "output_type": "execute_result",
          "data": {
            "text/plain": [
              "tensor([[[[0.6463, 0.5753, 0.7386, 0.5982],\n",
              "          [0.9159, 0.9102, 0.8480, 0.2607],\n",
              "          [0.6812, 0.2883, 0.6651, 0.5210]],\n",
              "\n",
              "         [[0.7512, 0.8666, 0.9335, 0.4119],\n",
              "          [0.6476, 0.4670, 0.1672, 0.4928],\n",
              "          [0.0395, 0.3383, 0.6187, 0.0057]]]])"
            ]
          },
          "metadata": {},
          "execution_count": 30
        }
      ]
    },
    {
      "cell_type": "code",
      "source": [
        "random_tensor_3.shape, random_tensor_3.ndim"
      ],
      "metadata": {
        "colab": {
          "base_uri": "https://localhost:8080/"
        },
        "id": "DXrisOeIIrPy",
        "outputId": "2cfbbb5d-3fad-4e43-e279-eedb46ec8947"
      },
      "execution_count": null,
      "outputs": [
        {
          "output_type": "execute_result",
          "data": {
            "text/plain": [
              "(torch.Size([1, 2, 3, 4]), 4)"
            ]
          },
          "metadata": {},
          "execution_count": 31
        }
      ]
    },
    {
      "cell_type": "markdown",
      "source": [
        "### Zeros and Ones"
      ],
      "metadata": {
        "id": "HnMtOmQ7I2mW"
      }
    },
    {
      "cell_type": "code",
      "source": [
        "# create a tensor of all zeros\n",
        "zeros = torch.zeros(3, 4)\n",
        "zeros"
      ],
      "metadata": {
        "colab": {
          "base_uri": "https://localhost:8080/"
        },
        "id": "OgJy35clJnP4",
        "outputId": "5aabd3ec-83be-42b7-9310-727fde74cc8c"
      },
      "execution_count": null,
      "outputs": [
        {
          "output_type": "execute_result",
          "data": {
            "text/plain": [
              "tensor([[0., 0., 0., 0.],\n",
              "        [0., 0., 0., 0.],\n",
              "        [0., 0., 0., 0.]])"
            ]
          },
          "metadata": {},
          "execution_count": 32
        }
      ]
    },
    {
      "cell_type": "code",
      "source": [
        "# create a tensor of all ones\n",
        "ones = torch.ones(size=(2, 3))\n",
        "ones"
      ],
      "metadata": {
        "colab": {
          "base_uri": "https://localhost:8080/"
        },
        "id": "Kj3lLzJvJwe1",
        "outputId": "da4af2e3-d72a-4740-b979-dceab09c4cba"
      },
      "execution_count": null,
      "outputs": [
        {
          "output_type": "execute_result",
          "data": {
            "text/plain": [
              "tensor([[1., 1., 1.],\n",
              "        [1., 1., 1.]])"
            ]
          },
          "metadata": {},
          "execution_count": 33
        }
      ]
    },
    {
      "cell_type": "code",
      "source": [
        "zeros.dtype, ones.dtype"
      ],
      "metadata": {
        "colab": {
          "base_uri": "https://localhost:8080/"
        },
        "id": "BOwHzAU3J82O",
        "outputId": "3e86db91-161d-49d1-9f50-bdd95b04a748"
      },
      "execution_count": null,
      "outputs": [
        {
          "output_type": "execute_result",
          "data": {
            "text/plain": [
              "(torch.float32, torch.float32)"
            ]
          },
          "metadata": {},
          "execution_count": 34
        }
      ]
    },
    {
      "cell_type": "code",
      "source": [
        "### Creating a range of tensors and tensor-like\n",
        "# Use torch.range()\n",
        "torch.arange(0, 10)"
      ],
      "metadata": {
        "colab": {
          "base_uri": "https://localhost:8080/"
        },
        "id": "0ZGeeu7fKBhr",
        "outputId": "7b7f8140-e19c-47f4-c45f-562087ccce3a"
      },
      "execution_count": null,
      "outputs": [
        {
          "output_type": "execute_result",
          "data": {
            "text/plain": [
              "tensor([0, 1, 2, 3, 4, 5, 6, 7, 8, 9])"
            ]
          },
          "metadata": {},
          "execution_count": 35
        }
      ]
    },
    {
      "cell_type": "code",
      "source": [
        "one_to_hundred = torch.arange(start=1, end=100, step=13)\n",
        "one_to_hundred"
      ],
      "metadata": {
        "colab": {
          "base_uri": "https://localhost:8080/"
        },
        "id": "8zHXCq8UKcMI",
        "outputId": "85a65fb3-c70e-4f66-dace-f6430b90972b"
      },
      "execution_count": null,
      "outputs": [
        {
          "output_type": "execute_result",
          "data": {
            "text/plain": [
              "tensor([ 1, 14, 27, 40, 53, 66, 79, 92])"
            ]
          },
          "metadata": {},
          "execution_count": 36
        }
      ]
    },
    {
      "cell_type": "code",
      "source": [
        "# Creating tensors-like\n",
        "one_to_hundred_zeros = torch.zeros_like(input=one_to_hundred)\n",
        "one_to_hundred_zeros, one_to_hundred_zeros.ndim"
      ],
      "metadata": {
        "colab": {
          "base_uri": "https://localhost:8080/"
        },
        "id": "s4ERLTY-K8nt",
        "outputId": "822b3f81-6174-429b-bf14-377ec3a9e697"
      },
      "execution_count": null,
      "outputs": [
        {
          "output_type": "execute_result",
          "data": {
            "text/plain": [
              "(tensor([0, 0, 0, 0, 0, 0, 0, 0]), 1)"
            ]
          },
          "metadata": {},
          "execution_count": 37
        }
      ]
    },
    {
      "cell_type": "markdown",
      "source": [
        "### Tensor Datatypes\n",
        "\n",
        "## Note - Tensor datatypes is one of the 3 big errors that we'll run into with Pytorch and deep learning:\n",
        "1. Tensors not right datatype\n",
        "2. Tensors not right shape\n",
        "3. Tensors not on the right device\n"
      ],
      "metadata": {
        "id": "75LAFQcQNIQ9"
      }
    },
    {
      "cell_type": "code",
      "source": [
        "# Float 32 tensor\n",
        "float_32_tensor = torch.tensor([3.0, 6.0, 9.0],\n",
        "                               dtype=None, # what datatype is the tensor (e.g. float32, float16, etc.),\n",
        "                               device=None, # default is cpu, can shift to GPU or TPU ,\n",
        "                               requires_grad=False) # if Pytorch should track the gradients with the tensors operations\n",
        "float_32_tensor"
      ],
      "metadata": {
        "colab": {
          "base_uri": "https://localhost:8080/"
        },
        "id": "kBLm88O4ZksL",
        "outputId": "867409f4-ccda-4231-9717-283a67652714"
      },
      "execution_count": null,
      "outputs": [
        {
          "output_type": "execute_result",
          "data": {
            "text/plain": [
              "tensor([3., 6., 9.])"
            ]
          },
          "metadata": {},
          "execution_count": 38
        }
      ]
    },
    {
      "cell_type": "code",
      "source": [
        "float_32_tensor.dtype"
      ],
      "metadata": {
        "colab": {
          "base_uri": "https://localhost:8080/"
        },
        "id": "ZN_BiQ37Z3nc",
        "outputId": "ca5cf4b0-f7b9-4bfa-c49d-a9230c6743f7"
      },
      "execution_count": null,
      "outputs": [
        {
          "output_type": "execute_result",
          "data": {
            "text/plain": [
              "torch.float32"
            ]
          },
          "metadata": {},
          "execution_count": 39
        }
      ]
    },
    {
      "cell_type": "code",
      "source": [
        "float_16_tensor = torch.tensor([3.0, 6.0, 9.0], dtype=torch.float16)"
      ],
      "metadata": {
        "id": "wA2ChQ31Z-3f"
      },
      "execution_count": null,
      "outputs": []
    },
    {
      "cell_type": "code",
      "source": [
        "float_16_tensor.dtype\n"
      ],
      "metadata": {
        "colab": {
          "base_uri": "https://localhost:8080/"
        },
        "id": "8XbIjlNVaSvX",
        "outputId": "dd9a8083-a174-422b-c4ef-8e4dcb01c46f"
      },
      "execution_count": null,
      "outputs": [
        {
          "output_type": "execute_result",
          "data": {
            "text/plain": [
              "torch.float16"
            ]
          },
          "metadata": {},
          "execution_count": 41
        }
      ]
    },
    {
      "cell_type": "code",
      "source": [
        "float_16_tensor.type(torch.float32)\n",
        "float_16_tensor.dtype"
      ],
      "metadata": {
        "colab": {
          "base_uri": "https://localhost:8080/"
        },
        "id": "y0RLZZICdFsK",
        "outputId": "ed64ec98-0fb4-489a-a206-e4c5ab1ff578"
      },
      "execution_count": null,
      "outputs": [
        {
          "output_type": "execute_result",
          "data": {
            "text/plain": [
              "torch.float16"
            ]
          },
          "metadata": {},
          "execution_count": 42
        }
      ]
    },
    {
      "cell_type": "code",
      "source": [
        "float_16_tensor_2 = float_32_tensor.type(torch.float16)"
      ],
      "metadata": {
        "id": "6j5_xLVTdLnr"
      },
      "execution_count": null,
      "outputs": []
    },
    {
      "cell_type": "code",
      "source": [
        "float_16_tensor_2.dtype"
      ],
      "metadata": {
        "colab": {
          "base_uri": "https://localhost:8080/"
        },
        "id": "DVMBP8Kad6I2",
        "outputId": "8d5bfb51-1569-4207-e040-7cb8455745e5"
      },
      "execution_count": null,
      "outputs": [
        {
          "output_type": "execute_result",
          "data": {
            "text/plain": [
              "torch.float16"
            ]
          },
          "metadata": {},
          "execution_count": 44
        }
      ]
    },
    {
      "cell_type": "code",
      "source": [
        "integer_8_tensor = torch.tensor([1, 2, 3], dtype=torch.int8)\n",
        "integer_8_tensor"
      ],
      "metadata": {
        "colab": {
          "base_uri": "https://localhost:8080/"
        },
        "id": "NZGEn8Q4d8My",
        "outputId": "531f18fe-f7be-4a85-87ae-0de80505ece0"
      },
      "execution_count": null,
      "outputs": [
        {
          "output_type": "execute_result",
          "data": {
            "text/plain": [
              "tensor([1, 2, 3], dtype=torch.int8)"
            ]
          },
          "metadata": {},
          "execution_count": 45
        }
      ]
    },
    {
      "cell_type": "code",
      "source": [
        "integer_8_tensor * float_16_tensor"
      ],
      "metadata": {
        "colab": {
          "base_uri": "https://localhost:8080/"
        },
        "id": "S0LbbhwpehzW",
        "outputId": "1c5f9325-3461-4ed1-9b78-a714233b932c"
      },
      "execution_count": null,
      "outputs": [
        {
          "output_type": "execute_result",
          "data": {
            "text/plain": [
              "tensor([ 3., 12., 27.], dtype=torch.float16)"
            ]
          },
          "metadata": {},
          "execution_count": 46
        }
      ]
    },
    {
      "cell_type": "code",
      "source": [
        "integer_8_tensor.ndim, float_16_tensor.ndim"
      ],
      "metadata": {
        "colab": {
          "base_uri": "https://localhost:8080/"
        },
        "id": "Ic2m1DkGesGK",
        "outputId": "6e573db3-f7cb-45aa-9f7a-68c567ee29ec"
      },
      "execution_count": null,
      "outputs": [
        {
          "output_type": "execute_result",
          "data": {
            "text/plain": [
              "(1, 1)"
            ]
          },
          "metadata": {},
          "execution_count": 47
        }
      ]
    },
    {
      "cell_type": "code",
      "source": [
        "integer_8_tensor, float_16_tensor"
      ],
      "metadata": {
        "colab": {
          "base_uri": "https://localhost:8080/"
        },
        "id": "QDb4BdtkfF_3",
        "outputId": "32db1ac9-00d0-4505-964c-a90386339b0c"
      },
      "execution_count": null,
      "outputs": [
        {
          "output_type": "execute_result",
          "data": {
            "text/plain": [
              "(tensor([1, 2, 3], dtype=torch.int8),\n",
              " tensor([3., 6., 9.], dtype=torch.float16))"
            ]
          },
          "metadata": {},
          "execution_count": 48
        }
      ]
    },
    {
      "cell_type": "code",
      "source": [
        "float_64_tensor = torch.tensor([2, 3, 4], dtype=torch.float64)\n",
        "float_64_tensor"
      ],
      "metadata": {
        "colab": {
          "base_uri": "https://localhost:8080/"
        },
        "id": "UxwvkoYLfQbT",
        "outputId": "2c9cdc23-27f0-42fd-c8fe-2b27c711fb66"
      },
      "execution_count": null,
      "outputs": [
        {
          "output_type": "execute_result",
          "data": {
            "text/plain": [
              "tensor([2., 3., 4.], dtype=torch.float64)"
            ]
          },
          "metadata": {},
          "execution_count": 49
        }
      ]
    },
    {
      "cell_type": "code",
      "source": [
        "integer_8_tensor * float_64_tensor"
      ],
      "metadata": {
        "colab": {
          "base_uri": "https://localhost:8080/"
        },
        "id": "BOGgDknbfg88",
        "outputId": "5b9e7f74-3ae6-4260-c2bd-60c46817dc7d"
      },
      "execution_count": null,
      "outputs": [
        {
          "output_type": "execute_result",
          "data": {
            "text/plain": [
              "tensor([ 2.,  6., 12.], dtype=torch.float64)"
            ]
          },
          "metadata": {},
          "execution_count": 50
        }
      ]
    },
    {
      "cell_type": "markdown",
      "source": [
        "## Getting information form tensors (tensor attributes)\n",
        "\n",
        "1. Tensors not right datatype - use tensor.dtype\n",
        "2. Tensors not right shape - use tensor.shape\n",
        "3. Tensors not on the right device - use tensor.device\n"
      ],
      "metadata": {
        "id": "Mvb03Bylflmo"
      }
    },
    {
      "cell_type": "code",
      "source": [
        "# Create a tensor\n",
        "some_tensor = torch.rand(3, 4)\n",
        "some_tensor"
      ],
      "metadata": {
        "colab": {
          "base_uri": "https://localhost:8080/"
        },
        "id": "fkekD9lyiDNj",
        "outputId": "d6808da3-d483-465b-cf5a-83776f138e26"
      },
      "execution_count": null,
      "outputs": [
        {
          "output_type": "execute_result",
          "data": {
            "text/plain": [
              "tensor([[0.5385, 0.0572, 0.1708, 0.0348],\n",
              "        [0.9919, 0.1111, 0.4548, 0.0654],\n",
              "        [0.2948, 0.6853, 0.6485, 0.0279]])"
            ]
          },
          "metadata": {},
          "execution_count": 51
        }
      ]
    },
    {
      "cell_type": "code",
      "source": [
        "print(some_tensor)\n",
        "print(f\"Datatype of tensor is: {some_tensor.dtype}\")\n",
        "print(f\"Shape of tensor is: {some_tensor.shape}\")\n",
        "print(f\"Device of tensor is: {some_tensor.device}\")"
      ],
      "metadata": {
        "colab": {
          "base_uri": "https://localhost:8080/"
        },
        "id": "rZxEF8AZieDU",
        "outputId": "2c85cd5c-b712-467d-8019-1e687726fa74"
      },
      "execution_count": null,
      "outputs": [
        {
          "output_type": "stream",
          "name": "stdout",
          "text": [
            "tensor([[0.5385, 0.0572, 0.1708, 0.0348],\n",
            "        [0.9919, 0.1111, 0.4548, 0.0654],\n",
            "        [0.2948, 0.6853, 0.6485, 0.0279]])\n",
            "Datatype of tensor is: torch.float32\n",
            "Shape of tensor is: torch.Size([3, 4])\n",
            "Device of tensor is: cpu\n"
          ]
        }
      ]
    },
    {
      "cell_type": "markdown",
      "source": [
        "### Manipulating Tensors (tensor operations)\n",
        "\n",
        "Tensor operations include:\n",
        "*   Addition\n",
        "*   Subtraction\n",
        "*   Multiplication (element wise)\n",
        "*   Division\n",
        "*   Matrix Multiplication\n",
        "\n",
        "\n",
        "  "
      ],
      "metadata": {
        "id": "Ndl3muVsi1TI"
      }
    },
    {
      "cell_type": "code",
      "source": [
        "# Create a tensor and add 10 to it\n",
        "add_tensor = torch.tensor([3, 4, 5])\n",
        "print(add_tensor)\n",
        "print(add_tensor + 10)"
      ],
      "metadata": {
        "colab": {
          "base_uri": "https://localhost:8080/"
        },
        "id": "RkLaz2ypktMe",
        "outputId": "a8dfc947-90ff-4650-ab2d-c5eebe35cc68"
      },
      "execution_count": null,
      "outputs": [
        {
          "output_type": "stream",
          "name": "stdout",
          "text": [
            "tensor([3, 4, 5])\n",
            "tensor([13, 14, 15])\n"
          ]
        }
      ]
    },
    {
      "cell_type": "code",
      "source": [
        "# Multiply tensor by 5\n",
        "mult_tensor = add_tensor\n",
        "mult_tensor * 5"
      ],
      "metadata": {
        "colab": {
          "base_uri": "https://localhost:8080/"
        },
        "id": "od0J4iJok7q-",
        "outputId": "7c06892f-f775-49ce-8b6a-d9ced757521e"
      },
      "execution_count": null,
      "outputs": [
        {
          "output_type": "execute_result",
          "data": {
            "text/plain": [
              "tensor([15, 20, 25])"
            ]
          },
          "metadata": {},
          "execution_count": 54
        }
      ]
    },
    {
      "cell_type": "code",
      "source": [
        "# Divide tensor\n",
        "divide_tensor = add_tensor\n",
        "print(divide_tensor.dtype)\n",
        "divided_tensor = divide_tensor / 2\n",
        "print(divided_tensor.dtype)"
      ],
      "metadata": {
        "colab": {
          "base_uri": "https://localhost:8080/"
        },
        "id": "TKPsn8GGlNI9",
        "outputId": "bf84227f-bba3-4d4d-9596-4b9619c7f53d"
      },
      "execution_count": null,
      "outputs": [
        {
          "output_type": "stream",
          "name": "stdout",
          "text": [
            "torch.int64\n",
            "torch.float32\n"
          ]
        }
      ]
    },
    {
      "cell_type": "code",
      "source": [
        "# Try out Pytorch built-in functions\n",
        "torch.mul(add_tensor, 11)"
      ],
      "metadata": {
        "colab": {
          "base_uri": "https://localhost:8080/"
        },
        "id": "0RnKTvT7lZ8s",
        "outputId": "102cbe58-85ad-422b-cbbb-12e52d6b5d3c"
      },
      "execution_count": null,
      "outputs": [
        {
          "output_type": "execute_result",
          "data": {
            "text/plain": [
              "tensor([33, 44, 55])"
            ]
          },
          "metadata": {},
          "execution_count": 56
        }
      ]
    },
    {
      "cell_type": "markdown",
      "source": [
        "### Matrix Multiplication\n",
        "Two methods of multiplication in neural networks and deep learning\n",
        "\n",
        "1. Element wise is scalar multiplication\n",
        "2. Matrix Multiplication is dot product (heavy dot in mathematical notation)\n",
        "\n",
        "There are two main rules thart performing matrix multiplication must satisfy:\n",
        "1. The inner dimensions must match\n",
        "*   (3, 2) * (2, 3) good\n",
        "*   (3, 2) * (4, 2) shape error\n",
        "\n",
        "2. The resulting matrix has the shape of the outer dimensions\n",
        "\n",
        "*   (3, 2) * (2, 3) -> (3, 3)"
      ],
      "metadata": {
        "id": "IKWblE2RmQcE"
      }
    },
    {
      "cell_type": "code",
      "source": [
        "# Element wise multiplication\n",
        "tensor = torch.tensor([3, 4, 5])\n",
        "print(f\"{tensor} * {tensor}\")\n",
        "tensor * tensor"
      ],
      "metadata": {
        "colab": {
          "base_uri": "https://localhost:8080/"
        },
        "id": "YWoX_i-jqKdI",
        "outputId": "e83e3eb4-b070-40bc-8fae-283e50ab2111"
      },
      "execution_count": null,
      "outputs": [
        {
          "output_type": "stream",
          "name": "stdout",
          "text": [
            "tensor([3, 4, 5]) * tensor([3, 4, 5])\n"
          ]
        },
        {
          "output_type": "execute_result",
          "data": {
            "text/plain": [
              "tensor([ 9, 16, 25])"
            ]
          },
          "metadata": {},
          "execution_count": 57
        }
      ]
    },
    {
      "cell_type": "code",
      "source": [
        "# Matrix multiplication\n",
        "tensor_price = torch.tensor([[3, 4, 2]])\n",
        "tensor_number = torch.tensor([[13, 9, 7, 15],\n",
        "                        [8, 7, 4, 6],\n",
        "                         [6, 4, 0, 3]])\n",
        "product_tensor = torch.matmul(tensor_price, tensor_number)\n",
        "product_tensor\n"
      ],
      "metadata": {
        "colab": {
          "base_uri": "https://localhost:8080/"
        },
        "id": "Ri4sYOEEqWlv",
        "outputId": "fadce1b8-8188-49ab-ec18-501894545fff"
      },
      "execution_count": null,
      "outputs": [
        {
          "output_type": "execute_result",
          "data": {
            "text/plain": [
              "tensor([[83, 63, 37, 75]])"
            ]
          },
          "metadata": {},
          "execution_count": 58
        }
      ]
    },
    {
      "cell_type": "code",
      "source": [
        "%%time\n",
        "value = 0\n",
        "for i in range(len(tensor)):\n",
        "  value += tensor[i] * tensor[i]\n",
        "print(value)"
      ],
      "metadata": {
        "colab": {
          "base_uri": "https://localhost:8080/"
        },
        "id": "QmQtzYXesddt",
        "outputId": "cd4ff5e5-8965-458c-85e4-95af9b5292bc"
      },
      "execution_count": null,
      "outputs": [
        {
          "output_type": "stream",
          "name": "stdout",
          "text": [
            "tensor(50)\n",
            "CPU times: user 1.62 ms, sys: 0 ns, total: 1.62 ms\n",
            "Wall time: 1.82 ms\n"
          ]
        }
      ]
    },
    {
      "cell_type": "code",
      "source": [
        "%%time\n",
        "torch.matmul(tensor, tensor)"
      ],
      "metadata": {
        "colab": {
          "base_uri": "https://localhost:8080/"
        },
        "id": "DNerRmh-UMEb",
        "outputId": "7598d24e-60ef-48ad-de53-ef8d5421c8e5"
      },
      "execution_count": null,
      "outputs": [
        {
          "output_type": "stream",
          "name": "stdout",
          "text": [
            "CPU times: user 172 µs, sys: 1.04 ms, total: 1.21 ms\n",
            "Wall time: 1.22 ms\n"
          ]
        },
        {
          "output_type": "execute_result",
          "data": {
            "text/plain": [
              "tensor(50)"
            ]
          },
          "metadata": {},
          "execution_count": 60
        }
      ]
    },
    {
      "cell_type": "markdown",
      "source": [
        " ### One of the most common errors in deep learning are shape errors\n"
      ],
      "metadata": {
        "id": "Aif41Hq7Uxmu"
      }
    },
    {
      "cell_type": "code",
      "source": [
        "torch.matmul(torch.rand(3, 4), torch.rand(4, 3))"
      ],
      "metadata": {
        "colab": {
          "base_uri": "https://localhost:8080/"
        },
        "id": "lNhKbRH9XLCW",
        "outputId": "26f8b0a5-7844-4ee2-9e0c-e7ae3bc93315"
      },
      "execution_count": null,
      "outputs": [
        {
          "output_type": "execute_result",
          "data": {
            "text/plain": [
              "tensor([[1.4170, 0.8412, 1.3149],\n",
              "        [0.7813, 0.4349, 0.5711],\n",
              "        [1.7239, 1.3515, 1.0753]])"
            ]
          },
          "metadata": {},
          "execution_count": 61
        }
      ]
    },
    {
      "cell_type": "code",
      "source": [
        "torch.matmul(torch.rand(10, 12), torch.rand(12, 2)).shape"
      ],
      "metadata": {
        "colab": {
          "base_uri": "https://localhost:8080/"
        },
        "id": "tQgDj9NxXTLC",
        "outputId": "2d687ae8-f3b2-42e2-a01e-74725d25b940"
      },
      "execution_count": null,
      "outputs": [
        {
          "output_type": "execute_result",
          "data": {
            "text/plain": [
              "torch.Size([10, 2])"
            ]
          },
          "metadata": {},
          "execution_count": 62
        }
      ]
    },
    {
      "cell_type": "code",
      "source": [
        "# Shapes for matrix multiplication\n",
        "tensor_A = torch.tensor([[1, 2],\n",
        "                         [3, 4],\n",
        "                         [5, 6]])\n",
        "tensor_B = torch.tensor([[7, 10],\n",
        "                         [8, 11],\n",
        "                         [9, 12]])\n",
        "tensor_A.shape, tensor_B.shape\n"
      ],
      "metadata": {
        "colab": {
          "base_uri": "https://localhost:8080/"
        },
        "id": "MsYnb34pY_gf",
        "outputId": "fc74d285-e0ec-466e-a332-2e278e95d181"
      },
      "execution_count": null,
      "outputs": [
        {
          "output_type": "execute_result",
          "data": {
            "text/plain": [
              "(torch.Size([3, 2]), torch.Size([3, 2]))"
            ]
          },
          "metadata": {},
          "execution_count": 63
        }
      ]
    },
    {
      "cell_type": "code",
      "source": [
        "torch.matmul(tensor_A, tensor_B.T)"
      ],
      "metadata": {
        "colab": {
          "base_uri": "https://localhost:8080/"
        },
        "id": "KldEpPmEaIi_",
        "outputId": "8df30245-79a1-4d25-8a3b-d32a05ec69d3"
      },
      "execution_count": null,
      "outputs": [
        {
          "output_type": "execute_result",
          "data": {
            "text/plain": [
              "tensor([[ 27,  30,  33],\n",
              "        [ 61,  68,  75],\n",
              "        [ 95, 106, 117]])"
            ]
          },
          "metadata": {},
          "execution_count": 64
        }
      ]
    },
    {
      "cell_type": "markdown",
      "source": [
        "To fix tensor shape issues, we can manipulate their shape using a **transpose**.\n",
        "\n",
        "A **transpose** switches the axes or dimensions of a tensor."
      ],
      "metadata": {
        "id": "VnOxpB9Oa5Mh"
      }
    },
    {
      "cell_type": "code",
      "source": [
        "tensor_B, tensor_B .shape"
      ],
      "metadata": {
        "colab": {
          "base_uri": "https://localhost:8080/"
        },
        "id": "-pC_Lm8abAVI",
        "outputId": "6ccf4035-726a-4aa6-b574-c4cf2b944281"
      },
      "execution_count": null,
      "outputs": [
        {
          "output_type": "execute_result",
          "data": {
            "text/plain": [
              "(tensor([[ 7, 10],\n",
              "         [ 8, 11],\n",
              "         [ 9, 12]]),\n",
              " torch.Size([3, 2]))"
            ]
          },
          "metadata": {},
          "execution_count": 65
        }
      ]
    },
    {
      "cell_type": "code",
      "source": [
        "tensor_B.T, tensor_B.T.shape"
      ],
      "metadata": {
        "colab": {
          "base_uri": "https://localhost:8080/"
        },
        "id": "x3FLkyy3bZyo",
        "outputId": "466a788c-9c30-4f03-8245-9ec01bcc6e7b"
      },
      "execution_count": null,
      "outputs": [
        {
          "output_type": "execute_result",
          "data": {
            "text/plain": [
              "(tensor([[ 7,  8,  9],\n",
              "         [10, 11, 12]]),\n",
              " torch.Size([2, 3]))"
            ]
          },
          "metadata": {},
          "execution_count": 66
        }
      ]
    },
    {
      "cell_type": "code",
      "source": [
        "torch.mm(tensor_A, tensor_B.T)"
      ],
      "metadata": {
        "colab": {
          "base_uri": "https://localhost:8080/"
        },
        "id": "a-1Jr0subnNE",
        "outputId": "4d26150a-dbc6-4146-a9e0-01b21db35068"
      },
      "execution_count": null,
      "outputs": [
        {
          "output_type": "execute_result",
          "data": {
            "text/plain": [
              "tensor([[ 27,  30,  33],\n",
              "        [ 61,  68,  75],\n",
              "        [ 95, 106, 117]])"
            ]
          },
          "metadata": {},
          "execution_count": 67
        }
      ]
    },
    {
      "cell_type": "markdown",
      "source": [
        "## Finding the min, max, mean, sum, etc (tensor aggregation)\n"
      ],
      "metadata": {
        "id": "RoncG0Irb7F-"
      }
    },
    {
      "cell_type": "code",
      "source": [
        "# Create a new tensor\n",
        "x = torch.arange(0, 100, 10)\n",
        "x"
      ],
      "metadata": {
        "colab": {
          "base_uri": "https://localhost:8080/"
        },
        "id": "TjchTUxbqLcs",
        "outputId": "cd03ab0a-e22c-4b21-cbd5-2178ea84a06b"
      },
      "execution_count": null,
      "outputs": [
        {
          "output_type": "execute_result",
          "data": {
            "text/plain": [
              "tensor([ 0, 10, 20, 30, 40, 50, 60, 70, 80, 90])"
            ]
          },
          "metadata": {},
          "execution_count": 68
        }
      ]
    },
    {
      "cell_type": "code",
      "source": [
        "# Find the min\n",
        "x.min"
      ],
      "metadata": {
        "colab": {
          "base_uri": "https://localhost:8080/"
        },
        "id": "C8dTVu8vqaae",
        "outputId": "345e126b-ee16-4ff0-bfe5-cfa8ae15e6a4"
      },
      "execution_count": null,
      "outputs": [
        {
          "output_type": "execute_result",
          "data": {
            "text/plain": [
              "<function Tensor.min>"
            ]
          },
          "metadata": {},
          "execution_count": 69
        }
      ]
    },
    {
      "cell_type": "code",
      "source": [
        "x.min()"
      ],
      "metadata": {
        "colab": {
          "base_uri": "https://localhost:8080/"
        },
        "id": "W74r8M0vqfRI",
        "outputId": "a76fff3a-355c-44f9-9055-a3e71d1c60fc"
      },
      "execution_count": null,
      "outputs": [
        {
          "output_type": "execute_result",
          "data": {
            "text/plain": [
              "tensor(0)"
            ]
          },
          "metadata": {},
          "execution_count": 70
        }
      ]
    },
    {
      "cell_type": "code",
      "source": [
        "# Find the max\n",
        "x.max()"
      ],
      "metadata": {
        "colab": {
          "base_uri": "https://localhost:8080/"
        },
        "id": "xhgrvjlDqhEZ",
        "outputId": "37930a87-fa7c-4af5-9393-da3ad3dc356c"
      },
      "execution_count": null,
      "outputs": [
        {
          "output_type": "execute_result",
          "data": {
            "text/plain": [
              "tensor(90)"
            ]
          },
          "metadata": {},
          "execution_count": 71
        }
      ]
    },
    {
      "cell_type": "code",
      "source": [
        "x.dtype"
      ],
      "metadata": {
        "colab": {
          "base_uri": "https://localhost:8080/"
        },
        "id": "9211aHd7qjPN",
        "outputId": "709e137a-9792-4556-bec8-ee2719169ba7"
      },
      "execution_count": null,
      "outputs": [
        {
          "output_type": "execute_result",
          "data": {
            "text/plain": [
              "torch.int64"
            ]
          },
          "metadata": {},
          "execution_count": 72
        }
      ]
    },
    {
      "cell_type": "code",
      "source": [
        "# Find the mean - the torch.mean() or tensor.mean() functions need certain datatypes to work\n",
        "x.type(torch.float32).mean()"
      ],
      "metadata": {
        "colab": {
          "base_uri": "https://localhost:8080/"
        },
        "id": "YimRXeF9qlPg",
        "outputId": "20cc8196-cd72-4282-adab-e120fc33d060"
      },
      "execution_count": null,
      "outputs": [
        {
          "output_type": "execute_result",
          "data": {
            "text/plain": [
              "tensor(45.)"
            ]
          },
          "metadata": {},
          "execution_count": 73
        }
      ]
    },
    {
      "cell_type": "code",
      "source": [
        "# Find the sum\n",
        "x.sum()"
      ],
      "metadata": {
        "colab": {
          "base_uri": "https://localhost:8080/"
        },
        "id": "8JudSPM_rcu7",
        "outputId": "6115c5d4-dcd1-49ca-bfe5-42a073d0168f"
      },
      "execution_count": null,
      "outputs": [
        {
          "output_type": "execute_result",
          "data": {
            "text/plain": [
              "tensor(450)"
            ]
          },
          "metadata": {},
          "execution_count": 74
        }
      ]
    },
    {
      "cell_type": "markdown",
      "source": [
        "## Finding the positional min and max"
      ],
      "metadata": {
        "id": "znV3KbLfr8iy"
      }
    },
    {
      "cell_type": "code",
      "source": [
        "x\n"
      ],
      "metadata": {
        "colab": {
          "base_uri": "https://localhost:8080/"
        },
        "id": "qYciwuqHxniV",
        "outputId": "77e5f1f6-b62b-4e93-873e-21704fecd47c"
      },
      "execution_count": null,
      "outputs": [
        {
          "output_type": "execute_result",
          "data": {
            "text/plain": [
              "tensor([ 0, 10, 20, 30, 40, 50, 60, 70, 80, 90])"
            ]
          },
          "metadata": {},
          "execution_count": 75
        }
      ]
    },
    {
      "cell_type": "code",
      "source": [
        "x.argmin()"
      ],
      "metadata": {
        "colab": {
          "base_uri": "https://localhost:8080/"
        },
        "id": "wezMryaLxo3p",
        "outputId": "af99469f-258d-4bc2-e09b-3ae73865a78d"
      },
      "execution_count": null,
      "outputs": [
        {
          "output_type": "execute_result",
          "data": {
            "text/plain": [
              "tensor(0)"
            ]
          },
          "metadata": {},
          "execution_count": 76
        }
      ]
    },
    {
      "cell_type": "code",
      "source": [
        "x[0]"
      ],
      "metadata": {
        "colab": {
          "base_uri": "https://localhost:8080/"
        },
        "id": "VfuU7HBWxsjU",
        "outputId": "7a0948ae-a3ef-45e9-e4e0-e1a69338e3e4"
      },
      "execution_count": null,
      "outputs": [
        {
          "output_type": "execute_result",
          "data": {
            "text/plain": [
              "tensor(0)"
            ]
          },
          "metadata": {},
          "execution_count": 77
        }
      ]
    },
    {
      "cell_type": "code",
      "source": [
        "x[1] = 1"
      ],
      "metadata": {
        "id": "aQigG3FUxyBP"
      },
      "execution_count": null,
      "outputs": []
    },
    {
      "cell_type": "code",
      "source": [
        "x.argmin()"
      ],
      "metadata": {
        "colab": {
          "base_uri": "https://localhost:8080/"
        },
        "id": "czfq7dPrx0cD",
        "outputId": "aee71799-bca1-4367-f7be-77fdb22ed141"
      },
      "execution_count": null,
      "outputs": [
        {
          "output_type": "execute_result",
          "data": {
            "text/plain": [
              "tensor(0)"
            ]
          },
          "metadata": {},
          "execution_count": 79
        }
      ]
    },
    {
      "cell_type": "code",
      "source": [
        "x"
      ],
      "metadata": {
        "colab": {
          "base_uri": "https://localhost:8080/"
        },
        "id": "3766BL6qx2z-",
        "outputId": "ebf92664-bc2c-4ccd-b4fd-60b1741f5b5f"
      },
      "execution_count": null,
      "outputs": [
        {
          "output_type": "execute_result",
          "data": {
            "text/plain": [
              "tensor([ 0,  1, 20, 30, 40, 50, 60, 70, 80, 90])"
            ]
          },
          "metadata": {},
          "execution_count": 80
        }
      ]
    },
    {
      "cell_type": "code",
      "source": [
        "x[1] = 10"
      ],
      "metadata": {
        "id": "xjjVVevNx4Ho"
      },
      "execution_count": null,
      "outputs": []
    },
    {
      "cell_type": "code",
      "source": [
        "x[0] = 1"
      ],
      "metadata": {
        "id": "NyE3xgWXx7JW"
      },
      "execution_count": null,
      "outputs": []
    },
    {
      "cell_type": "code",
      "source": [
        "x.argmin()"
      ],
      "metadata": {
        "colab": {
          "base_uri": "https://localhost:8080/"
        },
        "id": "QK1-NGqvx8gR",
        "outputId": "5eb60c02-08c6-42a4-dadd-dba6535b4368"
      },
      "execution_count": null,
      "outputs": [
        {
          "output_type": "execute_result",
          "data": {
            "text/plain": [
              "tensor(0)"
            ]
          },
          "metadata": {},
          "execution_count": 83
        }
      ]
    },
    {
      "cell_type": "code",
      "source": [
        "x[0]"
      ],
      "metadata": {
        "colab": {
          "base_uri": "https://localhost:8080/"
        },
        "id": "yupCn3avx9rw",
        "outputId": "5e3b6fcd-ad6d-4b90-95aa-ce2b16f3d136"
      },
      "execution_count": null,
      "outputs": [
        {
          "output_type": "execute_result",
          "data": {
            "text/plain": [
              "tensor(1)"
            ]
          },
          "metadata": {},
          "execution_count": 84
        }
      ]
    },
    {
      "cell_type": "code",
      "source": [
        "x.argmax()"
      ],
      "metadata": {
        "colab": {
          "base_uri": "https://localhost:8080/"
        },
        "id": "M24UNrmbx_VB",
        "outputId": "bcb8f481-83b6-4b92-e472-c90a1a8a144b"
      },
      "execution_count": null,
      "outputs": [
        {
          "output_type": "execute_result",
          "data": {
            "text/plain": [
              "tensor(9)"
            ]
          },
          "metadata": {},
          "execution_count": 85
        }
      ]
    },
    {
      "cell_type": "markdown",
      "source": [
        "## Reshaping, stacking, squeezing, and unsqueezing tensors\n",
        "\n",
        "\n",
        "\n",
        "*   Reshaping - reshapes an input tensor to a defined shape\n",
        "*   View - return a view of an input tensor with a certain shape, but maintain the same memory as the original tensor\n",
        "\n",
        "*   Stacking - combine multiple tensors on top of each other (vstack) or side by side (hstack)\n",
        "*   Squeeze - removes all `1` dimensions from a tensor\n",
        "\n",
        "\n",
        "*   Unsqueeze - add a `1` dimension to a target tensor\n",
        "*   Permute - return a view of the input with dimensions permuted (swapped) in a certain way\n",
        "\n",
        "\n",
        "\n",
        "\n",
        "\n"
      ],
      "metadata": {
        "id": "4pTA77sYyCV_"
      }
    },
    {
      "cell_type": "code",
      "source": [
        "# Create a tensor\n",
        "import torch\n",
        "x = torch.arange(1, 10)\n",
        "x, x.shape"
      ],
      "metadata": {
        "colab": {
          "base_uri": "https://localhost:8080/"
        },
        "id": "V_KBQol20Qky",
        "outputId": "63d582d9-e458-4708-921d-8e20b6eed1b9"
      },
      "execution_count": null,
      "outputs": [
        {
          "output_type": "execute_result",
          "data": {
            "text/plain": [
              "(tensor([1, 2, 3, 4, 5, 6, 7, 8, 9]), torch.Size([9]))"
            ]
          },
          "metadata": {},
          "execution_count": 86
        }
      ]
    },
    {
      "cell_type": "code",
      "source": [
        "# Add an extra dimension\n",
        "x_reshaped = x.reshape(1, 9)\n",
        "x_reshaped, x_reshaped.shape"
      ],
      "metadata": {
        "colab": {
          "base_uri": "https://localhost:8080/"
        },
        "id": "gn1_7JbZ0V0M",
        "outputId": "c8cc1795-fd1c-424a-f4e5-20cdcb3792e0"
      },
      "execution_count": null,
      "outputs": [
        {
          "output_type": "execute_result",
          "data": {
            "text/plain": [
              "(tensor([[1, 2, 3, 4, 5, 6, 7, 8, 9]]), torch.Size([1, 9]))"
            ]
          },
          "metadata": {},
          "execution_count": 87
        }
      ]
    },
    {
      "cell_type": "code",
      "source": [
        "x_reshaped_2 = x.reshape(3, 3)\n",
        "x_reshaped_2"
      ],
      "metadata": {
        "colab": {
          "base_uri": "https://localhost:8080/"
        },
        "id": "cdj0Jf5f0ylw",
        "outputId": "0337cc46-6654-444d-c3ed-fc1bbf9146d5"
      },
      "execution_count": null,
      "outputs": [
        {
          "output_type": "execute_result",
          "data": {
            "text/plain": [
              "tensor([[1, 2, 3],\n",
              "        [4, 5, 6],\n",
              "        [7, 8, 9]])"
            ]
          },
          "metadata": {},
          "execution_count": 88
        }
      ]
    },
    {
      "cell_type": "code",
      "source": [
        "# Change the view\n",
        "z = x.view(1, 9)\n",
        "z, z.shape"
      ],
      "metadata": {
        "colab": {
          "base_uri": "https://localhost:8080/"
        },
        "id": "kd4gxud20-Ad",
        "outputId": "de9cf327-1d0c-4247-d360-34bbe1ae8023"
      },
      "execution_count": null,
      "outputs": [
        {
          "output_type": "execute_result",
          "data": {
            "text/plain": [
              "(tensor([[1, 2, 3, 4, 5, 6, 7, 8, 9]]), torch.Size([1, 9]))"
            ]
          },
          "metadata": {},
          "execution_count": 89
        }
      ]
    },
    {
      "cell_type": "code",
      "source": [
        "# Changing z changes x because a view of a tensor points to the tensors memory location\n",
        "z[:, 0] = 5\n",
        "z, x"
      ],
      "metadata": {
        "colab": {
          "base_uri": "https://localhost:8080/"
        },
        "id": "t7Sb1Dnv1VZy",
        "outputId": "911165b2-52bc-4d1a-bc13-d7efb1fac434"
      },
      "execution_count": null,
      "outputs": [
        {
          "output_type": "execute_result",
          "data": {
            "text/plain": [
              "(tensor([[5, 2, 3, 4, 5, 6, 7, 8, 9]]), tensor([5, 2, 3, 4, 5, 6, 7, 8, 9]))"
            ]
          },
          "metadata": {},
          "execution_count": 90
        }
      ]
    },
    {
      "cell_type": "code",
      "source": [
        "z[:, 0] = 1\n",
        "x, z"
      ],
      "metadata": {
        "colab": {
          "base_uri": "https://localhost:8080/"
        },
        "id": "UK6ucL_H2MwV",
        "outputId": "3db2f207-a68f-4c2d-ba02-085102196cd1"
      },
      "execution_count": null,
      "outputs": [
        {
          "output_type": "execute_result",
          "data": {
            "text/plain": [
              "(tensor([1, 2, 3, 4, 5, 6, 7, 8, 9]), tensor([[1, 2, 3, 4, 5, 6, 7, 8, 9]]))"
            ]
          },
          "metadata": {},
          "execution_count": 91
        }
      ]
    },
    {
      "cell_type": "code",
      "source": [
        "# Stack tensors on top of each opther\n",
        "x_stacked = torch.stack([x, x, x, x], dim=0)\n",
        "x_stacked"
      ],
      "metadata": {
        "colab": {
          "base_uri": "https://localhost:8080/"
        },
        "id": "xZRNxRdd2RmB",
        "outputId": "0d377707-3b25-41a2-d432-3ddb61fefc36"
      },
      "execution_count": null,
      "outputs": [
        {
          "output_type": "execute_result",
          "data": {
            "text/plain": [
              "tensor([[1, 2, 3, 4, 5, 6, 7, 8, 9],\n",
              "        [1, 2, 3, 4, 5, 6, 7, 8, 9],\n",
              "        [1, 2, 3, 4, 5, 6, 7, 8, 9],\n",
              "        [1, 2, 3, 4, 5, 6, 7, 8, 9]])"
            ]
          },
          "metadata": {},
          "execution_count": 92
        }
      ]
    },
    {
      "cell_type": "code",
      "source": [
        "x_vstacked = torch.vstack([x, x, x])\n",
        "x_vstacked"
      ],
      "metadata": {
        "colab": {
          "base_uri": "https://localhost:8080/"
        },
        "id": "25qUMEG73nNl",
        "outputId": "5057f04c-4d12-42e3-d468-50177bb1f07f"
      },
      "execution_count": null,
      "outputs": [
        {
          "output_type": "execute_result",
          "data": {
            "text/plain": [
              "tensor([[1, 2, 3, 4, 5, 6, 7, 8, 9],\n",
              "        [1, 2, 3, 4, 5, 6, 7, 8, 9],\n",
              "        [1, 2, 3, 4, 5, 6, 7, 8, 9]])"
            ]
          },
          "metadata": {},
          "execution_count": 93
        }
      ]
    },
    {
      "cell_type": "code",
      "source": [
        "x_hstacked = torch.hstack([x, x, x])\n",
        "x_hstacked"
      ],
      "metadata": {
        "colab": {
          "base_uri": "https://localhost:8080/"
        },
        "id": "fl7w02ZC4NbG",
        "outputId": "52c1989c-2a5a-45f6-8b3a-182be0195169"
      },
      "execution_count": null,
      "outputs": [
        {
          "output_type": "execute_result",
          "data": {
            "text/plain": [
              "tensor([1, 2, 3, 4, 5, 6, 7, 8, 9, 1, 2, 3, 4, 5, 6, 7, 8, 9, 1, 2, 3, 4, 5, 6,\n",
              "        7, 8, 9])"
            ]
          },
          "metadata": {},
          "execution_count": 94
        }
      ]
    },
    {
      "cell_type": "code",
      "source": [
        "x_stacked_2 = torch.stack([x, x, x, x], dim=-2)\n",
        "x_stacked_2"
      ],
      "metadata": {
        "colab": {
          "base_uri": "https://localhost:8080/"
        },
        "id": "paO_a6vp4VFK",
        "outputId": "cfb4a8c6-f596-47ca-b26a-58f9bdac546c"
      },
      "execution_count": null,
      "outputs": [
        {
          "output_type": "execute_result",
          "data": {
            "text/plain": [
              "tensor([[1, 2, 3, 4, 5, 6, 7, 8, 9],\n",
              "        [1, 2, 3, 4, 5, 6, 7, 8, 9],\n",
              "        [1, 2, 3, 4, 5, 6, 7, 8, 9],\n",
              "        [1, 2, 3, 4, 5, 6, 7, 8, 9]])"
            ]
          },
          "metadata": {},
          "execution_count": 95
        }
      ]
    },
    {
      "cell_type": "code",
      "source": [
        "torch.squeeze(x_reshaped_2)\n"
      ],
      "metadata": {
        "colab": {
          "base_uri": "https://localhost:8080/"
        },
        "id": "1bqi9WK24hyB",
        "outputId": "a5fa7211-1f8c-474f-b6e6-da4e8ae3e2b7"
      },
      "execution_count": null,
      "outputs": [
        {
          "output_type": "execute_result",
          "data": {
            "text/plain": [
              "tensor([[1, 2, 3],\n",
              "        [4, 5, 6],\n",
              "        [7, 8, 9]])"
            ]
          },
          "metadata": {},
          "execution_count": 96
        }
      ]
    },
    {
      "cell_type": "code",
      "source": [
        "x_reshaped_2.ndim"
      ],
      "metadata": {
        "colab": {
          "base_uri": "https://localhost:8080/"
        },
        "id": "YC91BVx-I08Z",
        "outputId": "a18ab2b7-a542-4ea8-a609-aa266a0e4dd6"
      },
      "execution_count": null,
      "outputs": [
        {
          "output_type": "execute_result",
          "data": {
            "text/plain": [
              "2"
            ]
          },
          "metadata": {},
          "execution_count": 97
        }
      ]
    },
    {
      "cell_type": "code",
      "source": [
        "x_reshaped_2.shape"
      ],
      "metadata": {
        "colab": {
          "base_uri": "https://localhost:8080/"
        },
        "id": "1LDvRo5dJcpy",
        "outputId": "75e038f7-2504-4a50-a2cc-5d5a8a9d98da"
      },
      "execution_count": null,
      "outputs": [
        {
          "output_type": "execute_result",
          "data": {
            "text/plain": [
              "torch.Size([3, 3])"
            ]
          },
          "metadata": {},
          "execution_count": 98
        }
      ]
    },
    {
      "cell_type": "code",
      "source": [
        "squeeze_tensor = torch.rand([3, 2, 1])\n",
        "squeeze_tensor.shape, squeeze_tensor\n",
        "\n"
      ],
      "metadata": {
        "colab": {
          "base_uri": "https://localhost:8080/"
        },
        "id": "fV5Eqg2cJhSU",
        "outputId": "f04491bc-e83c-4d9c-b51b-2be148017454"
      },
      "execution_count": null,
      "outputs": [
        {
          "output_type": "execute_result",
          "data": {
            "text/plain": [
              "(torch.Size([3, 2, 1]),\n",
              " tensor([[[0.2475],\n",
              "          [0.4171]],\n",
              " \n",
              "         [[0.8847],\n",
              "          [0.0025]],\n",
              " \n",
              "         [[0.3507],\n",
              "          [0.2428]]]))"
            ]
          },
          "metadata": {},
          "execution_count": 99
        }
      ]
    },
    {
      "cell_type": "code",
      "source": [
        "squeeze_tensor[0]"
      ],
      "metadata": {
        "colab": {
          "base_uri": "https://localhost:8080/"
        },
        "id": "hlM0WhSIKY-W",
        "outputId": "14a72d94-07c3-48bf-e66d-8e0b793a5d5f"
      },
      "execution_count": null,
      "outputs": [
        {
          "output_type": "execute_result",
          "data": {
            "text/plain": [
              "tensor([[0.2475],\n",
              "        [0.4171]])"
            ]
          },
          "metadata": {},
          "execution_count": 100
        }
      ]
    },
    {
      "cell_type": "code",
      "source": [
        "squeeze_tensor[0][0]"
      ],
      "metadata": {
        "colab": {
          "base_uri": "https://localhost:8080/"
        },
        "id": "GdHmhyKmKbH3",
        "outputId": "c16954b4-cf88-4edb-830c-eb669cc6ca5d"
      },
      "execution_count": null,
      "outputs": [
        {
          "output_type": "execute_result",
          "data": {
            "text/plain": [
              "tensor([0.2475])"
            ]
          },
          "metadata": {},
          "execution_count": 101
        }
      ]
    },
    {
      "cell_type": "code",
      "source": [
        "squeeze_tensor[0][0][0]"
      ],
      "metadata": {
        "colab": {
          "base_uri": "https://localhost:8080/"
        },
        "id": "nX2MLH__JuCU",
        "outputId": "8c4b66d9-5526-4d3e-e130-ff2b10246c6a"
      },
      "execution_count": null,
      "outputs": [
        {
          "output_type": "execute_result",
          "data": {
            "text/plain": [
              "tensor(0.2475)"
            ]
          },
          "metadata": {},
          "execution_count": 102
        }
      ]
    },
    {
      "cell_type": "code",
      "source": [
        "# torch.squeeze\n",
        "print(f\"Previous tensor: {x_reshaped}\")\n",
        "print(f\"Previous tensor shape: {x_reshaped.shape}\")\n",
        "\n",
        "print(f\"\\nSqueezed previous tensor: {x_reshaped.squeeze()}\")\n",
        "print(f\"Squeezed previous tensor shape: {x_reshaped.squeeze().shape}\")"
      ],
      "metadata": {
        "colab": {
          "base_uri": "https://localhost:8080/"
        },
        "id": "sCAvvQ8qKKFL",
        "outputId": "4b15fdb1-c2dc-41e7-a7c7-ac48d055bcc5"
      },
      "execution_count": null,
      "outputs": [
        {
          "output_type": "stream",
          "name": "stdout",
          "text": [
            "Previous tensor: tensor([[1, 2, 3, 4, 5, 6, 7, 8, 9]])\n",
            "Previous tensor shape: torch.Size([1, 9])\n",
            "\n",
            "Squeezed previous tensor: tensor([1, 2, 3, 4, 5, 6, 7, 8, 9])\n",
            "Squeezed previous tensor shape: torch.Size([9])\n"
          ]
        }
      ]
    },
    {
      "cell_type": "code",
      "source": [
        "x_reshaped"
      ],
      "metadata": {
        "colab": {
          "base_uri": "https://localhost:8080/"
        },
        "id": "erWoLhfGLPXv",
        "outputId": "7d28b1b3-e850-446a-d9db-b4c0bad82b12"
      },
      "execution_count": null,
      "outputs": [
        {
          "output_type": "execute_result",
          "data": {
            "text/plain": [
              "tensor([[1, 2, 3, 4, 5, 6, 7, 8, 9]])"
            ]
          },
          "metadata": {},
          "execution_count": 104
        }
      ]
    },
    {
      "cell_type": "code",
      "source": [
        "x_reshaped.shape"
      ],
      "metadata": {
        "colab": {
          "base_uri": "https://localhost:8080/"
        },
        "id": "yldy4q4bLY6C",
        "outputId": "e2ec7611-ea18-42d9-cb0d-02999b62c37b"
      },
      "execution_count": null,
      "outputs": [
        {
          "output_type": "execute_result",
          "data": {
            "text/plain": [
              "torch.Size([1, 9])"
            ]
          },
          "metadata": {},
          "execution_count": 105
        }
      ]
    },
    {
      "cell_type": "code",
      "source": [
        "x_reshaped.squeeze().shape"
      ],
      "metadata": {
        "colab": {
          "base_uri": "https://localhost:8080/"
        },
        "id": "l4mk37CoLagt",
        "outputId": "49678a30-e949-4b66-d69c-dffc94ac13ad"
      },
      "execution_count": null,
      "outputs": [
        {
          "output_type": "execute_result",
          "data": {
            "text/plain": [
              "torch.Size([9])"
            ]
          },
          "metadata": {},
          "execution_count": 106
        }
      ]
    },
    {
      "cell_type": "code",
      "source": [
        "# torch.unsqueeze() - adds a single dimension to a target tensor at a specific dim\n",
        "print(f\"Previous target: {x_reshaped.squeeze()}\")\n",
        "print(f\"Previous target shape: {x_reshaped.squeeze().shape}\")\n",
        "\n",
        "# Add an extra dimension with unsqueeze()\n",
        "x_unsqueezed = x_reshaped.squeeze().unsqueeze(dim=0)\n",
        "print(f\"\\nNew tensor: {x_unsqueezed}\")\n",
        "print(f\"New tensor shape: {x_unsqueezed.shape}\")"
      ],
      "metadata": {
        "colab": {
          "base_uri": "https://localhost:8080/"
        },
        "id": "IS-jsMjgLv_H",
        "outputId": "f1b85483-5cba-4761-c2b0-4c4cc66332b3"
      },
      "execution_count": null,
      "outputs": [
        {
          "output_type": "stream",
          "name": "stdout",
          "text": [
            "Previous target: tensor([1, 2, 3, 4, 5, 6, 7, 8, 9])\n",
            "Previous target shape: torch.Size([9])\n",
            "\n",
            "New tensor: tensor([[1, 2, 3, 4, 5, 6, 7, 8, 9]])\n",
            "New tensor shape: torch.Size([1, 9])\n"
          ]
        }
      ]
    },
    {
      "cell_type": "code",
      "source": [
        "# torch.permute() - rearranges the dimensions of the target tensor\n",
        "t = torch.randn([3, 4, 5])"
      ],
      "metadata": {
        "id": "lm0JL38wNaGZ"
      },
      "execution_count": null,
      "outputs": []
    },
    {
      "cell_type": "code",
      "source": [
        "t"
      ],
      "metadata": {
        "colab": {
          "base_uri": "https://localhost:8080/"
        },
        "id": "xa-ykBuaPKZC",
        "outputId": "889e99db-8112-4c30-f38c-02f5419c4b46"
      },
      "execution_count": null,
      "outputs": [
        {
          "output_type": "execute_result",
          "data": {
            "text/plain": [
              "tensor([[[-0.3892, -0.4043,  1.3937, -0.7008,  0.3752],\n",
              "         [-0.1865, -0.0776, -0.3193,  1.0667, -0.7570],\n",
              "         [-0.1368, -0.2640,  0.2072,  0.9838,  0.8607],\n",
              "         [-0.1166,  0.0652, -0.7275,  0.2730,  1.4417]],\n",
              "\n",
              "        [[ 0.6773, -0.8386, -0.7090, -2.0404,  0.1705],\n",
              "         [ 0.3447,  0.5259,  0.4307, -0.7637,  0.9057],\n",
              "         [ 1.0590,  0.3609,  1.4567, -1.7826, -0.7923],\n",
              "         [ 0.8454,  1.0065,  0.7340,  0.1227, -1.2851]],\n",
              "\n",
              "        [[-1.1356, -0.7987,  0.5595,  0.0853, -0.1892],\n",
              "         [-0.4868, -1.6277,  1.4342,  0.5354, -0.8453],\n",
              "         [ 0.9096,  0.3547,  0.9631,  0.0278,  0.6039],\n",
              "         [ 0.4854,  0.7703, -1.4473, -0.1073, -0.6149]]])"
            ]
          },
          "metadata": {},
          "execution_count": 109
        }
      ]
    },
    {
      "cell_type": "code",
      "source": [
        "# Permute the original tensor to rearrange the axes\n",
        "t_permuted = t.permute(2, 0, 1)\n",
        "print(f\"Original tensor:\\n {t}\")\n",
        "print(f\" Original shape:\\n {t.shape}\")\n",
        "print(f\"\\nPermuted t:\\n {t_permuted}\")\n",
        "print(f\"Permuted t shape:\\n {t_permuted.shape}\")"
      ],
      "metadata": {
        "colab": {
          "base_uri": "https://localhost:8080/"
        },
        "id": "qvPvQF1JPLB3",
        "outputId": "e393187d-2e39-4eb6-f201-1e2cf43c7ee9"
      },
      "execution_count": null,
      "outputs": [
        {
          "output_type": "stream",
          "name": "stdout",
          "text": [
            "Original tensor:\n",
            " tensor([[[-0.3892, -0.4043,  1.3937, -0.7008,  0.3752],\n",
            "         [-0.1865, -0.0776, -0.3193,  1.0667, -0.7570],\n",
            "         [-0.1368, -0.2640,  0.2072,  0.9838,  0.8607],\n",
            "         [-0.1166,  0.0652, -0.7275,  0.2730,  1.4417]],\n",
            "\n",
            "        [[ 0.6773, -0.8386, -0.7090, -2.0404,  0.1705],\n",
            "         [ 0.3447,  0.5259,  0.4307, -0.7637,  0.9057],\n",
            "         [ 1.0590,  0.3609,  1.4567, -1.7826, -0.7923],\n",
            "         [ 0.8454,  1.0065,  0.7340,  0.1227, -1.2851]],\n",
            "\n",
            "        [[-1.1356, -0.7987,  0.5595,  0.0853, -0.1892],\n",
            "         [-0.4868, -1.6277,  1.4342,  0.5354, -0.8453],\n",
            "         [ 0.9096,  0.3547,  0.9631,  0.0278,  0.6039],\n",
            "         [ 0.4854,  0.7703, -1.4473, -0.1073, -0.6149]]])\n",
            " Original shape:\n",
            " torch.Size([3, 4, 5])\n",
            "\n",
            "Permuted t:\n",
            " tensor([[[-0.3892, -0.1865, -0.1368, -0.1166],\n",
            "         [ 0.6773,  0.3447,  1.0590,  0.8454],\n",
            "         [-1.1356, -0.4868,  0.9096,  0.4854]],\n",
            "\n",
            "        [[-0.4043, -0.0776, -0.2640,  0.0652],\n",
            "         [-0.8386,  0.5259,  0.3609,  1.0065],\n",
            "         [-0.7987, -1.6277,  0.3547,  0.7703]],\n",
            "\n",
            "        [[ 1.3937, -0.3193,  0.2072, -0.7275],\n",
            "         [-0.7090,  0.4307,  1.4567,  0.7340],\n",
            "         [ 0.5595,  1.4342,  0.9631, -1.4473]],\n",
            "\n",
            "        [[-0.7008,  1.0667,  0.9838,  0.2730],\n",
            "         [-2.0404, -0.7637, -1.7826,  0.1227],\n",
            "         [ 0.0853,  0.5354,  0.0278, -0.1073]],\n",
            "\n",
            "        [[ 0.3752, -0.7570,  0.8607,  1.4417],\n",
            "         [ 0.1705,  0.9057, -0.7923, -1.2851],\n",
            "         [-0.1892, -0.8453,  0.6039, -0.6149]]])\n",
            "Permuted t shape:\n",
            " torch.Size([5, 3, 4])\n"
          ]
        }
      ]
    },
    {
      "cell_type": "code",
      "source": [
        "index_1 = t[1, 1, 1]"
      ],
      "metadata": {
        "id": "pqm5i-NoP0Zy"
      },
      "execution_count": null,
      "outputs": []
    },
    {
      "cell_type": "code",
      "source": [
        "t[1, 1, 1] = 6543.00\n",
        "t_permuted"
      ],
      "metadata": {
        "colab": {
          "base_uri": "https://localhost:8080/"
        },
        "id": "fYHx2RK2YQcV",
        "outputId": "ba97e4ea-379a-4bc5-f601-3146d869bf37"
      },
      "execution_count": null,
      "outputs": [
        {
          "output_type": "execute_result",
          "data": {
            "text/plain": [
              "tensor([[[-3.8924e-01, -1.8648e-01, -1.3683e-01, -1.1656e-01],\n",
              "         [ 6.7733e-01,  3.4470e-01,  1.0590e+00,  8.4538e-01],\n",
              "         [-1.1356e+00, -4.8681e-01,  9.0963e-01,  4.8537e-01]],\n",
              "\n",
              "        [[-4.0431e-01, -7.7550e-02, -2.6397e-01,  6.5200e-02],\n",
              "         [-8.3857e-01,  6.5430e+03,  3.6093e-01,  1.0065e+00],\n",
              "         [-7.9870e-01, -1.6277e+00,  3.5472e-01,  7.7032e-01]],\n",
              "\n",
              "        [[ 1.3937e+00, -3.1931e-01,  2.0722e-01, -7.2748e-01],\n",
              "         [-7.0899e-01,  4.3065e-01,  1.4567e+00,  7.3404e-01],\n",
              "         [ 5.5953e-01,  1.4342e+00,  9.6312e-01, -1.4473e+00]],\n",
              "\n",
              "        [[-7.0079e-01,  1.0667e+00,  9.8375e-01,  2.7295e-01],\n",
              "         [-2.0404e+00, -7.6365e-01, -1.7826e+00,  1.2267e-01],\n",
              "         [ 8.5292e-02,  5.3539e-01,  2.7811e-02, -1.0727e-01]],\n",
              "\n",
              "        [[ 3.7524e-01, -7.5704e-01,  8.6066e-01,  1.4417e+00],\n",
              "         [ 1.7054e-01,  9.0574e-01, -7.9228e-01, -1.2851e+00],\n",
              "         [-1.8921e-01, -8.4534e-01,  6.0393e-01, -6.1490e-01]]])"
            ]
          },
          "metadata": {},
          "execution_count": 112
        }
      ]
    },
    {
      "cell_type": "code",
      "source": [
        "t[1, 1, 1], t_permuted[1, 1, 1]"
      ],
      "metadata": {
        "colab": {
          "base_uri": "https://localhost:8080/"
        },
        "id": "e66X_t2vYksI",
        "outputId": "d2b9afe6-9c26-463c-9c85-ed27671aae38"
      },
      "execution_count": null,
      "outputs": [
        {
          "output_type": "execute_result",
          "data": {
            "text/plain": [
              "(tensor(6543.), tensor(6543.))"
            ]
          },
          "metadata": {},
          "execution_count": 113
        }
      ]
    },
    {
      "cell_type": "markdown",
      "source": [
        "## Indexing (selecting data from tensors)\n",
        "## Indexing with PyTorch is similar to indexing with NUmpy"
      ],
      "metadata": {
        "id": "y7694YmsMOZa"
      }
    },
    {
      "cell_type": "code",
      "source": [
        "# Create a tensor\n",
        "import torch\n",
        "x = torch.arange(1, 10).reshape(1, 3, 3)"
      ],
      "metadata": {
        "id": "mJSje-R8NMVd"
      },
      "execution_count": null,
      "outputs": []
    },
    {
      "cell_type": "code",
      "source": [
        "x, x.shape"
      ],
      "metadata": {
        "colab": {
          "base_uri": "https://localhost:8080/"
        },
        "id": "7nfgcciXNYNf",
        "outputId": "28d02413-58ef-4835-c862-495c655218b1"
      },
      "execution_count": null,
      "outputs": [
        {
          "output_type": "execute_result",
          "data": {
            "text/plain": [
              "(tensor([[[1, 2, 3],\n",
              "          [4, 5, 6],\n",
              "          [7, 8, 9]]]),\n",
              " torch.Size([1, 3, 3]))"
            ]
          },
          "metadata": {},
          "execution_count": 115
        }
      ]
    },
    {
      "cell_type": "code",
      "source": [
        "# Index on new tensor\n",
        "x[0]"
      ],
      "metadata": {
        "colab": {
          "base_uri": "https://localhost:8080/"
        },
        "id": "mgkhBFItNZEy",
        "outputId": "dca97111-8516-43ad-c4d1-b2811bdb2b4a"
      },
      "execution_count": null,
      "outputs": [
        {
          "output_type": "execute_result",
          "data": {
            "text/plain": [
              "tensor([[1, 2, 3],\n",
              "        [4, 5, 6],\n",
              "        [7, 8, 9]])"
            ]
          },
          "metadata": {},
          "execution_count": 116
        }
      ]
    },
    {
      "cell_type": "code",
      "source": [
        "# Indexing on middle bracket\n",
        "x[0][0]"
      ],
      "metadata": {
        "colab": {
          "base_uri": "https://localhost:8080/"
        },
        "id": "SERgDYkVNlZt",
        "outputId": "94c355d4-99e9-4826-8e74-9ead5a8931e8"
      },
      "execution_count": null,
      "outputs": [
        {
          "output_type": "execute_result",
          "data": {
            "text/plain": [
              "tensor([1, 2, 3])"
            ]
          },
          "metadata": {},
          "execution_count": 117
        }
      ]
    },
    {
      "cell_type": "code",
      "source": [
        "# Indexing on most inner bracket (last dimension)\n",
        "x[0][0][0]"
      ],
      "metadata": {
        "colab": {
          "base_uri": "https://localhost:8080/"
        },
        "id": "W3UbLZ25Nsvi",
        "outputId": "61211f29-18b3-47da-c26d-f05427c65d8e"
      },
      "execution_count": null,
      "outputs": [
        {
          "output_type": "execute_result",
          "data": {
            "text/plain": [
              "tensor(1)"
            ]
          },
          "metadata": {},
          "execution_count": 118
        }
      ]
    },
    {
      "cell_type": "code",
      "source": [
        "# Remember if the most outer dimesion is 1, then the first index must always be 0\n",
        "x[0][2][2]"
      ],
      "metadata": {
        "colab": {
          "base_uri": "https://localhost:8080/"
        },
        "id": "kBBMRQP7OCQc",
        "outputId": "0aaec498-da24-47ed-b23e-6310dfe927a6"
      },
      "execution_count": null,
      "outputs": [
        {
          "output_type": "execute_result",
          "data": {
            "text/plain": [
              "tensor(9)"
            ]
          },
          "metadata": {},
          "execution_count": 119
        }
      ]
    },
    {
      "cell_type": "code",
      "source": [
        "# We can also use \":\" to select \"all\" of a target dimension\n",
        "x[:]"
      ],
      "metadata": {
        "colab": {
          "base_uri": "https://localhost:8080/"
        },
        "id": "aZl_6gqqOmd2",
        "outputId": "dab35f89-66b9-433a-924e-20160dfdd7da"
      },
      "execution_count": null,
      "outputs": [
        {
          "output_type": "execute_result",
          "data": {
            "text/plain": [
              "tensor([[[1, 2, 3],\n",
              "         [4, 5, 6],\n",
              "         [7, 8, 9]]])"
            ]
          },
          "metadata": {},
          "execution_count": 120
        }
      ]
    },
    {
      "cell_type": "code",
      "source": [
        "x[:, :, :]"
      ],
      "metadata": {
        "colab": {
          "base_uri": "https://localhost:8080/"
        },
        "id": "wF7BWldfPU65",
        "outputId": "17e72f05-e176-4032-86d3-d56b44d757bb"
      },
      "execution_count": null,
      "outputs": [
        {
          "output_type": "execute_result",
          "data": {
            "text/plain": [
              "tensor([[[1, 2, 3],\n",
              "         [4, 5, 6],\n",
              "         [7, 8, 9]]])"
            ]
          },
          "metadata": {},
          "execution_count": 121
        }
      ]
    },
    {
      "cell_type": "code",
      "source": [
        "x[0, 0, :]"
      ],
      "metadata": {
        "colab": {
          "base_uri": "https://localhost:8080/"
        },
        "id": "qAbXEN4-PYEP",
        "outputId": "8dec2c6f-94ee-4fe1-ac8c-d6ecd54c030d"
      },
      "execution_count": null,
      "outputs": [
        {
          "output_type": "execute_result",
          "data": {
            "text/plain": [
              "tensor([1, 2, 3])"
            ]
          },
          "metadata": {},
          "execution_count": 122
        }
      ]
    },
    {
      "cell_type": "code",
      "source": [
        "# Get all of the 0tha dn 1st dimensions, but only the 1st of the 2nd (last dimension)\n",
        "x[:, :, 1]"
      ],
      "metadata": {
        "colab": {
          "base_uri": "https://localhost:8080/"
        },
        "id": "1FjJwya9Pdr8",
        "outputId": "731df024-b257-4b65-edf6-ca83e6fe1d47"
      },
      "execution_count": null,
      "outputs": [
        {
          "output_type": "execute_result",
          "data": {
            "text/plain": [
              "tensor([[2, 5, 8]])"
            ]
          },
          "metadata": {},
          "execution_count": 123
        }
      ]
    },
    {
      "cell_type": "code",
      "source": [
        "# Get all values of the 0 dimension, but only the 1st index of the 1st and 2nd dimension\n",
        "x[:, 1, 1].shape"
      ],
      "metadata": {
        "colab": {
          "base_uri": "https://localhost:8080/"
        },
        "id": "Zw6kvt88P0ND",
        "outputId": "7315108d-20fd-44ea-e54b-9c1dea859807"
      },
      "execution_count": null,
      "outputs": [
        {
          "output_type": "execute_result",
          "data": {
            "text/plain": [
              "torch.Size([1])"
            ]
          },
          "metadata": {},
          "execution_count": 124
        }
      ]
    },
    {
      "cell_type": "code",
      "source": [
        "x.shape"
      ],
      "metadata": {
        "colab": {
          "base_uri": "https://localhost:8080/"
        },
        "id": "ExCBCTKvQW4q",
        "outputId": "748e997e-4f44-4e3c-b55e-2b52826eb814"
      },
      "execution_count": null,
      "outputs": [
        {
          "output_type": "execute_result",
          "data": {
            "text/plain": [
              "torch.Size([1, 3, 3])"
            ]
          },
          "metadata": {},
          "execution_count": 125
        }
      ]
    },
    {
      "cell_type": "code",
      "source": [
        "# Get index 0 of 0th and 1st dimensions and all values of 2nd dimension\n",
        "x[0, 0, :]"
      ],
      "metadata": {
        "colab": {
          "base_uri": "https://localhost:8080/"
        },
        "id": "zfmlBS05QpA1",
        "outputId": "786c15cf-454d-46e3-c481-9524477a67b4"
      },
      "execution_count": null,
      "outputs": [
        {
          "output_type": "execute_result",
          "data": {
            "text/plain": [
              "tensor([1, 2, 3])"
            ]
          },
          "metadata": {},
          "execution_count": 126
        }
      ]
    },
    {
      "cell_type": "code",
      "source": [
        "# Index on x to return 9 and to return 3, 6, 9"
      ],
      "metadata": {
        "id": "ql3zEwbpQxUJ"
      },
      "execution_count": null,
      "outputs": []
    },
    {
      "cell_type": "code",
      "source": [
        "# Return 9\n",
        "x[0, 2, 2]"
      ],
      "metadata": {
        "colab": {
          "base_uri": "https://localhost:8080/"
        },
        "id": "aSu_zHJsRQFN",
        "outputId": "b8031c25-cd75-4132-aa78-4aea32920235"
      },
      "execution_count": null,
      "outputs": [
        {
          "output_type": "execute_result",
          "data": {
            "text/plain": [
              "tensor(9)"
            ]
          },
          "metadata": {},
          "execution_count": 128
        }
      ]
    },
    {
      "cell_type": "code",
      "source": [
        "# Return 3, 6, 9\n",
        "x[:, :, 2]"
      ],
      "metadata": {
        "colab": {
          "base_uri": "https://localhost:8080/"
        },
        "id": "xn9yGsWeRelN",
        "outputId": "283543a9-3589-4b8c-d032-a9074c45f8fc"
      },
      "execution_count": null,
      "outputs": [
        {
          "output_type": "execute_result",
          "data": {
            "text/plain": [
              "tensor([[3, 6, 9]])"
            ]
          },
          "metadata": {},
          "execution_count": 129
        }
      ]
    },
    {
      "cell_type": "markdown",
      "source": [
        "# PyTorch tensors and Numpy\n",
        "\n",
        "Numpy is a popular scientific numerical computing library.\n",
        "Because of this, PyTorch has functionality to interact with it.\n",
        "\n",
        "\n",
        "*   Data in NumPy; if we want in a PyTorch tensor -> `torch.from_numpy(ndarray)`\n",
        "*   PyTorch tensor -> NumPy -> torch.Tensor.numpy()\n",
        "\n"
      ],
      "metadata": {
        "id": "4Ium8iBfRp5m"
      }
    },
    {
      "cell_type": "code",
      "source": [
        "# NumPy array to tensor\n",
        "array = np.arange(1.0, 10.0)\n",
        "array"
      ],
      "metadata": {
        "colab": {
          "base_uri": "https://localhost:8080/"
        },
        "id": "rkB4KvXETvCR",
        "outputId": "04a85fa5-ca40-49fe-faaf-aa58207ae2ad"
      },
      "execution_count": null,
      "outputs": [
        {
          "output_type": "execute_result",
          "data": {
            "text/plain": [
              "array([1., 2., 3., 4., 5., 6., 7., 8., 9.])"
            ]
          },
          "metadata": {},
          "execution_count": 130
        }
      ]
    },
    {
      "cell_type": "code",
      "source": [
        "tensor = torch.from_numpy(array).type(torch.float32) # when converting from numpy -> pytorch, datatype willbe float64 because that is the default datatype of numpy\n",
        "# we can convert the datatype to the defualt float 32 just by using the type conversion in PyTorch\n",
        "\n",
        "tensor"
      ],
      "metadata": {
        "colab": {
          "base_uri": "https://localhost:8080/"
        },
        "id": "4xX-xzmDT54D",
        "outputId": "b5f83570-1f7f-458f-b473-64be0ed3008f"
      },
      "execution_count": null,
      "outputs": [
        {
          "output_type": "execute_result",
          "data": {
            "text/plain": [
              "tensor([1., 2., 3., 4., 5., 6., 7., 8., 9.])"
            ]
          },
          "metadata": {},
          "execution_count": 131
        }
      ]
    },
    {
      "cell_type": "code",
      "source": [
        "array.dtype, tensor.dtype"
      ],
      "metadata": {
        "colab": {
          "base_uri": "https://localhost:8080/"
        },
        "id": "waOS_iybT_Fc",
        "outputId": "7f841454-58d2-4b40-c4b2-9986c69544dd"
      },
      "execution_count": null,
      "outputs": [
        {
          "output_type": "execute_result",
          "data": {
            "text/plain": [
              "(dtype('float64'), torch.float32)"
            ]
          },
          "metadata": {},
          "execution_count": 132
        }
      ]
    },
    {
      "cell_type": "code",
      "source": [
        "# Changing the value of an array does not change the vlaue of the tensor\n",
        "array += 1\n",
        "array"
      ],
      "metadata": {
        "colab": {
          "base_uri": "https://localhost:8080/"
        },
        "id": "SU5a6bapUMH4",
        "outputId": "69622794-ba6e-4183-dd52-eca2e27a7df0"
      },
      "execution_count": null,
      "outputs": [
        {
          "output_type": "execute_result",
          "data": {
            "text/plain": [
              "array([ 2.,  3.,  4.,  5.,  6.,  7.,  8.,  9., 10.])"
            ]
          },
          "metadata": {},
          "execution_count": 133
        }
      ]
    },
    {
      "cell_type": "code",
      "source": [
        "tensor"
      ],
      "metadata": {
        "colab": {
          "base_uri": "https://localhost:8080/"
        },
        "id": "LF_RnH_NYE7h",
        "outputId": "ebb6839a-3292-4c7a-8ff1-40b55a692576"
      },
      "execution_count": null,
      "outputs": [
        {
          "output_type": "execute_result",
          "data": {
            "text/plain": [
              "tensor([1., 2., 3., 4., 5., 6., 7., 8., 9.])"
            ]
          },
          "metadata": {},
          "execution_count": 134
        }
      ]
    },
    {
      "cell_type": "code",
      "source": [
        "# tensor to numpy array\n",
        "np_arr = tensor.numpy()"
      ],
      "metadata": {
        "id": "9_pXO5WfYICl"
      },
      "execution_count": null,
      "outputs": []
    },
    {
      "cell_type": "code",
      "source": [
        "np_arr"
      ],
      "metadata": {
        "colab": {
          "base_uri": "https://localhost:8080/"
        },
        "id": "9xw-m1cnYX0B",
        "outputId": "da22c43f-63dd-47ad-b3fc-89982bbef6d4"
      },
      "execution_count": null,
      "outputs": [
        {
          "output_type": "execute_result",
          "data": {
            "text/plain": [
              "array([1., 2., 3., 4., 5., 6., 7., 8., 9.], dtype=float32)"
            ]
          },
          "metadata": {},
          "execution_count": 136
        }
      ]
    },
    {
      "cell_type": "code",
      "source": [
        "# changing the tensor does what to numpy tensor\n",
        "tensor = tensor + 1"
      ],
      "metadata": {
        "id": "InqSUTNLYYtg"
      },
      "execution_count": null,
      "outputs": []
    },
    {
      "cell_type": "code",
      "source": [
        "tensor, np_arr"
      ],
      "metadata": {
        "colab": {
          "base_uri": "https://localhost:8080/"
        },
        "id": "s3lLqEgVYvLH",
        "outputId": "e25deb96-6744-4dd6-8f5d-832ce87fe94b"
      },
      "execution_count": null,
      "outputs": [
        {
          "output_type": "execute_result",
          "data": {
            "text/plain": [
              "(tensor([ 2.,  3.,  4.,  5.,  6.,  7.,  8.,  9., 10.]),\n",
              " array([1., 2., 3., 4., 5., 6., 7., 8., 9.], dtype=float32))"
            ]
          },
          "metadata": {},
          "execution_count": 138
        }
      ]
    },
    {
      "cell_type": "code",
      "source": [
        "tensor -= 1"
      ],
      "metadata": {
        "id": "8xrJsrYqYxzE"
      },
      "execution_count": null,
      "outputs": []
    },
    {
      "cell_type": "code",
      "source": [
        "tensor, np_arr"
      ],
      "metadata": {
        "colab": {
          "base_uri": "https://localhost:8080/"
        },
        "id": "I9-BnlvKY1oG",
        "outputId": "bfda19bc-4569-4d3f-cc17-42ce7aa026e1"
      },
      "execution_count": null,
      "outputs": [
        {
          "output_type": "execute_result",
          "data": {
            "text/plain": [
              "(tensor([1., 2., 3., 4., 5., 6., 7., 8., 9.]),\n",
              " array([1., 2., 3., 4., 5., 6., 7., 8., 9.], dtype=float32))"
            ]
          },
          "metadata": {},
          "execution_count": 140
        }
      ]
    },
    {
      "cell_type": "code",
      "source": [
        "tens = torch.ones(7)\n",
        "numpy_tens = tens.numpy()\n",
        "tens, numpy_tens\n"
      ],
      "metadata": {
        "colab": {
          "base_uri": "https://localhost:8080/"
        },
        "id": "Ens0Z7Y4Y28c",
        "outputId": "5462e071-bb9b-401f-be79-05247a69a5d4"
      },
      "execution_count": null,
      "outputs": [
        {
          "output_type": "execute_result",
          "data": {
            "text/plain": [
              "(tensor([1., 1., 1., 1., 1., 1., 1.]),\n",
              " array([1., 1., 1., 1., 1., 1., 1.], dtype=float32))"
            ]
          },
          "metadata": {},
          "execution_count": 141
        }
      ]
    },
    {
      "cell_type": "code",
      "source": [
        "# change tensor to see if changes are reflected in numpy array\n",
        "tensor = tensor + 1\n",
        "tensor, numpy_tens\n"
      ],
      "metadata": {
        "colab": {
          "base_uri": "https://localhost:8080/"
        },
        "id": "FnfyjZrgZVkk",
        "outputId": "92609677-09c0-4432-981a-edabbbecfb68"
      },
      "execution_count": null,
      "outputs": [
        {
          "output_type": "execute_result",
          "data": {
            "text/plain": [
              "(tensor([ 2.,  3.,  4.,  5.,  6.,  7.,  8.,  9., 10.]),\n",
              " array([1., 1., 1., 1., 1., 1., 1.], dtype=float32))"
            ]
          },
          "metadata": {},
          "execution_count": 142
        }
      ]
    },
    {
      "cell_type": "code",
      "source": [
        "tensor = torch.arange(1, 10)\n",
        "tensor"
      ],
      "metadata": {
        "colab": {
          "base_uri": "https://localhost:8080/"
        },
        "id": "Y0PLIM3ZZuy7",
        "outputId": "8b6bd2ce-058c-40e1-aa7f-a936dc053251"
      },
      "execution_count": null,
      "outputs": [
        {
          "output_type": "execute_result",
          "data": {
            "text/plain": [
              "tensor([1, 2, 3, 4, 5, 6, 7, 8, 9])"
            ]
          },
          "metadata": {},
          "execution_count": 143
        }
      ]
    },
    {
      "cell_type": "code",
      "source": [
        "arr = tensor.numpy()\n",
        "arr"
      ],
      "metadata": {
        "colab": {
          "base_uri": "https://localhost:8080/"
        },
        "id": "g5XZovaXbZLe",
        "outputId": "656612e3-3add-4f32-9b02-5d69f20a742b"
      },
      "execution_count": null,
      "outputs": [
        {
          "output_type": "execute_result",
          "data": {
            "text/plain": [
              "array([1, 2, 3, 4, 5, 6, 7, 8, 9])"
            ]
          },
          "metadata": {},
          "execution_count": 144
        }
      ]
    },
    {
      "cell_type": "code",
      "source": [
        "tensor = tensor + 1"
      ],
      "metadata": {
        "id": "JdAuSEA8beLO"
      },
      "execution_count": null,
      "outputs": []
    },
    {
      "cell_type": "code",
      "source": [
        "tensor, arr"
      ],
      "metadata": {
        "colab": {
          "base_uri": "https://localhost:8080/"
        },
        "id": "71-_SBjNbhbH",
        "outputId": "3bc40df9-01a2-4c56-e8a9-bc4e162778ea"
      },
      "execution_count": null,
      "outputs": [
        {
          "output_type": "execute_result",
          "data": {
            "text/plain": [
              "(tensor([ 2,  3,  4,  5,  6,  7,  8,  9, 10]),\n",
              " array([1, 2, 3, 4, 5, 6, 7, 8, 9]))"
            ]
          },
          "metadata": {},
          "execution_count": 146
        }
      ]
    },
    {
      "cell_type": "markdown",
      "source": [
        "## Reproducibility (trying to take the random out of random)\n",
        "\n",
        "In short, how a neural network learns:\n",
        "\n",
        "`start with random numbers -> tensor operations -> update random numbers to try and make them better representations of the data -> again -> again -> again`\n",
        "\n",
        "To reduce the randomness in neural networks and PyTorch comes the concept of a **random seed**\n",
        "\n",
        "Essentially what the random seed does is flavor the randomness"
      ],
      "metadata": {
        "id": "pt5oF78XbiNz"
      }
    },
    {
      "cell_type": "code",
      "source": [
        "import torch\n",
        "# Create two random tensors\n",
        "random_tensor_A = torch.rand(3, 4)\n",
        "random_tensor_B = torch.rand(3, 4)\n",
        "\n",
        "print(random_tensor_A)\n",
        "print(random_tensor_B)\n",
        "print(random_tensor_A == random_tensor_B)"
      ],
      "metadata": {
        "colab": {
          "base_uri": "https://localhost:8080/"
        },
        "id": "UYObrnblcSdH",
        "outputId": "df02a63c-9a87-46c2-b8bc-1f665d5d4323"
      },
      "execution_count": null,
      "outputs": [
        {
          "output_type": "stream",
          "name": "stdout",
          "text": [
            "tensor([[0.9692, 0.1096, 0.4265, 0.6094],\n",
            "        [0.8017, 0.8118, 0.6717, 0.6675],\n",
            "        [0.1636, 0.3019, 0.8993, 0.5101]])\n",
            "tensor([[0.4650, 0.9192, 0.4376, 0.0459],\n",
            "        [0.8023, 0.6860, 0.5788, 0.6374],\n",
            "        [0.1176, 0.8211, 0.1522, 0.7051]])\n",
            "tensor([[False, False, False, False],\n",
            "        [False, False, False, False],\n",
            "        [False, False, False, False]])\n"
          ]
        }
      ]
    },
    {
      "cell_type": "code",
      "source": [
        "# Let's look at random but reproducable tensors\n",
        "import torch\n",
        "\n",
        "# Set the random seed\n",
        "RANDOM_SEED = 42\n",
        "torch.manual_seed(RANDOM_SEED)"
      ],
      "metadata": {
        "colab": {
          "base_uri": "https://localhost:8080/"
        },
        "id": "Ji3u8vpScV_t",
        "outputId": "8c5eda20-4bea-46f9-c16b-7361a139843b"
      },
      "execution_count": null,
      "outputs": [
        {
          "output_type": "execute_result",
          "data": {
            "text/plain": [
              "<torch._C.Generator at 0x7927d1acbcb0>"
            ]
          },
          "metadata": {},
          "execution_count": 148
        }
      ]
    },
    {
      "cell_type": "code",
      "source": [
        "torch.manual_seed(RANDOM_SEED)\n",
        "random_tensor_C = torch.rand(3, 4)\n",
        "torch.manual_seed(RANDOM_SEED)\n",
        "random_tensor_D = torch.rand(3, 4)"
      ],
      "metadata": {
        "id": "p187VI2Ddm_E"
      },
      "execution_count": null,
      "outputs": []
    },
    {
      "cell_type": "code",
      "source": [
        "print(random_tensor_C)\n",
        "print(random_tensor_D)\n",
        "print(random_tensor_C == random_tensor_D)"
      ],
      "metadata": {
        "colab": {
          "base_uri": "https://localhost:8080/"
        },
        "id": "JGstQKo7d6pF",
        "outputId": "7f2e6482-6322-4494-e254-5b406417e24a"
      },
      "execution_count": null,
      "outputs": [
        {
          "output_type": "stream",
          "name": "stdout",
          "text": [
            "tensor([[0.8823, 0.9150, 0.3829, 0.9593],\n",
            "        [0.3904, 0.6009, 0.2566, 0.7936],\n",
            "        [0.9408, 0.1332, 0.9346, 0.5936]])\n",
            "tensor([[0.8823, 0.9150, 0.3829, 0.9593],\n",
            "        [0.3904, 0.6009, 0.2566, 0.7936],\n",
            "        [0.9408, 0.1332, 0.9346, 0.5936]])\n",
            "tensor([[True, True, True, True],\n",
            "        [True, True, True, True],\n",
            "        [True, True, True, True]])\n"
          ]
        }
      ]
    },
    {
      "cell_type": "markdown",
      "source": [
        "Extra resources for reproducibility\n",
        "\n",
        "\n",
        "\n",
        "*   https://pytorch.org/docs/stable/notes/randomness.html?highlight=reproducibility\n",
        "*   https://en.wikipedia.org/wiki/Random_seed\n",
        "\n"
      ],
      "metadata": {
        "id": "juTOAr_2eABG"
      }
    },
    {
      "cell_type": "markdown",
      "source": [
        "## Running tensors and pytorch objects on GPUs (and making faster computations)\n",
        "\n",
        "# GPUs = faster computation on numbers, thanks to CUDA + Nvidia hardware + PyTorch working behind the scenes.\n",
        "\n"
      ],
      "metadata": {
        "id": "UjzXeYnr37Hf"
      }
    },
    {
      "cell_type": "markdown",
      "source": [
        "### 1. Getting a GPU\n",
        "\n",
        "1. Easiest - Use Google Colab for free GPU ( can also upgrade for better/faster performance)\n",
        "2. Use your own GPU - setup and investment\n",
        "3. Use cloud computing - GCP, AWS, etc.\n",
        "4. Getting started on your own machine : https://pytorch.org/get-started/locally/\n",
        "\n",
        "For 2, 3 PyTorch + GPU drivers (CUDA) takes some setup - guides"
      ],
      "metadata": {
        "id": "DEDENSM34kc3"
      }
    },
    {
      "cell_type": "code",
      "source": [
        "!nvidia-smi"
      ],
      "metadata": {
        "colab": {
          "base_uri": "https://localhost:8080/"
        },
        "id": "-feaNVXX6K2z",
        "outputId": "e8054786-6d8d-41e6-e864-3abcca5153ff"
      },
      "execution_count": null,
      "outputs": [
        {
          "output_type": "stream",
          "name": "stdout",
          "text": [
            "Mon Sep 11 17:43:54 2023       \n",
            "+-----------------------------------------------------------------------------+\n",
            "| NVIDIA-SMI 525.105.17   Driver Version: 525.105.17   CUDA Version: 12.0     |\n",
            "|-------------------------------+----------------------+----------------------+\n",
            "| GPU  Name        Persistence-M| Bus-Id        Disp.A | Volatile Uncorr. ECC |\n",
            "| Fan  Temp  Perf  Pwr:Usage/Cap|         Memory-Usage | GPU-Util  Compute M. |\n",
            "|                               |                      |               MIG M. |\n",
            "|===============================+======================+======================|\n",
            "|   0  Tesla T4            Off  | 00000000:00:04.0 Off |                    0 |\n",
            "| N/A   66C    P8    10W /  70W |      0MiB / 15360MiB |      0%      Default |\n",
            "|                               |                      |                  N/A |\n",
            "+-------------------------------+----------------------+----------------------+\n",
            "                                                                               \n",
            "+-----------------------------------------------------------------------------+\n",
            "| Processes:                                                                  |\n",
            "|  GPU   GI   CI        PID   Type   Process name                  GPU Memory |\n",
            "|        ID   ID                                                   Usage      |\n",
            "|=============================================================================|\n",
            "|  No running processes found                                                 |\n",
            "+-----------------------------------------------------------------------------+\n"
          ]
        }
      ]
    },
    {
      "cell_type": "code",
      "source": [
        "# Check for GPU with PyTorch\n",
        "import torch\n",
        "torch.cuda.is_available()"
      ],
      "metadata": {
        "colab": {
          "base_uri": "https://localhost:8080/"
        },
        "id": "27rop7sv6Npb",
        "outputId": "d2f8d80a-a1dc-44ca-ab96-5d288285e9c5"
      },
      "execution_count": null,
      "outputs": [
        {
          "output_type": "execute_result",
          "data": {
            "text/plain": [
              "True"
            ]
          },
          "metadata": {},
          "execution_count": 152
        }
      ]
    },
    {
      "cell_type": "markdown",
      "source": [
        "Device Agnostic Code\n",
        "\n",
        "https://pytorch.org/docs/stable/notes/cuda.html#best-practices\n",
        "\n",
        "Run on GPU if available, else run on CPU"
      ],
      "metadata": {
        "id": "S3CuGFRC7cvB"
      }
    },
    {
      "cell_type": "code",
      "source": [
        "# Setup device agnostic code\n",
        "device = \"cuda\" if torch.cuda.is_available() else \"cpu\"\n",
        "device\n"
      ],
      "metadata": {
        "colab": {
          "base_uri": "https://localhost:8080/",
          "height": 36
        },
        "id": "npUW4aKd6uQ6",
        "outputId": "085442ca-532c-4f7c-91d2-69538c9dba79"
      },
      "execution_count": null,
      "outputs": [
        {
          "output_type": "execute_result",
          "data": {
            "text/plain": [
              "'cuda'"
            ],
            "application/vnd.google.colaboratory.intrinsic+json": {
              "type": "string"
            }
          },
          "metadata": {},
          "execution_count": 153
        }
      ]
    },
    {
      "cell_type": "code",
      "source": [
        "# Count number of devices\n",
        "torch.cuda.device_count()"
      ],
      "metadata": {
        "colab": {
          "base_uri": "https://localhost:8080/"
        },
        "id": "KpOaFIsY7K7U",
        "outputId": "6c7846c9-af52-43ed-d60e-3709b3f3809b"
      },
      "execution_count": null,
      "outputs": [
        {
          "output_type": "execute_result",
          "data": {
            "text/plain": [
              "1"
            ]
          },
          "metadata": {},
          "execution_count": 154
        }
      ]
    },
    {
      "cell_type": "markdown",
      "source": [
        "## 3. Putting tensors and models on the GPU\n",
        "\n",
        "The reason we want our tensors on the GPU is because using a GPU results in faster computations."
      ],
      "metadata": {
        "id": "1okA7TBc7Qpd"
      }
    },
    {
      "cell_type": "code",
      "source": [
        "# Create a tensor (default on cpu)\n",
        "tensor = torch.tensor([1, 2, 3], device=\"cpu\")"
      ],
      "metadata": {
        "id": "kJj5gdya8a83"
      },
      "execution_count": null,
      "outputs": []
    },
    {
      "cell_type": "code",
      "source": [
        "tensor, tensor.device"
      ],
      "metadata": {
        "colab": {
          "base_uri": "https://localhost:8080/"
        },
        "id": "fBfIpd0j8lnP",
        "outputId": "1b7568ec-87d4-4cda-854a-a96be8ee356b"
      },
      "execution_count": null,
      "outputs": [
        {
          "output_type": "execute_result",
          "data": {
            "text/plain": [
              "(tensor([1, 2, 3]), device(type='cpu'))"
            ]
          },
          "metadata": {},
          "execution_count": 156
        }
      ]
    },
    {
      "cell_type": "code",
      "source": [
        "# MOve tensor to GPU if available\n",
        "tensor_on_gpu = tensor.to(device)\n",
        "tensor_on_gpu"
      ],
      "metadata": {
        "colab": {
          "base_uri": "https://localhost:8080/"
        },
        "id": "aIwDJqHp8mwO",
        "outputId": "176ccecd-011a-4461-e0f1-d4fe95b2db58"
      },
      "execution_count": null,
      "outputs": [
        {
          "output_type": "execute_result",
          "data": {
            "text/plain": [
              "tensor([1, 2, 3], device='cuda:0')"
            ]
          },
          "metadata": {},
          "execution_count": 157
        }
      ]
    },
    {
      "cell_type": "markdown",
      "source": [
        "### 4. Moving tensors back to the CPU"
      ],
      "metadata": {
        "id": "onC60BEY85YF"
      }
    },
    {
      "cell_type": "code",
      "source": [
        "# IF tensor is on GPU, can't transform it to Numpy"
      ],
      "metadata": {
        "id": "ruVLb4Zd9aHC"
      },
      "execution_count": null,
      "outputs": []
    },
    {
      "cell_type": "code",
      "source": [
        "tensor_on_gpu.cpu().numpy()"
      ],
      "metadata": {
        "colab": {
          "base_uri": "https://localhost:8080/"
        },
        "id": "vq9KaFRl9eYM",
        "outputId": "343b9c44-40cc-4789-98f0-c9ba6830ad73"
      },
      "execution_count": null,
      "outputs": [
        {
          "output_type": "execute_result",
          "data": {
            "text/plain": [
              "array([1, 2, 3])"
            ]
          },
          "metadata": {},
          "execution_count": 159
        }
      ]
    },
    {
      "cell_type": "code",
      "source": [
        "tensor_on_cpu = tensor_on_gpu.cpu()"
      ],
      "metadata": {
        "id": "xb6Agd2w9lNq"
      },
      "execution_count": null,
      "outputs": []
    },
    {
      "cell_type": "code",
      "source": [
        "tensor_on_cpu.device"
      ],
      "metadata": {
        "colab": {
          "base_uri": "https://localhost:8080/"
        },
        "id": "sclV61oP9s8R",
        "outputId": "581ece1c-0156-4296-899c-c9ceabc1887f"
      },
      "execution_count": null,
      "outputs": [
        {
          "output_type": "execute_result",
          "data": {
            "text/plain": [
              "device(type='cpu')"
            ]
          },
          "metadata": {},
          "execution_count": 161
        }
      ]
    },
    {
      "cell_type": "code",
      "source": [
        "tensor.to(device)"
      ],
      "metadata": {
        "colab": {
          "base_uri": "https://localhost:8080/"
        },
        "id": "STtxH16i9v2R",
        "outputId": "e9dc078e-4aea-462b-97d0-719cb0e1f2e1"
      },
      "execution_count": null,
      "outputs": [
        {
          "output_type": "execute_result",
          "data": {
            "text/plain": [
              "tensor([1, 2, 3], device='cuda:0')"
            ]
          },
          "metadata": {},
          "execution_count": 162
        }
      ]
    },
    {
      "cell_type": "code",
      "source": [
        "# How to successfully transform tensor and convert to numpy array\n",
        "tensor_on_cpu = tensor_on_gpu.cpu().numpy()"
      ],
      "metadata": {
        "id": "TjXo2U9I-MFn"
      },
      "execution_count": null,
      "outputs": []
    },
    {
      "cell_type": "code",
      "source": [
        "tensor_on_cpu"
      ],
      "metadata": {
        "colab": {
          "base_uri": "https://localhost:8080/"
        },
        "id": "t_gUyfx5-VHO",
        "outputId": "3d92393f-663e-4332-f8e9-90895bbf7200"
      },
      "execution_count": null,
      "outputs": [
        {
          "output_type": "execute_result",
          "data": {
            "text/plain": [
              "array([1, 2, 3])"
            ]
          },
          "metadata": {},
          "execution_count": 164
        }
      ]
    },
    {
      "cell_type": "code",
      "source": [
        "tensor_on_gpu"
      ],
      "metadata": {
        "colab": {
          "base_uri": "https://localhost:8080/"
        },
        "id": "67PDZvy2-hFo",
        "outputId": "58ff8413-1056-4bb5-b6eb-5bda526ff189"
      },
      "execution_count": null,
      "outputs": [
        {
          "output_type": "execute_result",
          "data": {
            "text/plain": [
              "tensor([1, 2, 3], device='cuda:0')"
            ]
          },
          "metadata": {},
          "execution_count": 165
        }
      ]
    },
    {
      "cell_type": "markdown",
      "source": [
        "Exercises - Section 00"
      ],
      "metadata": {
        "id": "mytTXIHh-tpT"
      }
    },
    {
      "cell_type": "code",
      "source": [
        "# Create a random tensor with shape of (7, 7)\n",
        "torch.tensor([7, 7]).shape"
      ],
      "metadata": {
        "colab": {
          "base_uri": "https://localhost:8080/"
        },
        "id": "BOm9_wQRE6dB",
        "outputId": "ff5b355d-6b91-4a5c-86d6-1c59d693d9d1"
      },
      "execution_count": null,
      "outputs": [
        {
          "output_type": "execute_result",
          "data": {
            "text/plain": [
              "torch.Size([2])"
            ]
          },
          "metadata": {},
          "execution_count": 166
        }
      ]
    },
    {
      "cell_type": "code",
      "source": [
        "rand_tens = torch.rand(7, 7)"
      ],
      "metadata": {
        "id": "-9e_wOCfFD2c"
      },
      "execution_count": null,
      "outputs": []
    },
    {
      "cell_type": "code",
      "source": [
        "rand_tens.shape"
      ],
      "metadata": {
        "colab": {
          "base_uri": "https://localhost:8080/"
        },
        "id": "KLhgBsazFTRU",
        "outputId": "15668942-3ec1-4ed3-d43b-7d5b2b1b4884"
      },
      "execution_count": null,
      "outputs": [
        {
          "output_type": "execute_result",
          "data": {
            "text/plain": [
              "torch.Size([7, 7])"
            ]
          },
          "metadata": {},
          "execution_count": 168
        }
      ]
    },
    {
      "cell_type": "code",
      "source": [
        "rand_tens_2 = torch.rand(1, 7)"
      ],
      "metadata": {
        "id": "f5CT3bfAFcXn"
      },
      "execution_count": null,
      "outputs": []
    },
    {
      "cell_type": "code",
      "source": [
        "result = torch.matmul(rand_tens, rand_tens_2.T)\n",
        "result, result.shape"
      ],
      "metadata": {
        "colab": {
          "base_uri": "https://localhost:8080/"
        },
        "id": "XR5YSddrFovB",
        "outputId": "b74e4bf0-e4bc-4208-ecfe-8b361535bd46"
      },
      "execution_count": null,
      "outputs": [
        {
          "output_type": "execute_result",
          "data": {
            "text/plain": [
              "(tensor([[1.9625],\n",
              "         [1.0950],\n",
              "         [0.9967],\n",
              "         [1.8910],\n",
              "         [1.9205],\n",
              "         [1.0674],\n",
              "         [1.6949]]),\n",
              " torch.Size([7, 1]))"
            ]
          },
          "metadata": {},
          "execution_count": 170
        }
      ]
    },
    {
      "cell_type": "code",
      "source": [
        "torch.manual_seed(0)\n",
        "rand_tens = torch.rand(7, 7)\n",
        "print(rand_tens)\n",
        "rand_tens_2 = torch.rand(1, 7)\n",
        "print(rand_tens_2)\n",
        "torch.matmul(rand_tens, rand_tens_2.T)"
      ],
      "metadata": {
        "colab": {
          "base_uri": "https://localhost:8080/"
        },
        "id": "WLuYZImWFulC",
        "outputId": "2fa7ccb2-7d6b-402f-f90a-a763b7d44a8b"
      },
      "execution_count": null,
      "outputs": [
        {
          "output_type": "stream",
          "name": "stdout",
          "text": [
            "tensor([[0.4963, 0.7682, 0.0885, 0.1320, 0.3074, 0.6341, 0.4901],\n",
            "        [0.8964, 0.4556, 0.6323, 0.3489, 0.4017, 0.0223, 0.1689],\n",
            "        [0.2939, 0.5185, 0.6977, 0.8000, 0.1610, 0.2823, 0.6816],\n",
            "        [0.9152, 0.3971, 0.8742, 0.4194, 0.5529, 0.9527, 0.0362],\n",
            "        [0.1852, 0.3734, 0.3051, 0.9320, 0.1759, 0.2698, 0.1507],\n",
            "        [0.0317, 0.2081, 0.9298, 0.7231, 0.7423, 0.5263, 0.2437],\n",
            "        [0.5846, 0.0332, 0.1387, 0.2422, 0.8155, 0.7932, 0.2783]])\n",
            "tensor([[0.4820, 0.8198, 0.9971, 0.6984, 0.5675, 0.8352, 0.2056]])\n"
          ]
        },
        {
          "output_type": "execute_result",
          "data": {
            "text/plain": [
              "tensor([[1.8542],\n",
              "        [1.9611],\n",
              "        [2.2884],\n",
              "        [3.0481],\n",
              "        [1.7067],\n",
              "        [2.5290],\n",
              "        [1.7989]])"
            ]
          },
          "metadata": {},
          "execution_count": 171
        }
      ]
    },
    {
      "cell_type": "code",
      "source": [
        "torch.cuda.manual_seed(1234)"
      ],
      "metadata": {
        "id": "gTTj3zucGUWA"
      },
      "execution_count": null,
      "outputs": []
    },
    {
      "cell_type": "code",
      "source": [
        "torch.manual_seed(1234)\n",
        "device = \"cuda\" if torch.cuda.is_available() else \"cpu\"\n",
        "print(f\"Device: {device}\")\n",
        "rand_tens = torch.rand(2, 3)\n",
        "rand_tens_2 = torch.rand(2, 3)\n",
        "print(rand_tens.to(device))\n",
        "print(rand_tens_2.to(device))"
      ],
      "metadata": {
        "colab": {
          "base_uri": "https://localhost:8080/"
        },
        "id": "8ve9Pa0aIW9X",
        "outputId": "bd3eb456-894f-42ba-ee59-71e5bf69c204"
      },
      "execution_count": null,
      "outputs": [
        {
          "output_type": "stream",
          "name": "stdout",
          "text": [
            "Device: cuda\n",
            "tensor([[0.0290, 0.4019, 0.2598],\n",
            "        [0.3666, 0.0583, 0.7006]], device='cuda:0')\n",
            "tensor([[0.0518, 0.4681, 0.6738],\n",
            "        [0.3315, 0.7837, 0.5631]], device='cuda:0')\n"
          ]
        }
      ]
    },
    {
      "cell_type": "code",
      "source": [
        "# Matrix multiplication\n",
        "tens_result = torch.matmul(rand_tens, rand_tens_2.T)\n",
        "tens_result, tens_result.device, tens_result.shape"
      ],
      "metadata": {
        "colab": {
          "base_uri": "https://localhost:8080/"
        },
        "id": "tYymmbs1IgJs",
        "outputId": "99c4bb82-c17d-486b-948b-694ecc5ea9fd"
      },
      "execution_count": null,
      "outputs": [
        {
          "output_type": "execute_result",
          "data": {
            "text/plain": [
              "(tensor([[0.3647, 0.4709],\n",
              "         [0.5184, 0.5617]]),\n",
              " device(type='cpu'),\n",
              " torch.Size([2, 2]))"
            ]
          },
          "metadata": {},
          "execution_count": 174
        }
      ]
    },
    {
      "cell_type": "code",
      "source": [
        "rand_tens.device\n"
      ],
      "metadata": {
        "colab": {
          "base_uri": "https://localhost:8080/"
        },
        "id": "EH_znoa9KDAV",
        "outputId": "95a8cd18-15c6-40e7-f92c-8b7d3fc13342"
      },
      "execution_count": null,
      "outputs": [
        {
          "output_type": "execute_result",
          "data": {
            "text/plain": [
              "device(type='cpu')"
            ]
          },
          "metadata": {},
          "execution_count": 175
        }
      ]
    },
    {
      "cell_type": "code",
      "source": [
        "result = torch.matmul(rand_tens.to(device), rand_tens_2.T.to(device))"
      ],
      "metadata": {
        "id": "BcyvjQyeKg3h"
      },
      "execution_count": null,
      "outputs": []
    },
    {
      "cell_type": "code",
      "source": [
        "result, result.device, result.shape"
      ],
      "metadata": {
        "colab": {
          "base_uri": "https://localhost:8080/"
        },
        "id": "k_Pgm1bbK3B-",
        "outputId": "edfb6ac8-d6cd-49ee-e94f-816a7bd25642"
      },
      "execution_count": null,
      "outputs": [
        {
          "output_type": "execute_result",
          "data": {
            "text/plain": [
              "(tensor([[0.3647, 0.4709],\n",
              "         [0.5184, 0.5617]], device='cuda:0'),\n",
              " device(type='cuda', index=0),\n",
              " torch.Size([2, 2]))"
            ]
          },
          "metadata": {},
          "execution_count": 177
        }
      ]
    },
    {
      "cell_type": "code",
      "source": [
        "result.min(), result.max()"
      ],
      "metadata": {
        "colab": {
          "base_uri": "https://localhost:8080/"
        },
        "id": "JNOK9qBeK-1k",
        "outputId": "d5bd8687-600b-42b1-cbab-8fe3eb662874"
      },
      "execution_count": null,
      "outputs": [
        {
          "output_type": "execute_result",
          "data": {
            "text/plain": [
              "(tensor(0.3647, device='cuda:0'), tensor(0.5617, device='cuda:0'))"
            ]
          },
          "metadata": {},
          "execution_count": 178
        }
      ]
    },
    {
      "cell_type": "code",
      "source": [
        "result.argmin(), result.argmax()"
      ],
      "metadata": {
        "colab": {
          "base_uri": "https://localhost:8080/"
        },
        "id": "T4pAZ2_XLGoH",
        "outputId": "210aa430-c06d-43f5-b578-95de5a597654"
      },
      "execution_count": null,
      "outputs": [
        {
          "output_type": "execute_result",
          "data": {
            "text/plain": [
              "(tensor(0, device='cuda:0'), tensor(3, device='cuda:0'))"
            ]
          },
          "metadata": {},
          "execution_count": 179
        }
      ]
    },
    {
      "cell_type": "code",
      "source": [
        "torch.manual_seed(7)\n",
        "tensor = torch.rand(1, 1, 1, 10)\n",
        "squeezed_tensor = tensor.squeeze()\n",
        "print(f\"First tensor:\\n {tensor} {tensor.shape}\")\n",
        "print(f\"Second tensor:\\n {squeezed_tensor} {squeezed_tensor.shape}\")"
      ],
      "metadata": {
        "colab": {
          "base_uri": "https://localhost:8080/"
        },
        "id": "4BFyEnDILOff",
        "outputId": "3c57bdda-10e7-4feb-fb86-4699bc51e627"
      },
      "execution_count": null,
      "outputs": [
        {
          "output_type": "stream",
          "name": "stdout",
          "text": [
            "First tensor:\n",
            " tensor([[[[0.5349, 0.1988, 0.6592, 0.6569, 0.2328, 0.4251, 0.2071, 0.6297,\n",
            "           0.3653, 0.8513]]]]) torch.Size([1, 1, 1, 10])\n",
            "Second tensor:\n",
            " tensor([0.5349, 0.1988, 0.6592, 0.6569, 0.2328, 0.4251, 0.2071, 0.6297, 0.3653,\n",
            "        0.8513]) torch.Size([10])\n"
          ]
        }
      ]
    },
    {
      "cell_type": "code",
      "source": [],
      "metadata": {
        "id": "cckgM2oxLmVk"
      },
      "execution_count": null,
      "outputs": []
    }
  ]
}