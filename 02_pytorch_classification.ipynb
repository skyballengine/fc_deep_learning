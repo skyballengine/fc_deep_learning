{
  "nbformat": 4,
  "nbformat_minor": 0,
  "metadata": {
    "colab": {
      "provenance": [],
      "gpuType": "T4",
      "authorship_tag": "ABX9TyNREUn3Jn55YVoSloBjqxQw",
      "include_colab_link": true
    },
    "kernelspec": {
      "name": "python3",
      "display_name": "Python 3"
    },
    "language_info": {
      "name": "python"
    },
    "accelerator": "GPU"
  },
  "cells": [
    {
      "cell_type": "markdown",
      "metadata": {
        "id": "view-in-github",
        "colab_type": "text"
      },
      "source": [
        "<a href=\"https://colab.research.google.com/github/skyballengine/fc_deep_learning/blob/main/02_pytorch_classification.ipynb\" target=\"_parent\"><img src=\"https://colab.research.google.com/assets/colab-badge.svg\" alt=\"Open In Colab\"/></a>"
      ]
    },
    {
      "cell_type": "markdown",
      "source": [
        "  # 02. Neural Network classification with PyTorch\n",
        "  Classification is a problem of predicting whether soemthing is one thing or another\n",
        "  (Multiple things as an option)"
      ],
      "metadata": {
        "id": "domV0Q2GDHzp"
      }
    },
    {
      "cell_type": "code",
      "source": [
        "## 1. Make classification data and get it ready\n",
        "import sklearn\n",
        "from sklearn.datasets import make_circles\n",
        "\n",
        "# Make 1000 samples\n",
        "n_samples = 1000\n",
        "\n",
        "# Create circles\n",
        "X, y = make_circles(n_samples, noise=0.03, random_state=42)\n",
        "\n"
      ],
      "metadata": {
        "id": "4I5v9muOKznb"
      },
      "execution_count": 241,
      "outputs": []
    },
    {
      "cell_type": "code",
      "source": [
        "len(X), len(y)"
      ],
      "metadata": {
        "colab": {
          "base_uri": "https://localhost:8080/"
        },
        "id": "LkJRJ0CmLX1M",
        "outputId": "5885eea9-0dbb-4a23-d00c-3ddc0ae91d72"
      },
      "execution_count": 242,
      "outputs": [
        {
          "output_type": "execute_result",
          "data": {
            "text/plain": [
              "(1000, 1000)"
            ]
          },
          "metadata": {},
          "execution_count": 242
        }
      ]
    },
    {
      "cell_type": "code",
      "source": [
        "print(f\"First 5 samples of X:\\n {X[:5]}\")\n",
        "print(f\"First 5 samples of y:\\n {y[:5]}\")"
      ],
      "metadata": {
        "colab": {
          "base_uri": "https://localhost:8080/"
        },
        "id": "KfPk3FzFLYl_",
        "outputId": "2251ce2d-2647-4ea2-8753-60898cff5ed4"
      },
      "execution_count": 243,
      "outputs": [
        {
          "output_type": "stream",
          "name": "stdout",
          "text": [
            "First 5 samples of X:\n",
            " [[ 0.75424625  0.23148074]\n",
            " [-0.75615888  0.15325888]\n",
            " [-0.81539193  0.17328203]\n",
            " [-0.39373073  0.69288277]\n",
            " [ 0.44220765 -0.89672343]]\n",
            "First 5 samples of y:\n",
            " [1 1 1 1 0]\n"
          ]
        }
      ]
    },
    {
      "cell_type": "code",
      "source": [
        "X\n"
      ],
      "metadata": {
        "colab": {
          "base_uri": "https://localhost:8080/"
        },
        "id": "H_Rfzwwvbke5",
        "outputId": "e59938f5-c283-4487-ebe3-a556ed586d44"
      },
      "execution_count": 244,
      "outputs": [
        {
          "output_type": "execute_result",
          "data": {
            "text/plain": [
              "array([[ 0.75424625,  0.23148074],\n",
              "       [-0.75615888,  0.15325888],\n",
              "       [-0.81539193,  0.17328203],\n",
              "       ...,\n",
              "       [-0.13690036, -0.81001183],\n",
              "       [ 0.67036156, -0.76750154],\n",
              "       [ 0.28105665,  0.96382443]])"
            ]
          },
          "metadata": {},
          "execution_count": 244
        }
      ]
    },
    {
      "cell_type": "code",
      "source": [
        "y"
      ],
      "metadata": {
        "colab": {
          "base_uri": "https://localhost:8080/"
        },
        "id": "Q-FGcQczb6Br",
        "outputId": "4350b544-5b45-4258-c739-8d1b39835f37"
      },
      "execution_count": 245,
      "outputs": [
        {
          "output_type": "execute_result",
          "data": {
            "text/plain": [
              "array([1, 1, 1, 1, 0, 1, 1, 1, 1, 0, 1, 0, 1, 1, 1, 1, 0, 1, 1, 0, 1, 0,\n",
              "       0, 1, 0, 0, 0, 1, 1, 1, 0, 0, 1, 0, 0, 0, 1, 1, 1, 0, 0, 0, 0, 1,\n",
              "       0, 0, 1, 1, 0, 1, 1, 1, 0, 1, 0, 0, 1, 0, 0, 1, 0, 0, 1, 0, 1, 1,\n",
              "       1, 1, 0, 1, 0, 0, 1, 1, 0, 0, 1, 0, 1, 0, 1, 0, 0, 0, 0, 1, 1, 1,\n",
              "       1, 0, 0, 0, 1, 0, 1, 0, 1, 0, 0, 1, 1, 0, 1, 0, 1, 1, 1, 1, 0, 1,\n",
              "       1, 1, 1, 1, 0, 0, 0, 1, 1, 0, 1, 0, 1, 0, 0, 1, 1, 0, 1, 1, 1, 1,\n",
              "       0, 1, 1, 0, 0, 0, 0, 0, 0, 0, 1, 0, 1, 1, 1, 0, 1, 0, 1, 0, 1, 0,\n",
              "       1, 0, 0, 1, 0, 1, 1, 1, 1, 1, 1, 1, 0, 1, 0, 0, 0, 0, 0, 1, 0, 0,\n",
              "       0, 0, 1, 1, 0, 1, 0, 1, 1, 0, 0, 0, 1, 1, 1, 1, 1, 0, 0, 0, 0, 0,\n",
              "       1, 0, 0, 1, 1, 1, 1, 1, 0, 1, 0, 1, 0, 0, 1, 1, 1, 0, 1, 0, 1, 1,\n",
              "       0, 1, 1, 0, 1, 0, 1, 0, 1, 1, 0, 1, 0, 1, 0, 0, 0, 1, 0, 0, 0, 0,\n",
              "       1, 1, 0, 0, 0, 0, 0, 0, 0, 1, 1, 1, 0, 0, 1, 1, 1, 0, 1, 0, 0, 0,\n",
              "       0, 1, 1, 0, 1, 0, 0, 0, 1, 0, 1, 0, 0, 1, 0, 1, 1, 1, 0, 0, 0, 1,\n",
              "       0, 0, 0, 1, 1, 1, 1, 0, 0, 0, 1, 0, 0, 0, 1, 0, 0, 0, 1, 1, 0, 1,\n",
              "       1, 1, 1, 1, 1, 1, 0, 0, 0, 0, 1, 0, 0, 0, 0, 1, 1, 1, 0, 0, 1, 0,\n",
              "       1, 0, 1, 1, 0, 0, 1, 1, 1, 1, 0, 0, 0, 0, 0, 0, 1, 1, 0, 1, 0, 0,\n",
              "       1, 0, 0, 0, 0, 0, 0, 0, 0, 1, 0, 0, 0, 0, 1, 0, 0, 1, 0, 1, 0, 0,\n",
              "       0, 1, 0, 0, 1, 1, 0, 0, 1, 0, 0, 1, 1, 0, 1, 1, 0, 0, 1, 0, 1, 0,\n",
              "       0, 0, 1, 1, 0, 0, 1, 1, 1, 1, 1, 0, 0, 1, 1, 1, 1, 0, 1, 1, 1, 1,\n",
              "       1, 0, 0, 1, 0, 1, 0, 0, 0, 0, 1, 0, 0, 0, 0, 0, 0, 0, 0, 0, 1, 1,\n",
              "       0, 1, 1, 1, 1, 1, 1, 0, 1, 1, 1, 1, 0, 0, 0, 1, 1, 1, 0, 0, 0, 0,\n",
              "       1, 1, 0, 0, 0, 0, 1, 0, 0, 0, 1, 0, 0, 1, 1, 1, 1, 1, 1, 0, 0, 0,\n",
              "       1, 0, 0, 0, 0, 0, 1, 1, 1, 0, 0, 0, 0, 0, 1, 1, 1, 0, 0, 1, 1, 1,\n",
              "       1, 0, 1, 1, 0, 1, 0, 0, 0, 1, 0, 0, 1, 0, 0, 1, 1, 0, 0, 1, 1, 0,\n",
              "       1, 0, 1, 0, 1, 0, 1, 0, 0, 0, 1, 0, 0, 0, 0, 0, 0, 1, 1, 1, 1, 0,\n",
              "       0, 0, 1, 0, 1, 1, 0, 0, 0, 0, 0, 1, 1, 1, 0, 0, 1, 0, 0, 1, 0, 0,\n",
              "       1, 0, 0, 1, 0, 0, 0, 1, 0, 0, 1, 1, 1, 0, 1, 1, 0, 0, 0, 1, 1, 1,\n",
              "       1, 0, 0, 1, 1, 1, 0, 0, 0, 0, 1, 1, 0, 0, 1, 1, 0, 0, 1, 1, 1, 1,\n",
              "       1, 1, 1, 0, 1, 0, 1, 0, 0, 1, 0, 1, 1, 1, 1, 0, 0, 1, 1, 0, 0, 1,\n",
              "       0, 1, 0, 0, 0, 1, 0, 0, 1, 1, 1, 1, 0, 1, 1, 1, 1, 1, 1, 1, 0, 1,\n",
              "       0, 1, 1, 1, 0, 0, 1, 0, 0, 0, 1, 1, 1, 1, 0, 0, 0, 0, 1, 0, 1, 1,\n",
              "       1, 0, 1, 0, 0, 1, 0, 0, 1, 1, 1, 1, 1, 0, 1, 0, 0, 0, 1, 1, 1, 1,\n",
              "       1, 0, 0, 0, 1, 1, 1, 1, 0, 0, 0, 0, 0, 1, 1, 0, 1, 0, 1, 0, 0, 0,\n",
              "       0, 0, 0, 0, 0, 0, 1, 1, 1, 1, 1, 0, 1, 0, 1, 1, 1, 1, 0, 1, 1, 1,\n",
              "       1, 1, 1, 1, 1, 0, 1, 1, 0, 1, 0, 0, 0, 1, 0, 1, 1, 1, 0, 1, 1, 0,\n",
              "       1, 1, 0, 1, 0, 1, 1, 0, 0, 1, 1, 1, 0, 0, 0, 0, 1, 1, 0, 0, 1, 1,\n",
              "       1, 1, 1, 1, 1, 1, 1, 1, 1, 1, 1, 1, 0, 0, 1, 0, 1, 0, 1, 0, 1, 1,\n",
              "       1, 1, 1, 1, 0, 1, 0, 1, 1, 1, 0, 1, 1, 0, 0, 1, 0, 1, 1, 0, 0, 1,\n",
              "       1, 1, 1, 1, 1, 1, 1, 0, 1, 1, 1, 0, 1, 0, 0, 1, 1, 0, 0, 0, 1, 0,\n",
              "       0, 1, 0, 0, 0, 1, 0, 1, 0, 0, 0, 0, 1, 0, 1, 1, 1, 1, 0, 1, 0, 0,\n",
              "       0, 0, 0, 0, 1, 0, 1, 0, 1, 0, 1, 1, 1, 0, 1, 0, 1, 0, 0, 1, 1, 1,\n",
              "       0, 0, 0, 1, 1, 0, 1, 0, 1, 1, 0, 1, 0, 0, 1, 1, 1, 0, 0, 0, 1, 1,\n",
              "       0, 0, 0, 0, 0, 1, 1, 0, 1, 0, 0, 0, 1, 0, 0, 0, 1, 1, 1, 1, 0, 1,\n",
              "       1, 1, 0, 1, 1, 1, 1, 0, 1, 1, 0, 1, 1, 0, 0, 1, 1, 1, 0, 0, 0, 0,\n",
              "       0, 0, 1, 0, 0, 1, 0, 0, 0, 1, 0, 1, 0, 1, 1, 0, 0, 0, 0, 0, 0, 0,\n",
              "       0, 1, 0, 1, 0, 0, 0, 1, 0, 0])"
            ]
          },
          "metadata": {},
          "execution_count": 245
        }
      ]
    },
    {
      "cell_type": "code",
      "source": [
        "# Make a DataFrame of circle data\n",
        "import pandas as pd\n",
        "circles = pd.DataFrame({\"X1\": X[:, 0],\n",
        "                          \"X2\": X[:, 1],\n",
        "                          \"label\": y})"
      ],
      "metadata": {
        "id": "-KJGVXRmb-Sb"
      },
      "execution_count": 246,
      "outputs": []
    },
    {
      "cell_type": "code",
      "source": [
        "circles.label.value_counts()"
      ],
      "metadata": {
        "colab": {
          "base_uri": "https://localhost:8080/"
        },
        "id": "mwGsaoZS86XE",
        "outputId": "7af07bdd-60fb-4468-dd15-810d8dadbc88"
      },
      "execution_count": 247,
      "outputs": [
        {
          "output_type": "execute_result",
          "data": {
            "text/plain": [
              "1    500\n",
              "0    500\n",
              "Name: label, dtype: int64"
            ]
          },
          "metadata": {},
          "execution_count": 247
        }
      ]
    },
    {
      "cell_type": "code",
      "source": [
        "circles.head()"
      ],
      "metadata": {
        "colab": {
          "base_uri": "https://localhost:8080/",
          "height": 206
        },
        "id": "Hr4ht2tNcUcP",
        "outputId": "bd3f15ea-5124-4e10-cc49-961a45ec7dbe"
      },
      "execution_count": 248,
      "outputs": [
        {
          "output_type": "execute_result",
          "data": {
            "text/plain": [
              "         X1        X2  label\n",
              "0  0.754246  0.231481      1\n",
              "1 -0.756159  0.153259      1\n",
              "2 -0.815392  0.173282      1\n",
              "3 -0.393731  0.692883      1\n",
              "4  0.442208 -0.896723      0"
            ],
            "text/html": [
              "\n",
              "  <div id=\"df-0755c33a-174c-47e1-9641-d27b997a3c64\" class=\"colab-df-container\">\n",
              "    <div>\n",
              "<style scoped>\n",
              "    .dataframe tbody tr th:only-of-type {\n",
              "        vertical-align: middle;\n",
              "    }\n",
              "\n",
              "    .dataframe tbody tr th {\n",
              "        vertical-align: top;\n",
              "    }\n",
              "\n",
              "    .dataframe thead th {\n",
              "        text-align: right;\n",
              "    }\n",
              "</style>\n",
              "<table border=\"1\" class=\"dataframe\">\n",
              "  <thead>\n",
              "    <tr style=\"text-align: right;\">\n",
              "      <th></th>\n",
              "      <th>X1</th>\n",
              "      <th>X2</th>\n",
              "      <th>label</th>\n",
              "    </tr>\n",
              "  </thead>\n",
              "  <tbody>\n",
              "    <tr>\n",
              "      <th>0</th>\n",
              "      <td>0.754246</td>\n",
              "      <td>0.231481</td>\n",
              "      <td>1</td>\n",
              "    </tr>\n",
              "    <tr>\n",
              "      <th>1</th>\n",
              "      <td>-0.756159</td>\n",
              "      <td>0.153259</td>\n",
              "      <td>1</td>\n",
              "    </tr>\n",
              "    <tr>\n",
              "      <th>2</th>\n",
              "      <td>-0.815392</td>\n",
              "      <td>0.173282</td>\n",
              "      <td>1</td>\n",
              "    </tr>\n",
              "    <tr>\n",
              "      <th>3</th>\n",
              "      <td>-0.393731</td>\n",
              "      <td>0.692883</td>\n",
              "      <td>1</td>\n",
              "    </tr>\n",
              "    <tr>\n",
              "      <th>4</th>\n",
              "      <td>0.442208</td>\n",
              "      <td>-0.896723</td>\n",
              "      <td>0</td>\n",
              "    </tr>\n",
              "  </tbody>\n",
              "</table>\n",
              "</div>\n",
              "    <div class=\"colab-df-buttons\">\n",
              "\n",
              "  <div class=\"colab-df-container\">\n",
              "    <button class=\"colab-df-convert\" onclick=\"convertToInteractive('df-0755c33a-174c-47e1-9641-d27b997a3c64')\"\n",
              "            title=\"Convert this dataframe to an interactive table.\"\n",
              "            style=\"display:none;\">\n",
              "\n",
              "  <svg xmlns=\"http://www.w3.org/2000/svg\" height=\"24px\" viewBox=\"0 -960 960 960\">\n",
              "    <path d=\"M120-120v-720h720v720H120Zm60-500h600v-160H180v160Zm220 220h160v-160H400v160Zm0 220h160v-160H400v160ZM180-400h160v-160H180v160Zm440 0h160v-160H620v160ZM180-180h160v-160H180v160Zm440 0h160v-160H620v160Z\"/>\n",
              "  </svg>\n",
              "    </button>\n",
              "\n",
              "  <style>\n",
              "    .colab-df-container {\n",
              "      display:flex;\n",
              "      gap: 12px;\n",
              "    }\n",
              "\n",
              "    .colab-df-convert {\n",
              "      background-color: #E8F0FE;\n",
              "      border: none;\n",
              "      border-radius: 50%;\n",
              "      cursor: pointer;\n",
              "      display: none;\n",
              "      fill: #1967D2;\n",
              "      height: 32px;\n",
              "      padding: 0 0 0 0;\n",
              "      width: 32px;\n",
              "    }\n",
              "\n",
              "    .colab-df-convert:hover {\n",
              "      background-color: #E2EBFA;\n",
              "      box-shadow: 0px 1px 2px rgba(60, 64, 67, 0.3), 0px 1px 3px 1px rgba(60, 64, 67, 0.15);\n",
              "      fill: #174EA6;\n",
              "    }\n",
              "\n",
              "    .colab-df-buttons div {\n",
              "      margin-bottom: 4px;\n",
              "    }\n",
              "\n",
              "    [theme=dark] .colab-df-convert {\n",
              "      background-color: #3B4455;\n",
              "      fill: #D2E3FC;\n",
              "    }\n",
              "\n",
              "    [theme=dark] .colab-df-convert:hover {\n",
              "      background-color: #434B5C;\n",
              "      box-shadow: 0px 1px 3px 1px rgba(0, 0, 0, 0.15);\n",
              "      filter: drop-shadow(0px 1px 2px rgba(0, 0, 0, 0.3));\n",
              "      fill: #FFFFFF;\n",
              "    }\n",
              "  </style>\n",
              "\n",
              "    <script>\n",
              "      const buttonEl =\n",
              "        document.querySelector('#df-0755c33a-174c-47e1-9641-d27b997a3c64 button.colab-df-convert');\n",
              "      buttonEl.style.display =\n",
              "        google.colab.kernel.accessAllowed ? 'block' : 'none';\n",
              "\n",
              "      async function convertToInteractive(key) {\n",
              "        const element = document.querySelector('#df-0755c33a-174c-47e1-9641-d27b997a3c64');\n",
              "        const dataTable =\n",
              "          await google.colab.kernel.invokeFunction('convertToInteractive',\n",
              "                                                    [key], {});\n",
              "        if (!dataTable) return;\n",
              "\n",
              "        const docLinkHtml = 'Like what you see? Visit the ' +\n",
              "          '<a target=\"_blank\" href=https://colab.research.google.com/notebooks/data_table.ipynb>data table notebook</a>'\n",
              "          + ' to learn more about interactive tables.';\n",
              "        element.innerHTML = '';\n",
              "        dataTable['output_type'] = 'display_data';\n",
              "        await google.colab.output.renderOutput(dataTable, element);\n",
              "        const docLink = document.createElement('div');\n",
              "        docLink.innerHTML = docLinkHtml;\n",
              "        element.appendChild(docLink);\n",
              "      }\n",
              "    </script>\n",
              "  </div>\n",
              "\n",
              "\n",
              "<div id=\"df-220fd193-38ea-4c71-8d11-02934e59c2d2\">\n",
              "  <button class=\"colab-df-quickchart\" onclick=\"quickchart('df-220fd193-38ea-4c71-8d11-02934e59c2d2')\"\n",
              "            title=\"Suggest charts.\"\n",
              "            style=\"display:none;\">\n",
              "\n",
              "<svg xmlns=\"http://www.w3.org/2000/svg\" height=\"24px\"viewBox=\"0 0 24 24\"\n",
              "     width=\"24px\">\n",
              "    <g>\n",
              "        <path d=\"M19 3H5c-1.1 0-2 .9-2 2v14c0 1.1.9 2 2 2h14c1.1 0 2-.9 2-2V5c0-1.1-.9-2-2-2zM9 17H7v-7h2v7zm4 0h-2V7h2v10zm4 0h-2v-4h2v4z\"/>\n",
              "    </g>\n",
              "</svg>\n",
              "  </button>\n",
              "\n",
              "<style>\n",
              "  .colab-df-quickchart {\n",
              "      --bg-color: #E8F0FE;\n",
              "      --fill-color: #1967D2;\n",
              "      --hover-bg-color: #E2EBFA;\n",
              "      --hover-fill-color: #174EA6;\n",
              "      --disabled-fill-color: #AAA;\n",
              "      --disabled-bg-color: #DDD;\n",
              "  }\n",
              "\n",
              "  [theme=dark] .colab-df-quickchart {\n",
              "      --bg-color: #3B4455;\n",
              "      --fill-color: #D2E3FC;\n",
              "      --hover-bg-color: #434B5C;\n",
              "      --hover-fill-color: #FFFFFF;\n",
              "      --disabled-bg-color: #3B4455;\n",
              "      --disabled-fill-color: #666;\n",
              "  }\n",
              "\n",
              "  .colab-df-quickchart {\n",
              "    background-color: var(--bg-color);\n",
              "    border: none;\n",
              "    border-radius: 50%;\n",
              "    cursor: pointer;\n",
              "    display: none;\n",
              "    fill: var(--fill-color);\n",
              "    height: 32px;\n",
              "    padding: 0;\n",
              "    width: 32px;\n",
              "  }\n",
              "\n",
              "  .colab-df-quickchart:hover {\n",
              "    background-color: var(--hover-bg-color);\n",
              "    box-shadow: 0 1px 2px rgba(60, 64, 67, 0.3), 0 1px 3px 1px rgba(60, 64, 67, 0.15);\n",
              "    fill: var(--button-hover-fill-color);\n",
              "  }\n",
              "\n",
              "  .colab-df-quickchart-complete:disabled,\n",
              "  .colab-df-quickchart-complete:disabled:hover {\n",
              "    background-color: var(--disabled-bg-color);\n",
              "    fill: var(--disabled-fill-color);\n",
              "    box-shadow: none;\n",
              "  }\n",
              "\n",
              "  .colab-df-spinner {\n",
              "    border: 2px solid var(--fill-color);\n",
              "    border-color: transparent;\n",
              "    border-bottom-color: var(--fill-color);\n",
              "    animation:\n",
              "      spin 1s steps(1) infinite;\n",
              "  }\n",
              "\n",
              "  @keyframes spin {\n",
              "    0% {\n",
              "      border-color: transparent;\n",
              "      border-bottom-color: var(--fill-color);\n",
              "      border-left-color: var(--fill-color);\n",
              "    }\n",
              "    20% {\n",
              "      border-color: transparent;\n",
              "      border-left-color: var(--fill-color);\n",
              "      border-top-color: var(--fill-color);\n",
              "    }\n",
              "    30% {\n",
              "      border-color: transparent;\n",
              "      border-left-color: var(--fill-color);\n",
              "      border-top-color: var(--fill-color);\n",
              "      border-right-color: var(--fill-color);\n",
              "    }\n",
              "    40% {\n",
              "      border-color: transparent;\n",
              "      border-right-color: var(--fill-color);\n",
              "      border-top-color: var(--fill-color);\n",
              "    }\n",
              "    60% {\n",
              "      border-color: transparent;\n",
              "      border-right-color: var(--fill-color);\n",
              "    }\n",
              "    80% {\n",
              "      border-color: transparent;\n",
              "      border-right-color: var(--fill-color);\n",
              "      border-bottom-color: var(--fill-color);\n",
              "    }\n",
              "    90% {\n",
              "      border-color: transparent;\n",
              "      border-bottom-color: var(--fill-color);\n",
              "    }\n",
              "  }\n",
              "</style>\n",
              "\n",
              "  <script>\n",
              "    async function quickchart(key) {\n",
              "      const quickchartButtonEl =\n",
              "        document.querySelector('#' + key + ' button');\n",
              "      quickchartButtonEl.disabled = true;  // To prevent multiple clicks.\n",
              "      quickchartButtonEl.classList.add('colab-df-spinner');\n",
              "      try {\n",
              "        const charts = await google.colab.kernel.invokeFunction(\n",
              "            'suggestCharts', [key], {});\n",
              "      } catch (error) {\n",
              "        console.error('Error during call to suggestCharts:', error);\n",
              "      }\n",
              "      quickchartButtonEl.classList.remove('colab-df-spinner');\n",
              "      quickchartButtonEl.classList.add('colab-df-quickchart-complete');\n",
              "    }\n",
              "    (() => {\n",
              "      let quickchartButtonEl =\n",
              "        document.querySelector('#df-220fd193-38ea-4c71-8d11-02934e59c2d2 button');\n",
              "      quickchartButtonEl.style.display =\n",
              "        google.colab.kernel.accessAllowed ? 'block' : 'none';\n",
              "    })();\n",
              "  </script>\n",
              "</div>\n",
              "    </div>\n",
              "  </div>\n"
            ]
          },
          "metadata": {},
          "execution_count": 248
        }
      ]
    },
    {
      "cell_type": "code",
      "source": [
        "# Visualize, visualize, visualize\n",
        "import matplotlib.pyplot as plt\n",
        "plt.scatter(x=X[: , 0],\n",
        "            y=X[:, 1],\n",
        "            c=y,\n",
        "            cmap=plt.cm.RdYlBu)\n"
      ],
      "metadata": {
        "colab": {
          "base_uri": "https://localhost:8080/",
          "height": 447
        },
        "id": "B4cGNsIQcVoB",
        "outputId": "80e1153f-82d0-48fd-d026-4cc7185b7c54"
      },
      "execution_count": 249,
      "outputs": [
        {
          "output_type": "execute_result",
          "data": {
            "text/plain": [
              "<matplotlib.collections.PathCollection at 0x7a8a677debf0>"
            ]
          },
          "metadata": {},
          "execution_count": 249
        },
        {
          "output_type": "display_data",
          "data": {
            "text/plain": [
              "<Figure size 640x480 with 1 Axes>"
            ],
            "image/png": "[encoded data removed]"
          },
          "metadata": {}
        }
      ]
    },
    {
      "cell_type": "markdown",
      "source": [
        "**Note:** The data we're working with is often referred to as a toy dataset, a dataset that is smallenough to experiment but still large enough to practice the fundamentals."
      ],
      "metadata": {
        "id": "SbEVOAVueDh6"
      }
    },
    {
      "cell_type": "markdown",
      "source": [
        "# 1.1 Check input and output shapes\n",
        "\n"
      ],
      "metadata": {
        "id": "08ut2iE0gLxR"
      }
    },
    {
      "cell_type": "code",
      "source": [
        "X.shape, y.shape"
      ],
      "metadata": {
        "colab": {
          "base_uri": "https://localhost:8080/"
        },
        "id": "u60NsGuTgSD-",
        "outputId": "f84ef718-d197-430c-ae4b-fa5641fcb523"
      },
      "execution_count": 250,
      "outputs": [
        {
          "output_type": "execute_result",
          "data": {
            "text/plain": [
              "((1000, 2), (1000,))"
            ]
          },
          "metadata": {},
          "execution_count": 250
        }
      ]
    },
    {
      "cell_type": "code",
      "source": [
        "# View the first examples of features and labels\n",
        "X_sample = X[0]\n",
        "y_sample = y[0]\n",
        "\n",
        "print(f\"Values for one sample of X: {X_sample}\")\n",
        "print(f\"Values for one sample of y: {y_sample}\")\n",
        "print(f\"Shapes for one sample of X: {X_sample.shape}\")\n",
        "print(f\"Shapes for one sample of y: {y_sample.shape}\")"
      ],
      "metadata": {
        "colab": {
          "base_uri": "https://localhost:8080/"
        },
        "id": "1XTwXLVsgx1t",
        "outputId": "87c39605-ef27-4080-fcee-64063fa1d383"
      },
      "execution_count": 251,
      "outputs": [
        {
          "output_type": "stream",
          "name": "stdout",
          "text": [
            "Values for one sample of X: [0.75424625 0.23148074]\n",
            "Values for one sample of y: 1\n",
            "Shapes for one sample of X: (2,)\n",
            "Shapes for one sample of y: ()\n"
          ]
        }
      ]
    },
    {
      "cell_type": "markdown",
      "source": [
        "### 1.2 Turn data into tensors and creating train and test splits\n"
      ],
      "metadata": {
        "id": "1mQonBPagxtO"
      }
    },
    {
      "cell_type": "code",
      "source": [
        "import torch\n",
        "torch.__version__"
      ],
      "metadata": {
        "colab": {
          "base_uri": "https://localhost:8080/",
          "height": 36
        },
        "id": "92qxh44ih6gm",
        "outputId": "c94a4d30-59d6-4d86-b924-75858cb7129c"
      },
      "execution_count": 252,
      "outputs": [
        {
          "output_type": "execute_result",
          "data": {
            "text/plain": [
              "'2.0.1+cu118'"
            ],
            "application/vnd.google.colaboratory.intrinsic+json": {
              "type": "string"
            }
          },
          "metadata": {},
          "execution_count": 252
        }
      ]
    },
    {
      "cell_type": "code",
      "source": [
        "# Turn data into tensors\n",
        "X = torch.from_numpy(X).type(torch.float)\n",
        "y = torch.from_numpy(y).type(torch.float)\n",
        "X[:5], y[:5]"
      ],
      "metadata": {
        "colab": {
          "base_uri": "https://localhost:8080/"
        },
        "id": "4xo3JWu-iQMd",
        "outputId": "7a44c450-5178-43ac-9e98-8a57f94b2265"
      },
      "execution_count": 253,
      "outputs": [
        {
          "output_type": "execute_result",
          "data": {
            "text/plain": [
              "(tensor([[ 0.7542,  0.2315],\n",
              "         [-0.7562,  0.1533],\n",
              "         [-0.8154,  0.1733],\n",
              "         [-0.3937,  0.6929],\n",
              "         [ 0.4422, -0.8967]]),\n",
              " tensor([1., 1., 1., 1., 0.]))"
            ]
          },
          "metadata": {},
          "execution_count": 253
        }
      ]
    },
    {
      "cell_type": "code",
      "source": [
        "type(X), X.dtype, y.dtype"
      ],
      "metadata": {
        "colab": {
          "base_uri": "https://localhost:8080/"
        },
        "id": "zABehgj0i-kQ",
        "outputId": "95a5bda7-2f7d-4c2f-ceeb-836576243599"
      },
      "execution_count": 254,
      "outputs": [
        {
          "output_type": "execute_result",
          "data": {
            "text/plain": [
              "(torch.Tensor, torch.float32, torch.float32)"
            ]
          },
          "metadata": {},
          "execution_count": 254
        }
      ]
    },
    {
      "cell_type": "code",
      "source": [
        "# # Splitting data into training and test segments\n",
        "# train_test_split = int(0.8 * len(X))\n",
        "# X_train, y_train = X[:train_test_split], y[:train_test_split]\n",
        "# X_test, y_test = X[train_test_split:], y[train_test_split:]\n",
        "# len(X_train), len(y_train), len(X_test), len(y_test)"
      ],
      "metadata": {
        "id": "ZBTN2EBvfCcy"
      },
      "execution_count": 255,
      "outputs": []
    },
    {
      "cell_type": "code",
      "source": [
        "# Split data into training and test sets randomly\n",
        "from sklearn.model_selection import train_test_split"
      ],
      "metadata": {
        "id": "9EA5ORozfpab"
      },
      "execution_count": 256,
      "outputs": []
    },
    {
      "cell_type": "code",
      "source": [
        "X_train, X_test, y_train, y_test = train_test_split(X,\n",
        "                                                    y,\n",
        "                                                    test_size=0.2,\n",
        "                                                    random_state=42)\n"
      ],
      "metadata": {
        "id": "S5FUG6bRkdyk"
      },
      "execution_count": 257,
      "outputs": []
    },
    {
      "cell_type": "code",
      "source": [
        "len(X_train), len(X_test), len(y_train), len(y_test)"
      ],
      "metadata": {
        "colab": {
          "base_uri": "https://localhost:8080/"
        },
        "id": "tQ_VWI4Toko3",
        "outputId": "e3814b11-47e4-44fd-fe66-cb41910ff24c"
      },
      "execution_count": 258,
      "outputs": [
        {
          "output_type": "execute_result",
          "data": {
            "text/plain": [
              "(800, 200, 800, 200)"
            ]
          },
          "metadata": {},
          "execution_count": 258
        }
      ]
    },
    {
      "cell_type": "markdown",
      "source": [
        "## 2. Building a model\n",
        "\n",
        "Let's build a model to classify our blue and red dots\n",
        "\n",
        "To do so, we want to:\n",
        "1. Setup device agnostic code so ourt code will run on an accelerator (GPU) if there is one, else a CPU)\n",
        "2. Construct a model (by subclassing `nn.Module`)\n",
        "3. Define a loss function and optimizer\n",
        "4. Create a training and test loop\n"
      ],
      "metadata": {
        "id": "TyOnLxCCoqT-"
      }
    },
    {
      "cell_type": "code",
      "source": [
        "# Import PyTorch and nn\n",
        "import torch\n",
        "from torch import nn\n",
        "\n",
        "# Make code device agnostic\n",
        "device = \"cuda\" if torch.cuda.is_available() else \"cpu\"\n",
        "device\n"
      ],
      "metadata": {
        "colab": {
          "base_uri": "https://localhost:8080/",
          "height": 36
        },
        "id": "04xbT49wpoUa",
        "outputId": "e7faf5de-9224-40c8-ca4d-fa64e3b6e0cf"
      },
      "execution_count": 259,
      "outputs": [
        {
          "output_type": "execute_result",
          "data": {
            "text/plain": [
              "'cuda'"
            ],
            "application/vnd.google.colaboratory.intrinsic+json": {
              "type": "string"
            }
          },
          "metadata": {},
          "execution_count": 259
        }
      ]
    },
    {
      "cell_type": "code",
      "source": [
        "X_train"
      ],
      "metadata": {
        "colab": {
          "base_uri": "https://localhost:8080/"
        },
        "id": "MPsyYpnsqB_P",
        "outputId": "e9a46b8d-0d12-461d-b802-4c51f6f0f041"
      },
      "execution_count": 260,
      "outputs": [
        {
          "output_type": "execute_result",
          "data": {
            "text/plain": [
              "tensor([[ 0.6579, -0.4651],\n",
              "        [ 0.6319, -0.7347],\n",
              "        [-1.0086, -0.1240],\n",
              "        ...,\n",
              "        [ 0.0157, -1.0300],\n",
              "        [ 1.0110,  0.1680],\n",
              "        [ 0.5578, -0.5709]])"
            ]
          },
          "metadata": {},
          "execution_count": 260
        }
      ]
    },
    {
      "cell_type": "markdown",
      "source": [
        "# Let's create a model\n",
        "\n",
        "1. Subclasses `nn.Module` (almost all models in PyTorch subclass `nn.Module`)\n",
        "2. Create 2 `nn.Linear()` layers that are capable opf handl;ing the shapes of our data\n",
        "3. Defines a forward() method that overwrites nn.Module and outlines the forward pass (forward computation) of the model\n",
        "4. Instantiate an instance of our model class and send it to the target device"
      ],
      "metadata": {
        "id": "UTEHBB10qVac"
      }
    },
    {
      "cell_type": "code",
      "source": [
        "device"
      ],
      "metadata": {
        "colab": {
          "base_uri": "https://localhost:8080/",
          "height": 36
        },
        "id": "6J6PGBSrva5q",
        "outputId": "a36722d3-54ae-43a1-8265-48c8dcf0527a"
      },
      "execution_count": 261,
      "outputs": [
        {
          "output_type": "execute_result",
          "data": {
            "text/plain": [
              "'cuda'"
            ],
            "application/vnd.google.colaboratory.intrinsic+json": {
              "type": "string"
            }
          },
          "metadata": {},
          "execution_count": 261
        }
      ]
    },
    {
      "cell_type": "code",
      "source": [
        "# 1. Construct a model that subclasses nn.Module\n",
        "class CircleModelV1(nn.Module):\n",
        "  def __init__(self):\n",
        "    super().__init__()\n",
        "    # 2. create 2 nn.Linear layers\n",
        "    self.layer_1 = nn.Linear(in_features=2, out_features=5) # takes in 2 features and upscales to 5 features\n",
        "    self.layer_2 = nn.Linear(in_features=5, out_features=1) # takes in 5 features from previous layer and outputs a single feature (same shape as y)\n",
        "\n",
        "  # 3. Define a forward()_ method that outlines the forward pass\n",
        "  def forward(self, x: torch.Tensor) -> torch.Tensor:\n",
        "    return self.layer_2(self.layer_1(x)) # x -> layer_1 -> layer_2 -> output\n",
        "\n",
        "# 4. Instantiate an instance of our model class and send it to the target device\n",
        "model_0 = CircleModelV1().to(device)\n",
        "model_0"
      ],
      "metadata": {
        "colab": {
          "base_uri": "https://localhost:8080/"
        },
        "id": "2na0VGpWrQT7",
        "outputId": "d243a7f1-f28a-4384-c3b6-9b8390325a5b"
      },
      "execution_count": 262,
      "outputs": [
        {
          "output_type": "execute_result",
          "data": {
            "text/plain": [
              "CircleModelV1(\n",
              "  (layer_1): Linear(in_features=2, out_features=5, bias=True)\n",
              "  (layer_2): Linear(in_features=5, out_features=1, bias=True)\n",
              ")"
            ]
          },
          "metadata": {},
          "execution_count": 262
        }
      ]
    },
    {
      "cell_type": "code",
      "source": [
        "next(model_0.parameters()).device"
      ],
      "metadata": {
        "colab": {
          "base_uri": "https://localhost:8080/"
        },
        "id": "F3jtvyEpsqZD",
        "outputId": "c0deaeb5-0bae-4d89-ea9a-879e1191399f"
      },
      "execution_count": 263,
      "outputs": [
        {
          "output_type": "execute_result",
          "data": {
            "text/plain": [
              "device(type='cuda', index=0)"
            ]
          },
          "metadata": {},
          "execution_count": 263
        }
      ]
    },
    {
      "cell_type": "code",
      "source": [
        "# Let's replicate model above using nn.Sequential()\n",
        "model_1 = nn.Sequential(\n",
        "    nn.Linear(in_features=2, out_features=10),\n",
        "    nn.Linear(in_features=10, out_features=10),\n",
        "    nn.Linear(in_features=10, out_features=1)\n",
        ").to(device)\n",
        "model_1\n"
      ],
      "metadata": {
        "colab": {
          "base_uri": "https://localhost:8080/"
        },
        "id": "AXZG26d1vqSj",
        "outputId": "e2c58307-e420-4e04-983d-25ad3e51a070"
      },
      "execution_count": 264,
      "outputs": [
        {
          "output_type": "execute_result",
          "data": {
            "text/plain": [
              "Sequential(\n",
              "  (0): Linear(in_features=2, out_features=10, bias=True)\n",
              "  (1): Linear(in_features=10, out_features=10, bias=True)\n",
              "  (2): Linear(in_features=10, out_features=1, bias=True)\n",
              ")"
            ]
          },
          "metadata": {},
          "execution_count": 264
        }
      ]
    },
    {
      "cell_type": "code",
      "source": [
        "model_1.state_dict()"
      ],
      "metadata": {
        "colab": {
          "base_uri": "https://localhost:8080/"
        },
        "id": "7IUuT_VG8WkQ",
        "outputId": "ae821f89-1d40-4eaa-f50e-fcf2114bf55c"
      },
      "execution_count": 265,
      "outputs": [
        {
          "output_type": "execute_result",
          "data": {
            "text/plain": [
              "OrderedDict([('0.weight',\n",
              "              tensor([[-0.0829, -0.2872],\n",
              "                      [ 0.4691, -0.5582],\n",
              "                      [-0.3260, -0.1997],\n",
              "                      [-0.4252,  0.0667],\n",
              "                      [-0.6984,  0.6386],\n",
              "                      [-0.6007,  0.5459],\n",
              "                      [ 0.1177, -0.2296],\n",
              "                      [ 0.4370,  0.1102],\n",
              "                      [ 0.5713,  0.0773],\n",
              "                      [-0.2230,  0.1900]], device='cuda:0')),\n",
              "             ('0.bias',\n",
              "              tensor([-0.1918,  0.2976,  0.6313,  0.4087, -0.3091,  0.4082,  0.1265,  0.3591,\n",
              "                      -0.4310, -0.7000], device='cuda:0')),\n",
              "             ('1.weight',\n",
              "              tensor([[-0.1222, -0.2426,  0.2595,  0.0911,  0.1310,  0.1000, -0.0055,  0.2475,\n",
              "                       -0.2247,  0.0199],\n",
              "                      [-0.2158,  0.0975, -0.1089,  0.0969, -0.0659,  0.2623, -0.1874, -0.1886,\n",
              "                       -0.1886,  0.2844],\n",
              "                      [ 0.1054,  0.3043, -0.2610, -0.3137, -0.2474, -0.2127,  0.1281,  0.1132,\n",
              "                        0.2628, -0.1633],\n",
              "                      [-0.2156,  0.1678, -0.1278,  0.1919, -0.0750,  0.1809, -0.2457, -0.1596,\n",
              "                        0.0964,  0.0669],\n",
              "                      [-0.0806,  0.1885,  0.2150, -0.2293, -0.1688,  0.2896, -0.1067, -0.1121,\n",
              "                       -0.3060, -0.1811],\n",
              "                      [ 0.0790, -0.0417, -0.2295,  0.0074, -0.2160, -0.2683, -0.1741, -0.2768,\n",
              "                       -0.2014,  0.3161],\n",
              "                      [ 0.0597,  0.0974, -0.2949, -0.2077, -0.1053,  0.0494, -0.2783, -0.1363,\n",
              "                       -0.1893,  0.0009],\n",
              "                      [-0.1177, -0.0219, -0.2143, -0.2171, -0.1845, -0.1082, -0.2496,  0.2651,\n",
              "                       -0.0628,  0.2721],\n",
              "                      [ 0.0985, -0.2678,  0.2188, -0.0870, -0.1212, -0.2625, -0.3144,  0.0905,\n",
              "                       -0.0691,  0.1231],\n",
              "                      [-0.2595,  0.2348, -0.2321, -0.0546,  0.0661,  0.1633,  0.2553,  0.2881,\n",
              "                       -0.2507,  0.0796]], device='cuda:0')),\n",
              "             ('1.bias',\n",
              "              tensor([-0.1360, -0.0347, -0.2367,  0.2880, -0.2321,  0.1690,  0.1111,  0.1028,\n",
              "                      -0.1710,  0.2874], device='cuda:0')),\n",
              "             ('2.weight',\n",
              "              tensor([[ 0.0695,  0.0407, -0.2787,  0.1327, -0.0474, -0.1449,  0.2716,  0.0705,\n",
              "                       -0.1750, -0.1601]], device='cuda:0')),\n",
              "             ('2.bias', tensor([-0.0151], device='cuda:0'))])"
            ]
          },
          "metadata": {},
          "execution_count": 265
        }
      ]
    },
    {
      "cell_type": "code",
      "source": [
        "# Make predictions\n",
        "with torch.inference_mode():\n",
        "  untrained_preds = model_1(X_test.to(device))\n",
        "print(f\"Length of predictions: {len(untrained_preds)}, Shape: {untrained_preds.shape}\")\n",
        "print(f\"Length of test samples: {len(X_test)}, Shape: {X_test.shape}\")\n",
        "print(f\"\\nFirst 10 predictions:\\n {torch.round(untrained_preds[:10])}\")\n",
        "print(f\"\\nFirst 10 labels: {y_test[:10]}\")"
      ],
      "metadata": {
        "colab": {
          "base_uri": "https://localhost:8080/"
        },
        "id": "yJTVlZWe8ZVU",
        "outputId": "08213c7d-e852-4ca8-ea25-570a99276f1f"
      },
      "execution_count": 266,
      "outputs": [
        {
          "output_type": "stream",
          "name": "stdout",
          "text": [
            "Length of predictions: 200, Shape: torch.Size([200, 1])\n",
            "Length of test samples: 200, Shape: torch.Size([200, 2])\n",
            "\n",
            "First 10 predictions:\n",
            " tensor([[0.],\n",
            "        [0.],\n",
            "        [0.],\n",
            "        [0.],\n",
            "        [-0.],\n",
            "        [-0.],\n",
            "        [-0.],\n",
            "        [-0.],\n",
            "        [0.],\n",
            "        [0.]], device='cuda:0')\n",
            "\n",
            "First 10 labels: tensor([1., 0., 1., 0., 1., 1., 0., 0., 1., 0.])\n"
          ]
        }
      ]
    },
    {
      "cell_type": "code",
      "source": [
        "X_test[:10], y_test[:10]"
      ],
      "metadata": {
        "colab": {
          "base_uri": "https://localhost:8080/"
        },
        "id": "j4SlG-LR-JI0",
        "outputId": "9a04f9b4-fa52-4b2e-83ca-9c02ecfa2001"
      },
      "execution_count": 267,
      "outputs": [
        {
          "output_type": "execute_result",
          "data": {
            "text/plain": [
              "(tensor([[-0.3752,  0.6827],\n",
              "         [ 0.0154,  0.9600],\n",
              "         [-0.7028, -0.3147],\n",
              "         [-0.2853,  0.9664],\n",
              "         [ 0.4024, -0.7438],\n",
              "         [ 0.6323, -0.5711],\n",
              "         [ 0.8561,  0.5499],\n",
              "         [ 1.0034,  0.1903],\n",
              "         [-0.7489, -0.2951],\n",
              "         [ 0.0538,  0.9739]]),\n",
              " tensor([1., 0., 1., 0., 1., 1., 0., 0., 1., 0.]))"
            ]
          },
          "metadata": {},
          "execution_count": 267
        }
      ]
    },
    {
      "cell_type": "markdown",
      "source": [
        "### Setup loss function and optimizer\n",
        "Which loss function or optimizer should we use for a classification problem?\n",
        "\n",
        "This is problem specific.\n",
        "\n",
        "For example, for regression you mightt want to use MAE or MSE\n",
        "\n",
        "For classification you would want to use binary cross entropy or categorical cross entropy (cross entropy)\n",
        "\n",
        "Remember that the loss function measures how **wrong** your model's predictions are.\n",
        "\n",
        "And for optimizers, two of th most common and useful are SGD and Adam, however PyTorch has many built in options.\n",
        "\n",
        "* For the loss function we're goin to use the `torch.nn.BCEWithLogitsLoss()`, for more on what binary cross entropy (BCE) is, check out: https://towardsdatascience.com/understanding-binary-cross-entropy-log-loss-a-visual-explanation-a3ac6025181a"
      ],
      "metadata": {
        "id": "ByHZaheA_SZ5"
      }
    },
    {
      "cell_type": "code",
      "source": [
        "# Setup loss function\n",
        "# loss_fn = nn.BCELoss() - requires that inputs have already gone through the sigmoid activation function\n",
        "loss_fn = nn.BCEWithLogitsLoss()  # sigmoid activation function built in\n",
        "optimizer = torch.optim.SGD(params=model_1.parameters(),\n",
        "                            lr=0.01)\n"
      ],
      "metadata": {
        "id": "DO_odaCdAZ5g"
      },
      "execution_count": 268,
      "outputs": []
    },
    {
      "cell_type": "code",
      "source": [
        "model_1.state_dict()"
      ],
      "metadata": {
        "colab": {
          "base_uri": "https://localhost:8080/"
        },
        "id": "1igpKZh2TAag",
        "outputId": "1b4e94c1-6cc6-4a7c-f289-315364d7cf52"
      },
      "execution_count": 269,
      "outputs": [
        {
          "output_type": "execute_result",
          "data": {
            "text/plain": [
              "OrderedDict([('0.weight',\n",
              "              tensor([[-0.0829, -0.2872],\n",
              "                      [ 0.4691, -0.5582],\n",
              "                      [-0.3260, -0.1997],\n",
              "                      [-0.4252,  0.0667],\n",
              "                      [-0.6984,  0.6386],\n",
              "                      [-0.6007,  0.5459],\n",
              "                      [ 0.1177, -0.2296],\n",
              "                      [ 0.4370,  0.1102],\n",
              "                      [ 0.5713,  0.0773],\n",
              "                      [-0.2230,  0.1900]], device='cuda:0')),\n",
              "             ('0.bias',\n",
              "              tensor([-0.1918,  0.2976,  0.6313,  0.4087, -0.3091,  0.4082,  0.1265,  0.3591,\n",
              "                      -0.4310, -0.7000], device='cuda:0')),\n",
              "             ('1.weight',\n",
              "              tensor([[-0.1222, -0.2426,  0.2595,  0.0911,  0.1310,  0.1000, -0.0055,  0.2475,\n",
              "                       -0.2247,  0.0199],\n",
              "                      [-0.2158,  0.0975, -0.1089,  0.0969, -0.0659,  0.2623, -0.1874, -0.1886,\n",
              "                       -0.1886,  0.2844],\n",
              "                      [ 0.1054,  0.3043, -0.2610, -0.3137, -0.2474, -0.2127,  0.1281,  0.1132,\n",
              "                        0.2628, -0.1633],\n",
              "                      [-0.2156,  0.1678, -0.1278,  0.1919, -0.0750,  0.1809, -0.2457, -0.1596,\n",
              "                        0.0964,  0.0669],\n",
              "                      [-0.0806,  0.1885,  0.2150, -0.2293, -0.1688,  0.2896, -0.1067, -0.1121,\n",
              "                       -0.3060, -0.1811],\n",
              "                      [ 0.0790, -0.0417, -0.2295,  0.0074, -0.2160, -0.2683, -0.1741, -0.2768,\n",
              "                       -0.2014,  0.3161],\n",
              "                      [ 0.0597,  0.0974, -0.2949, -0.2077, -0.1053,  0.0494, -0.2783, -0.1363,\n",
              "                       -0.1893,  0.0009],\n",
              "                      [-0.1177, -0.0219, -0.2143, -0.2171, -0.1845, -0.1082, -0.2496,  0.2651,\n",
              "                       -0.0628,  0.2721],\n",
              "                      [ 0.0985, -0.2678,  0.2188, -0.0870, -0.1212, -0.2625, -0.3144,  0.0905,\n",
              "                       -0.0691,  0.1231],\n",
              "                      [-0.2595,  0.2348, -0.2321, -0.0546,  0.0661,  0.1633,  0.2553,  0.2881,\n",
              "                       -0.2507,  0.0796]], device='cuda:0')),\n",
              "             ('1.bias',\n",
              "              tensor([-0.1360, -0.0347, -0.2367,  0.2880, -0.2321,  0.1690,  0.1111,  0.1028,\n",
              "                      -0.1710,  0.2874], device='cuda:0')),\n",
              "             ('2.weight',\n",
              "              tensor([[ 0.0695,  0.0407, -0.2787,  0.1327, -0.0474, -0.1449,  0.2716,  0.0705,\n",
              "                       -0.1750, -0.1601]], device='cuda:0')),\n",
              "             ('2.bias', tensor([-0.0151], device='cuda:0'))])"
            ]
          },
          "metadata": {},
          "execution_count": 269
        }
      ]
    },
    {
      "cell_type": "code",
      "source": [
        "# Calculate the accuracy - out of 100 examples, what percentage does our model get it right?\n",
        "def accuracy_fn(y_true, y_pred):\n",
        "  correct = torch.eq(y_true, y_pred).sum().item()\n",
        "  acc = (correct/len(y_pred)) * 100\n",
        "  return acc"
      ],
      "metadata": {
        "id": "XAK0aNc9UO-F"
      },
      "execution_count": 270,
      "outputs": []
    },
    {
      "cell_type": "markdown",
      "source": [
        "## 3. Train our model\n",
        "\n",
        "We need a training loop!\n",
        "\n",
        "1. Forward pass\n",
        "2. Calculate the loss\n",
        "3. Optimizer zero grad\n",
        "4. loss backward (back propagation)\n",
        "5. Optimizer step (gradient descent)"
      ],
      "metadata": {
        "id": "ygVebdxMVLEW"
      }
    },
    {
      "cell_type": "markdown",
      "source": [
        "### 3.1 Going from raw logits -> prediction probabilities -> prediction labels\n",
        "\n",
        "Our model outputs are called raw **logits**\n",
        "\n",
        "We can convert these logits into prediciton probabilities by passing them into some kind of activation function (e.g. sigmoid for binary classification and softmax for multiclass classification).\n",
        "\n",
        "Then we can convert our model's prediction probabilities to **prediction labels** by either rounding them or taking the **argmax()**"
      ],
      "metadata": {
        "id": "cqb0IXyEVSSS"
      }
    },
    {
      "cell_type": "code",
      "source": [
        "# View the first 5 outputs of the forward pass on the test data\n",
        "model_1.eval()\n",
        "with torch.inference_mode():\n",
        "  y_logits = model_1(X_test.to(device))[:5]\n",
        "y_logits"
      ],
      "metadata": {
        "colab": {
          "base_uri": "https://localhost:8080/"
        },
        "id": "YvbiFPENV2tz",
        "outputId": "51a39bff-e981-43ac-b6ef-26c44a1d975c"
      },
      "execution_count": 271,
      "outputs": [
        {
          "output_type": "execute_result",
          "data": {
            "text/plain": [
              "tensor([[ 0.3534],\n",
              "        [ 0.3016],\n",
              "        [ 0.2476],\n",
              "        [ 0.3844],\n",
              "        [-0.1359]], device='cuda:0')"
            ]
          },
          "metadata": {},
          "execution_count": 271
        }
      ]
    },
    {
      "cell_type": "code",
      "source": [
        "y_logits[:5], y_test[:5]"
      ],
      "metadata": {
        "colab": {
          "base_uri": "https://localhost:8080/"
        },
        "id": "Tvrju0fFWj1l",
        "outputId": "45833ae9-4d82-43f7-8429-2dffb671c55f"
      },
      "execution_count": 272,
      "outputs": [
        {
          "output_type": "execute_result",
          "data": {
            "text/plain": [
              "(tensor([[ 0.3534],\n",
              "         [ 0.3016],\n",
              "         [ 0.2476],\n",
              "         [ 0.3844],\n",
              "         [-0.1359]], device='cuda:0'),\n",
              " tensor([1., 0., 1., 0., 1.]))"
            ]
          },
          "metadata": {},
          "execution_count": 272
        }
      ]
    },
    {
      "cell_type": "code",
      "source": [
        "# Use the sigmoid activation function on our model logits to turn them into prediction probabilities\n",
        "y_pred_probs = torch.sigmoid(y_logits)\n",
        "y_pred_probs"
      ],
      "metadata": {
        "colab": {
          "base_uri": "https://localhost:8080/"
        },
        "id": "A-gZUE0Qf9fT",
        "outputId": "54f6d946-386d-4638-a208-b9b058c04ef0"
      },
      "execution_count": 273,
      "outputs": [
        {
          "output_type": "execute_result",
          "data": {
            "text/plain": [
              "tensor([[0.5874],\n",
              "        [0.5748],\n",
              "        [0.5616],\n",
              "        [0.5949],\n",
              "        [0.4661]], device='cuda:0')"
            ]
          },
          "metadata": {},
          "execution_count": 273
        }
      ]
    },
    {
      "cell_type": "markdown",
      "source": [
        "For our prediction probabuility values, we need to perform a range-style rounding on them:\n",
        "* `y_pred_probs` >= 0.5, y=1 (class 1)\n",
        "* `y_pred_probs` < 0.5, y=0 (class 0)"
      ],
      "metadata": {
        "id": "j5zGQNHJgqLw"
      }
    },
    {
      "cell_type": "code",
      "source": [
        "# Find the predicted labels\n",
        "y_preds = torch.round(y_pred_probs)\n",
        "print(y_preds)\n",
        "\n",
        "# In full (logits -> pred probs -> pred labels)\n",
        "y_pred_labels = torch.round(torch.sigmoid(model_1(X_test.to(device))[:5]))\n",
        "print(y_pred_labels)\n",
        "\n",
        "# Check for equality\n",
        "print(torch.eq(y_preds.squeeze(), y_pred_labels.squeeze()))\n",
        "\n",
        "# Get rid of extra dimension\n",
        "print(y_preds.shape)\n",
        "y_preds.squeeze()\n",
        "y_preds.shape"
      ],
      "metadata": {
        "colab": {
          "base_uri": "https://localhost:8080/"
        },
        "id": "LZWaP3P5hFE1",
        "outputId": "6134b690-4485-44dc-93bb-46b4f3c49375"
      },
      "execution_count": 274,
      "outputs": [
        {
          "output_type": "stream",
          "name": "stdout",
          "text": [
            "tensor([[1.],\n",
            "        [1.],\n",
            "        [1.],\n",
            "        [1.],\n",
            "        [0.]], device='cuda:0')\n",
            "tensor([[1.],\n",
            "        [1.],\n",
            "        [1.],\n",
            "        [1.],\n",
            "        [0.]], device='cuda:0', grad_fn=<RoundBackward0>)\n",
            "tensor([True, True, True, True, True], device='cuda:0')\n",
            "torch.Size([5, 1])\n"
          ]
        },
        {
          "output_type": "execute_result",
          "data": {
            "text/plain": [
              "torch.Size([5, 1])"
            ]
          },
          "metadata": {},
          "execution_count": 274
        }
      ]
    },
    {
      "cell_type": "code",
      "source": [
        "torch.round(y_pred_probs)"
      ],
      "metadata": {
        "colab": {
          "base_uri": "https://localhost:8080/"
        },
        "id": "nu6FAbNZgXw2",
        "outputId": "06d88703-9614-4bf8-db85-1d0e2911807c"
      },
      "execution_count": 275,
      "outputs": [
        {
          "output_type": "execute_result",
          "data": {
            "text/plain": [
              "tensor([[1.],\n",
              "        [1.],\n",
              "        [1.],\n",
              "        [1.],\n",
              "        [0.]], device='cuda:0')"
            ]
          },
          "metadata": {},
          "execution_count": 275
        }
      ]
    },
    {
      "cell_type": "code",
      "source": [
        "y_preds, y_test[:5]"
      ],
      "metadata": {
        "colab": {
          "base_uri": "https://localhost:8080/"
        },
        "id": "y2sv9BO6ggbe",
        "outputId": "3bbfba1e-a9dc-4804-a8e1-6f2e568872c8"
      },
      "execution_count": 276,
      "outputs": [
        {
          "output_type": "execute_result",
          "data": {
            "text/plain": [
              "(tensor([[1.],\n",
              "         [1.],\n",
              "         [1.],\n",
              "         [1.],\n",
              "         [0.]], device='cuda:0'),\n",
              " tensor([1., 0., 1., 0., 1.]))"
            ]
          },
          "metadata": {},
          "execution_count": 276
        }
      ]
    },
    {
      "cell_type": "markdown",
      "source": [
        "### 3.2 Building a training and testing loop\n"
      ],
      "metadata": {
        "id": "aHL4A3-zkkCP"
      }
    },
    {
      "cell_type": "code",
      "source": [
        "device"
      ],
      "metadata": {
        "colab": {
          "base_uri": "https://localhost:8080/",
          "height": 36
        },
        "id": "Wtir8gJhlUYT",
        "outputId": "9b5963af-b3e8-4c64-d5f9-0d3293f688c5"
      },
      "execution_count": 277,
      "outputs": [
        {
          "output_type": "execute_result",
          "data": {
            "text/plain": [
              "'cuda'"
            ],
            "application/vnd.google.colaboratory.intrinsic+json": {
              "type": "string"
            }
          },
          "metadata": {},
          "execution_count": 277
        }
      ]
    },
    {
      "cell_type": "code",
      "source": [
        "!nvidia-smi"
      ],
      "metadata": {
        "colab": {
          "base_uri": "https://localhost:8080/"
        },
        "id": "yoBOM6HxlVT2",
        "outputId": "255c2813-b42a-4a8c-d943-de456cdb2ed8"
      },
      "execution_count": 278,
      "outputs": [
        {
          "output_type": "stream",
          "name": "stdout",
          "text": [
            "Fri Sep 22 18:54:58 2023       \n",
            "+-----------------------------------------------------------------------------+\n",
            "| NVIDIA-SMI 525.105.17   Driver Version: 525.105.17   CUDA Version: 12.0     |\n",
            "|-------------------------------+----------------------+----------------------+\n",
            "| GPU  Name        Persistence-M| Bus-Id        Disp.A | Volatile Uncorr. ECC |\n",
            "| Fan  Temp  Perf  Pwr:Usage/Cap|         Memory-Usage | GPU-Util  Compute M. |\n",
            "|                               |                      |               MIG M. |\n",
            "|===============================+======================+======================|\n",
            "|   0  Tesla T4            Off  | 00000000:00:04.0 Off |                    0 |\n",
            "| N/A   56C    P0    30W /  70W |    821MiB / 15360MiB |      2%      Default |\n",
            "|                               |                      |                  N/A |\n",
            "+-------------------------------+----------------------+----------------------+\n",
            "                                                                               \n",
            "+-----------------------------------------------------------------------------+\n",
            "| Processes:                                                                  |\n",
            "|  GPU   GI   CI        PID   Type   Process name                  GPU Memory |\n",
            "|        ID   ID                                                   Usage      |\n",
            "|=============================================================================|\n",
            "+-----------------------------------------------------------------------------+\n"
          ]
        }
      ]
    },
    {
      "cell_type": "code",
      "source": [
        "from torch.nn.modules.loss import BCEWithLogitsLoss\n",
        "# Training\n",
        "torch.manual_seed(42)\n",
        "torch.cuda.manual_seed(42)\n",
        "\n",
        "# There is also a cuda random seed at torch.cuda.manual_seed()\n",
        "epochs = 1000\n",
        "\n",
        "# Put data to target device\n",
        "X_train, y_train = X_train.to(device), y_train.to(device)\n",
        "X_test, y_test = X_test.to(device), y_test.to(device)\n",
        "\n",
        "# Building a training and evaluation loop]\n",
        "for epoch in range(epochs):\n",
        "  # Training\n",
        "  model_1.train()\n",
        "\n",
        "  # Forward pass\n",
        "  y_logits = model_1(X_train).squeeze()\n",
        "\n",
        "  # Convert to prediction labels\n",
        "  y_pred = torch.round(torch.sigmoid(y_logits)) # logits -> pred probs -> pred labels\n",
        "\n",
        "  # Calculate loss / accuracy\n",
        "  loss = loss_fn(y_logits, # nn.BCEWithLogitsLoss() accepts raw logits as input\n",
        "                 y_train)\n",
        "\n",
        "  acc = accuracy_fn(y_true=y_train,\n",
        "                    y_pred=y_pred)\n",
        "\n",
        "  # Optimizer zero grad\n",
        "  optimizer.zero_grad()\n",
        "\n",
        "  # Loss backward (back propagation)\n",
        "  loss.backward()\n",
        "\n",
        "  # Optimizer step (gradient descent)\n",
        "  optimizer.step()\n",
        "\n",
        "  # Testing\n",
        "  model_1.eval()\n",
        "  with torch.inference_mode():\n",
        "    test_logits = model_1(X_test).squeeze()\n",
        "    test_pred = torch.round(torch.sigmoid(test_logits)) # get prediction probabilities\n",
        "\n",
        "    # Calaculate the test loss/acc\n",
        "    test_loss = loss_fn(test_logits, y_test)\n",
        "    test_acc = accuracy_fn(y_true=y_test,\n",
        "                           y_pred=test_pred)\n",
        "\n",
        "    # Print out what's happenin\n",
        "    if epoch % 10 == 0:\n",
        "      print(f\"Epoch: {epoch} | Loss: {loss:.5f}, Acc: {acc:.2f} | Test loss: {test_loss:.5f}, Test acc: {test_acc:.2f}\")"
      ],
      "metadata": {
        "colab": {
          "base_uri": "https://localhost:8080/"
        },
        "id": "YI67zaywlXhC",
        "outputId": "360920b7-3bd6-4683-e332-28457772bb3f"
      },
      "execution_count": 279,
      "outputs": [
        {
          "output_type": "stream",
          "name": "stdout",
          "text": [
            "Epoch: 0 | Loss: 0.70021, Acc: 51.50 | Test loss: 0.70111, Test acc: 53.00\n",
            "Epoch: 10 | Loss: 0.69650, Acc: 50.50 | Test loss: 0.69766, Test acc: 54.00\n",
            "Epoch: 20 | Loss: 0.69501, Acc: 49.25 | Test loss: 0.69626, Test acc: 52.50\n",
            "Epoch: 30 | Loss: 0.69427, Acc: 49.38 | Test loss: 0.69556, Test acc: 51.50\n",
            "Epoch: 40 | Loss: 0.69384, Acc: 49.50 | Test loss: 0.69514, Test acc: 51.00\n",
            "Epoch: 50 | Loss: 0.69356, Acc: 49.25 | Test loss: 0.69488, Test acc: 51.50\n",
            "Epoch: 60 | Loss: 0.69338, Acc: 49.25 | Test loss: 0.69471, Test acc: 51.00\n",
            "Epoch: 70 | Loss: 0.69326, Acc: 49.88 | Test loss: 0.69459, Test acc: 50.50\n",
            "Epoch: 80 | Loss: 0.69317, Acc: 50.25 | Test loss: 0.69451, Test acc: 48.00\n",
            "Epoch: 90 | Loss: 0.69312, Acc: 50.00 | Test loss: 0.69446, Test acc: 49.00\n",
            "Epoch: 100 | Loss: 0.69308, Acc: 50.25 | Test loss: 0.69443, Test acc: 48.50\n",
            "Epoch: 110 | Loss: 0.69305, Acc: 50.25 | Test loss: 0.69440, Test acc: 47.00\n",
            "Epoch: 120 | Loss: 0.69303, Acc: 50.62 | Test loss: 0.69439, Test acc: 47.00\n",
            "Epoch: 130 | Loss: 0.69302, Acc: 50.25 | Test loss: 0.69438, Test acc: 46.00\n",
            "Epoch: 140 | Loss: 0.69301, Acc: 50.75 | Test loss: 0.69438, Test acc: 46.00\n",
            "Epoch: 150 | Loss: 0.69300, Acc: 50.50 | Test loss: 0.69438, Test acc: 46.50\n",
            "Epoch: 160 | Loss: 0.69300, Acc: 50.75 | Test loss: 0.69438, Test acc: 46.50\n",
            "Epoch: 170 | Loss: 0.69299, Acc: 50.50 | Test loss: 0.69438, Test acc: 47.50\n",
            "Epoch: 180 | Loss: 0.69299, Acc: 50.75 | Test loss: 0.69438, Test acc: 47.50\n",
            "Epoch: 190 | Loss: 0.69299, Acc: 50.88 | Test loss: 0.69439, Test acc: 46.50\n",
            "Epoch: 200 | Loss: 0.69299, Acc: 51.00 | Test loss: 0.69440, Test acc: 47.00\n",
            "Epoch: 210 | Loss: 0.69299, Acc: 51.75 | Test loss: 0.69440, Test acc: 46.50\n",
            "Epoch: 220 | Loss: 0.69299, Acc: 51.00 | Test loss: 0.69441, Test acc: 46.50\n",
            "Epoch: 230 | Loss: 0.69298, Acc: 51.12 | Test loss: 0.69441, Test acc: 46.50\n",
            "Epoch: 240 | Loss: 0.69298, Acc: 51.00 | Test loss: 0.69442, Test acc: 46.00\n",
            "Epoch: 250 | Loss: 0.69298, Acc: 51.00 | Test loss: 0.69443, Test acc: 46.00\n",
            "Epoch: 260 | Loss: 0.69298, Acc: 51.12 | Test loss: 0.69443, Test acc: 46.00\n",
            "Epoch: 270 | Loss: 0.69298, Acc: 51.25 | Test loss: 0.69444, Test acc: 46.00\n",
            "Epoch: 280 | Loss: 0.69298, Acc: 51.50 | Test loss: 0.69444, Test acc: 46.00\n",
            "Epoch: 290 | Loss: 0.69298, Acc: 51.62 | Test loss: 0.69445, Test acc: 46.00\n",
            "Epoch: 300 | Loss: 0.69298, Acc: 51.50 | Test loss: 0.69446, Test acc: 46.00\n",
            "Epoch: 310 | Loss: 0.69298, Acc: 51.62 | Test loss: 0.69446, Test acc: 46.00\n",
            "Epoch: 320 | Loss: 0.69298, Acc: 51.38 | Test loss: 0.69447, Test acc: 46.00\n",
            "Epoch: 330 | Loss: 0.69298, Acc: 51.38 | Test loss: 0.69447, Test acc: 45.00\n",
            "Epoch: 340 | Loss: 0.69298, Acc: 51.38 | Test loss: 0.69448, Test acc: 45.00\n",
            "Epoch: 350 | Loss: 0.69298, Acc: 51.50 | Test loss: 0.69448, Test acc: 44.50\n",
            "Epoch: 360 | Loss: 0.69298, Acc: 51.50 | Test loss: 0.69449, Test acc: 44.50\n",
            "Epoch: 370 | Loss: 0.69298, Acc: 51.50 | Test loss: 0.69449, Test acc: 44.50\n",
            "Epoch: 380 | Loss: 0.69298, Acc: 51.50 | Test loss: 0.69450, Test acc: 44.50\n",
            "Epoch: 390 | Loss: 0.69298, Acc: 51.50 | Test loss: 0.69450, Test acc: 44.50\n",
            "Epoch: 400 | Loss: 0.69298, Acc: 51.50 | Test loss: 0.69451, Test acc: 45.00\n",
            "Epoch: 410 | Loss: 0.69298, Acc: 51.50 | Test loss: 0.69451, Test acc: 45.00\n",
            "Epoch: 420 | Loss: 0.69298, Acc: 51.62 | Test loss: 0.69452, Test acc: 45.00\n",
            "Epoch: 430 | Loss: 0.69298, Acc: 51.38 | Test loss: 0.69452, Test acc: 45.00\n",
            "Epoch: 440 | Loss: 0.69298, Acc: 51.38 | Test loss: 0.69452, Test acc: 45.00\n",
            "Epoch: 450 | Loss: 0.69298, Acc: 51.38 | Test loss: 0.69453, Test acc: 45.00\n",
            "Epoch: 460 | Loss: 0.69298, Acc: 51.38 | Test loss: 0.69453, Test acc: 45.00\n",
            "Epoch: 470 | Loss: 0.69298, Acc: 51.50 | Test loss: 0.69454, Test acc: 45.00\n",
            "Epoch: 480 | Loss: 0.69298, Acc: 51.50 | Test loss: 0.69454, Test acc: 45.00\n",
            "Epoch: 490 | Loss: 0.69298, Acc: 51.38 | Test loss: 0.69454, Test acc: 45.00\n",
            "Epoch: 500 | Loss: 0.69298, Acc: 51.38 | Test loss: 0.69455, Test acc: 45.00\n",
            "Epoch: 510 | Loss: 0.69298, Acc: 51.38 | Test loss: 0.69455, Test acc: 45.00\n",
            "Epoch: 520 | Loss: 0.69298, Acc: 51.38 | Test loss: 0.69455, Test acc: 45.00\n",
            "Epoch: 530 | Loss: 0.69298, Acc: 51.38 | Test loss: 0.69456, Test acc: 45.00\n",
            "Epoch: 540 | Loss: 0.69298, Acc: 51.38 | Test loss: 0.69456, Test acc: 45.00\n",
            "Epoch: 550 | Loss: 0.69298, Acc: 51.38 | Test loss: 0.69456, Test acc: 45.00\n",
            "Epoch: 560 | Loss: 0.69298, Acc: 51.38 | Test loss: 0.69457, Test acc: 45.00\n",
            "Epoch: 570 | Loss: 0.69298, Acc: 51.38 | Test loss: 0.69457, Test acc: 45.00\n",
            "Epoch: 580 | Loss: 0.69298, Acc: 51.25 | Test loss: 0.69457, Test acc: 45.00\n",
            "Epoch: 590 | Loss: 0.69298, Acc: 51.25 | Test loss: 0.69458, Test acc: 45.00\n",
            "Epoch: 600 | Loss: 0.69298, Acc: 51.25 | Test loss: 0.69458, Test acc: 45.00\n",
            "Epoch: 610 | Loss: 0.69298, Acc: 51.25 | Test loss: 0.69458, Test acc: 45.00\n",
            "Epoch: 620 | Loss: 0.69298, Acc: 51.25 | Test loss: 0.69458, Test acc: 45.00\n",
            "Epoch: 630 | Loss: 0.69298, Acc: 51.25 | Test loss: 0.69459, Test acc: 45.00\n",
            "Epoch: 640 | Loss: 0.69298, Acc: 51.25 | Test loss: 0.69459, Test acc: 45.00\n",
            "Epoch: 650 | Loss: 0.69298, Acc: 51.25 | Test loss: 0.69459, Test acc: 45.00\n",
            "Epoch: 660 | Loss: 0.69298, Acc: 51.25 | Test loss: 0.69459, Test acc: 45.50\n",
            "Epoch: 670 | Loss: 0.69298, Acc: 51.25 | Test loss: 0.69460, Test acc: 45.50\n",
            "Epoch: 680 | Loss: 0.69298, Acc: 51.25 | Test loss: 0.69460, Test acc: 45.50\n",
            "Epoch: 690 | Loss: 0.69298, Acc: 51.12 | Test loss: 0.69460, Test acc: 45.50\n",
            "Epoch: 700 | Loss: 0.69298, Acc: 51.12 | Test loss: 0.69460, Test acc: 45.50\n",
            "Epoch: 710 | Loss: 0.69298, Acc: 51.12 | Test loss: 0.69461, Test acc: 45.50\n",
            "Epoch: 720 | Loss: 0.69298, Acc: 51.12 | Test loss: 0.69461, Test acc: 45.50\n",
            "Epoch: 730 | Loss: 0.69298, Acc: 51.12 | Test loss: 0.69461, Test acc: 45.50\n",
            "Epoch: 740 | Loss: 0.69298, Acc: 51.12 | Test loss: 0.69461, Test acc: 45.50\n",
            "Epoch: 750 | Loss: 0.69298, Acc: 51.12 | Test loss: 0.69461, Test acc: 45.50\n",
            "Epoch: 760 | Loss: 0.69298, Acc: 51.12 | Test loss: 0.69461, Test acc: 45.50\n",
            "Epoch: 770 | Loss: 0.69298, Acc: 51.12 | Test loss: 0.69462, Test acc: 45.50\n",
            "Epoch: 780 | Loss: 0.69298, Acc: 51.12 | Test loss: 0.69462, Test acc: 45.50\n",
            "Epoch: 790 | Loss: 0.69298, Acc: 51.12 | Test loss: 0.69462, Test acc: 45.50\n",
            "Epoch: 800 | Loss: 0.69298, Acc: 51.12 | Test loss: 0.69462, Test acc: 45.50\n",
            "Epoch: 810 | Loss: 0.69298, Acc: 51.12 | Test loss: 0.69462, Test acc: 45.50\n",
            "Epoch: 820 | Loss: 0.69298, Acc: 51.12 | Test loss: 0.69462, Test acc: 45.50\n",
            "Epoch: 830 | Loss: 0.69298, Acc: 51.12 | Test loss: 0.69463, Test acc: 45.50\n",
            "Epoch: 840 | Loss: 0.69298, Acc: 51.12 | Test loss: 0.69463, Test acc: 45.50\n",
            "Epoch: 850 | Loss: 0.69298, Acc: 51.12 | Test loss: 0.69463, Test acc: 45.50\n",
            "Epoch: 860 | Loss: 0.69298, Acc: 51.12 | Test loss: 0.69463, Test acc: 45.50\n",
            "Epoch: 870 | Loss: 0.69298, Acc: 51.12 | Test loss: 0.69463, Test acc: 45.50\n",
            "Epoch: 880 | Loss: 0.69298, Acc: 51.12 | Test loss: 0.69463, Test acc: 45.50\n",
            "Epoch: 890 | Loss: 0.69298, Acc: 51.12 | Test loss: 0.69463, Test acc: 45.50\n",
            "Epoch: 900 | Loss: 0.69298, Acc: 51.12 | Test loss: 0.69464, Test acc: 45.50\n",
            "Epoch: 910 | Loss: 0.69298, Acc: 51.12 | Test loss: 0.69464, Test acc: 45.50\n",
            "Epoch: 920 | Loss: 0.69298, Acc: 51.12 | Test loss: 0.69464, Test acc: 45.50\n",
            "Epoch: 930 | Loss: 0.69298, Acc: 51.12 | Test loss: 0.69464, Test acc: 45.50\n",
            "Epoch: 940 | Loss: 0.69298, Acc: 51.12 | Test loss: 0.69464, Test acc: 45.50\n",
            "Epoch: 950 | Loss: 0.69298, Acc: 51.12 | Test loss: 0.69464, Test acc: 45.50\n",
            "Epoch: 960 | Loss: 0.69298, Acc: 51.12 | Test loss: 0.69464, Test acc: 45.50\n",
            "Epoch: 970 | Loss: 0.69298, Acc: 51.12 | Test loss: 0.69464, Test acc: 45.50\n",
            "Epoch: 980 | Loss: 0.69298, Acc: 51.12 | Test loss: 0.69464, Test acc: 45.50\n",
            "Epoch: 990 | Loss: 0.69298, Acc: 51.12 | Test loss: 0.69465, Test acc: 45.50\n"
          ]
        }
      ]
    },
    {
      "cell_type": "code",
      "source": [
        "loss_fn"
      ],
      "metadata": {
        "colab": {
          "base_uri": "https://localhost:8080/"
        },
        "id": "qbtrObFOqe_w",
        "outputId": "37becc1e-3085-4e49-d7b2-81bd9c464af5"
      },
      "execution_count": 280,
      "outputs": [
        {
          "output_type": "execute_result",
          "data": {
            "text/plain": [
              "BCEWithLogitsLoss()"
            ]
          },
          "metadata": {},
          "execution_count": 280
        }
      ]
    },
    {
      "cell_type": "code",
      "source": [
        "loss_fn_without_logits = nn.BCELoss() # expects prediction probablities as input"
      ],
      "metadata": {
        "id": "vPAnG3KIqmvN"
      },
      "execution_count": 281,
      "outputs": []
    },
    {
      "cell_type": "code",
      "source": [
        "loss_fn_without_logits"
      ],
      "metadata": {
        "colab": {
          "base_uri": "https://localhost:8080/"
        },
        "id": "vywA9YP2qsRy",
        "outputId": "f9f1fef8-097f-42ec-d382-6b021d2d3d27"
      },
      "execution_count": 282,
      "outputs": [
        {
          "output_type": "execute_result",
          "data": {
            "text/plain": [
              "BCELoss()"
            ]
          },
          "metadata": {},
          "execution_count": 282
        }
      ]
    },
    {
      "cell_type": "markdown",
      "source": [
        "## Let's get viaual to understand why our accuracty is around 50%\n",
        "## 4. Make predictions and evaluate the model\n",
        "\n",
        "From the metrics it looks like our model isn't learning anything!\n",
        "\n",
        "Remember to visualize, visulaize, and visualize.\n",
        "\n",
        "We're going to import a function that"
      ],
      "metadata": {
        "id": "8tVQmFT0qt4o"
      }
    },
    {
      "cell_type": "code",
      "source": [
        "import requests\n",
        "from pathlib import Path\n",
        "\n",
        "if Path(\"helper_functions.py\").is_file():\n",
        "  print(\"helper_functions.py already exists, skipping download.....\")\n",
        "else:\n",
        "  print(\"Downloading helper_functions.py\")\n",
        "  request = requests.get(\"https://raw.githubusercontent.com/mrdbourke/pytorch-deep-learning/main/helper_functions.py\")\n",
        "  print(request)\n",
        "\n",
        "with open(\"helper_functions.py\", \"wb\") as f:\n",
        "  f.write(request.content)\n",
        "  # UTIL_PATH = Path(\"utilities\")\n",
        "  # UTIL_PATH.mkdir(parents=True, exist_ok=True)\n",
        "  # src_file = Path(\"helper_functions.py\")\n",
        "  # dest_file = UTIL_PATH / src_file\n",
        "  # src_file.rename(dest_file)"
      ],
      "metadata": {
        "colab": {
          "base_uri": "https://localhost:8080/"
        },
        "id": "VO29DpD6A-RB",
        "outputId": "b13d3a7b-d412-4fab-d729-f0b5ef4da52e"
      },
      "execution_count": 283,
      "outputs": [
        {
          "output_type": "stream",
          "name": "stdout",
          "text": [
            "helper_functions.py already exists, skipping download.....\n"
          ]
        }
      ]
    },
    {
      "cell_type": "code",
      "source": [
        "from helper_functions import plot_predictions, plot_decision_boundary\n",
        "# Plot decision boundary of the model\n",
        "plt.figure(figsize=(12, 6))\n",
        "plt.subplot(1, 2, 1) # params are (rows, columns, index)\n",
        "plt.title(\"Train\")\n",
        "plot_decision_boundary(model_1, X_train, y_train)\n",
        "plt.subplot(1, 2, 2)\n",
        "plt.title(\"Test\")\n",
        "plot_decision_boundary(model_1, X_test, y_test)"
      ],
      "metadata": {
        "colab": {
          "base_uri": "https://localhost:8080/",
          "height": 544
        },
        "id": "UXMd17tVEAGp",
        "outputId": "c64d80c7-fa4b-4a00-e4b6-319899f0ef3b"
      },
      "execution_count": 284,
      "outputs": [
        {
          "output_type": "display_data",
          "data": {
            "text/plain": [
              "<Figure size 1200x600 with 2 Axes>"
            ],
            "image/png": "[encoded data removed]"
          },
          "metadata": {}
        }
      ]
    },
    {
      "cell_type": "markdown",
      "source": [
        "## 5. Improving a odel (from a model perspective)\n",
        "\n",
        "* Add more layers - give the model more chances to learn about patterns in the data\n",
        "* Add more hidden units - go from 5 hidden units to 10 hidden\n",
        "* Fit for longer - train\n",
        "* Changing the activation function\n",
        "* Change the learning rate\n",
        "* Change the loss function\n"
      ],
      "metadata": {
        "id": "7vIlZTuYLcNV"
      }
    },
    {
      "cell_type": "code",
      "source": [
        "model_1.state_dict()"
      ],
      "metadata": {
        "colab": {
          "base_uri": "https://localhost:8080/"
        },
        "id": "ctfMcutHNNrV",
        "outputId": "db6f2aa8-75fe-4d54-d2ec-ebea54269c1e"
      },
      "execution_count": 285,
      "outputs": [
        {
          "output_type": "execute_result",
          "data": {
            "text/plain": [
              "OrderedDict([('0.weight',\n",
              "              tensor([[-0.0867, -0.2861],\n",
              "                      [ 0.4684, -0.5564],\n",
              "                      [-0.3351, -0.2001],\n",
              "                      [-0.4203,  0.0643],\n",
              "                      [-0.6946,  0.6364],\n",
              "                      [-0.5861,  0.5421],\n",
              "                      [ 0.0983, -0.2263],\n",
              "                      [ 0.4266,  0.1126],\n",
              "                      [ 0.5723,  0.0787],\n",
              "                      [-0.2227,  0.1892]])),\n",
              "             ('0.bias',\n",
              "              tensor([-0.1908,  0.2989,  0.6304,  0.4069, -0.3108,  0.4057,  0.1279,  0.3602,\n",
              "                      -0.4297, -0.7005])),\n",
              "             ('1.weight',\n",
              "              tensor([[-0.1216, -0.2400,  0.2576,  0.0886,  0.1274,  0.0959, -0.0048,  0.2485,\n",
              "                       -0.2219,  0.0197],\n",
              "                      [-0.2153,  0.0987, -0.1098,  0.0957, -0.0676,  0.2601, -0.1870, -0.1885,\n",
              "                       -0.1874,  0.2846],\n",
              "                      [ 0.1050,  0.2871, -0.2497, -0.2985, -0.2227, -0.1888,  0.1236,  0.1024,\n",
              "                        0.2440, -0.1581],\n",
              "                      [-0.2162,  0.1783, -0.1346,  0.1828, -0.0904,  0.1670, -0.2430, -0.1518,\n",
              "                        0.1081,  0.0628],\n",
              "                      [-0.0802,  0.1834,  0.2182, -0.2250, -0.1614,  0.2961, -0.1080, -0.1161,\n",
              "                       -0.3116, -0.1789],\n",
              "                      [ 0.0797, -0.0533, -0.2221,  0.0174, -0.1992, -0.2530, -0.1770, -0.2853,\n",
              "                       -0.2142,  0.3206],\n",
              "                      [ 0.0580,  0.1224, -0.3105, -0.2288, -0.1414,  0.0172, -0.2720, -0.1175,\n",
              "                       -0.1621, -0.0093],\n",
              "                      [-0.1187, -0.0132, -0.2196, -0.2243, -0.1971, -0.1190, -0.2475,  0.2723,\n",
              "                       -0.0532,  0.2681],\n",
              "                      [ 0.0995, -0.2826,  0.2283, -0.0743, -0.0998, -0.2432, -0.3181,  0.0794,\n",
              "                       -0.0854,  0.1290],\n",
              "                      [-0.2587,  0.2198, -0.2229, -0.0420,  0.0877,  0.1827,  0.2515,  0.2771,\n",
              "                       -0.2669,  0.0856]])),\n",
              "             ('1.bias',\n",
              "              tensor([-0.1375, -0.0357, -0.2323,  0.2867, -0.2318,  0.1704,  0.1090,  0.1028,\n",
              "                      -0.1694,  0.2889])),\n",
              "             ('2.weight',\n",
              "              tensor([[-0.0045, -0.0162, -0.1216,  0.1224, -0.0692, -0.1365,  0.2936,  0.1314,\n",
              "                       -0.1747, -0.1583]])),\n",
              "             ('2.bias', tensor([-0.0241]))])"
            ]
          },
          "metadata": {},
          "execution_count": 285
        }
      ]
    },
    {
      "cell_type": "code",
      "source": [],
      "metadata": {
        "id": "DVh1767hNPc7"
      },
      "execution_count": 285,
      "outputs": []
    }
  ]
}