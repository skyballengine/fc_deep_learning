{
  "nbformat": 4,
  "nbformat_minor": 0,
  "metadata": {
    "colab": {
      "name": "01_pytorch_workflow_exercises.ipynb",
      "provenance": [],
      "include_colab_link": true
    },
    "kernelspec": {
      "name": "python3",
      "display_name": "Python 3"
    },
    "language_info": {
      "name": "python"
    },
    "accelerator": "GPU"
  },
  "cells": [
    {
      "cell_type": "markdown",
      "metadata": {
        "id": "view-in-github",
        "colab_type": "text"
      },
      "source": [
        "<a href=\"https://colab.research.google.com/github/skyballengine/fc_deep_learning/blob/main/extras/exercises/01_pytorch_workflow_exercises.ipynb\" target=\"_parent\"><img src=\"https://colab.research.google.com/assets/colab-badge.svg\" alt=\"Open In Colab\"/></a>"
      ]
    },
    {
      "cell_type": "markdown",
      "source": [
        "# 01. PyTorch Workflow Exercise Template\n",
        "\n",
        "The following is a template for the PyTorch workflow exercises.\n",
        "\n",
        "It's only starter code and it's your job to fill in the blanks.\n",
        "\n",
        "Because of the flexibility of PyTorch, there may be more than one way to answer the question.\n",
        "\n",
        "Don't worry about trying to be *right* just try writing code that suffices the question.\n",
        "\n",
        "You can see one form of [solutions on GitHub](https://github.com/mrdbourke/pytorch-deep-learning/tree/main/extras/solutions) (but try the exercises below yourself first!)."
      ],
      "metadata": {
        "id": "N8LsPXZti9Sw"
      }
    },
    {
      "cell_type": "code",
      "source": [
        "# Import necessary libraries\n",
        "import torch\n",
        "import matplotlib.pyplot as plt\n",
        "import numpy as np\n"
      ],
      "metadata": {
        "id": "Glu2fM4dkNlx"
      },
      "execution_count": 1,
      "outputs": []
    },
    {
      "cell_type": "code",
      "source": [
        "# Setup device-agnostic code\n",
        "device = \"cuda\" if torch.cuda.is_available() else \"cpu\"\n",
        "\n"
      ],
      "metadata": {
        "id": "LqKhXY26m31s"
      },
      "execution_count": 2,
      "outputs": []
    },
    {
      "cell_type": "markdown",
      "source": [
        "## 1. Create a straight line dataset using the linear regression formula (`weight * X + bias`).\n",
        "  * Set `weight=0.3` and `bias=0.9` there should be at least 100 datapoints total.\n",
        "  * Split the data into 80% training, 20% testing.\n",
        "  * Plot the training and testing data so it becomes visual.\n",
        "\n",
        "Your output of the below cell should look something like:\n",
        "```\n",
        "Number of X samples: 100\n",
        "Number of y samples: 100\n",
        "First 10 X & y samples:\n",
        "X: tensor([0.0000, 0.0100, 0.0200, 0.0300, 0.0400, 0.0500, 0.0600, 0.0700, 0.0800,\n",
        "        0.0900])\n",
        "y: tensor([0.9000, 0.9030, 0.9060, 0.9090, 0.9120, 0.9150, 0.9180, 0.9210, 0.9240,\n",
        "        0.9270])\n",
        "```\n",
        "\n",
        "Of course the numbers in `X` and `y` may be different but ideally they're created using the linear regression formula."
      ],
      "metadata": {
        "id": "g7HUhxCxjeBx"
      }
    },
    {
      "cell_type": "code",
      "source": [
        "# Create the data parameters\n",
        "weight = 0.3\n",
        "bias = 0.9\n",
        "\n",
        "\n",
        "# Make X and y using linear regression feature\n",
        "X = torch.arange(0, 1, 0.01).unsqueeze(dim=1)\n",
        "y = X * weight + bias\n",
        "\n",
        "print(f\"Number of X samples: {len(X)}\")\n",
        "print(f\"Number of y samples: {len(y)}\")\n",
        "print(f\"First 10 X & y samples:\\nX: {X[:10]}\\ny: {y[:10]}\")"
      ],
      "metadata": {
        "id": "KbDG5MV7jhvE",
        "outputId": "b058854d-85c9-4123-ff58-c0c1e2717f18",
        "colab": {
          "base_uri": "https://localhost:8080/"
        }
      },
      "execution_count": 3,
      "outputs": [
        {
          "output_type": "stream",
          "name": "stdout",
          "text": [
            "Number of X samples: 100\n",
            "Number of y samples: 100\n",
            "First 10 X & y samples:\n",
            "X: tensor([[0.0000],\n",
            "        [0.0100],\n",
            "        [0.0200],\n",
            "        [0.0300],\n",
            "        [0.0400],\n",
            "        [0.0500],\n",
            "        [0.0600],\n",
            "        [0.0700],\n",
            "        [0.0800],\n",
            "        [0.0900]])\n",
            "y: tensor([[0.9000],\n",
            "        [0.9030],\n",
            "        [0.9060],\n",
            "        [0.9090],\n",
            "        [0.9120],\n",
            "        [0.9150],\n",
            "        [0.9180],\n",
            "        [0.9210],\n",
            "        [0.9240],\n",
            "        [0.9270]])\n"
          ]
        }
      ]
    },
    {
      "cell_type": "code",
      "source": [
        "# Split the data into training and testing\n",
        "train_test_split = int(0.8 * len(X))\n",
        "X_train = X[:train_test_split]\n",
        "y_train = y[:train_test_split]\n",
        "X_test = X[train_test_split:]\n",
        "y_test = y[train_test_split:]\n",
        "\n",
        "print(f\"X_train:\\n {X_train}\")\n",
        "print(f\"y_train:\\n {y_train}\")\n",
        "print(f\"X_test:\\n {X_test}\")\n",
        "print(f\"y_test:\\n {y_test}\")\n",
        "print(len(X_train), len(y_train), len(X_test), len(y_test))"
      ],
      "metadata": {
        "id": "GlwtT1djkmLw",
        "outputId": "fff55d33-6f06-4340-e29d-6cc48bedad16",
        "colab": {
          "base_uri": "https://localhost:8080/"
        }
      },
      "execution_count": 4,
      "outputs": [
        {
          "output_type": "stream",
          "name": "stdout",
          "text": [
            "X_train:\n",
            " tensor([[0.0000],\n",
            "        [0.0100],\n",
            "        [0.0200],\n",
            "        [0.0300],\n",
            "        [0.0400],\n",
            "        [0.0500],\n",
            "        [0.0600],\n",
            "        [0.0700],\n",
            "        [0.0800],\n",
            "        [0.0900],\n",
            "        [0.1000],\n",
            "        [0.1100],\n",
            "        [0.1200],\n",
            "        [0.1300],\n",
            "        [0.1400],\n",
            "        [0.1500],\n",
            "        [0.1600],\n",
            "        [0.1700],\n",
            "        [0.1800],\n",
            "        [0.1900],\n",
            "        [0.2000],\n",
            "        [0.2100],\n",
            "        [0.2200],\n",
            "        [0.2300],\n",
            "        [0.2400],\n",
            "        [0.2500],\n",
            "        [0.2600],\n",
            "        [0.2700],\n",
            "        [0.2800],\n",
            "        [0.2900],\n",
            "        [0.3000],\n",
            "        [0.3100],\n",
            "        [0.3200],\n",
            "        [0.3300],\n",
            "        [0.3400],\n",
            "        [0.3500],\n",
            "        [0.3600],\n",
            "        [0.3700],\n",
            "        [0.3800],\n",
            "        [0.3900],\n",
            "        [0.4000],\n",
            "        [0.4100],\n",
            "        [0.4200],\n",
            "        [0.4300],\n",
            "        [0.4400],\n",
            "        [0.4500],\n",
            "        [0.4600],\n",
            "        [0.4700],\n",
            "        [0.4800],\n",
            "        [0.4900],\n",
            "        [0.5000],\n",
            "        [0.5100],\n",
            "        [0.5200],\n",
            "        [0.5300],\n",
            "        [0.5400],\n",
            "        [0.5500],\n",
            "        [0.5600],\n",
            "        [0.5700],\n",
            "        [0.5800],\n",
            "        [0.5900],\n",
            "        [0.6000],\n",
            "        [0.6100],\n",
            "        [0.6200],\n",
            "        [0.6300],\n",
            "        [0.6400],\n",
            "        [0.6500],\n",
            "        [0.6600],\n",
            "        [0.6700],\n",
            "        [0.6800],\n",
            "        [0.6900],\n",
            "        [0.7000],\n",
            "        [0.7100],\n",
            "        [0.7200],\n",
            "        [0.7300],\n",
            "        [0.7400],\n",
            "        [0.7500],\n",
            "        [0.7600],\n",
            "        [0.7700],\n",
            "        [0.7800],\n",
            "        [0.7900]])\n",
            "y_train:\n",
            " tensor([[0.9000],\n",
            "        [0.9030],\n",
            "        [0.9060],\n",
            "        [0.9090],\n",
            "        [0.9120],\n",
            "        [0.9150],\n",
            "        [0.9180],\n",
            "        [0.9210],\n",
            "        [0.9240],\n",
            "        [0.9270],\n",
            "        [0.9300],\n",
            "        [0.9330],\n",
            "        [0.9360],\n",
            "        [0.9390],\n",
            "        [0.9420],\n",
            "        [0.9450],\n",
            "        [0.9480],\n",
            "        [0.9510],\n",
            "        [0.9540],\n",
            "        [0.9570],\n",
            "        [0.9600],\n",
            "        [0.9630],\n",
            "        [0.9660],\n",
            "        [0.9690],\n",
            "        [0.9720],\n",
            "        [0.9750],\n",
            "        [0.9780],\n",
            "        [0.9810],\n",
            "        [0.9840],\n",
            "        [0.9870],\n",
            "        [0.9900],\n",
            "        [0.9930],\n",
            "        [0.9960],\n",
            "        [0.9990],\n",
            "        [1.0020],\n",
            "        [1.0050],\n",
            "        [1.0080],\n",
            "        [1.0110],\n",
            "        [1.0140],\n",
            "        [1.0170],\n",
            "        [1.0200],\n",
            "        [1.0230],\n",
            "        [1.0260],\n",
            "        [1.0290],\n",
            "        [1.0320],\n",
            "        [1.0350],\n",
            "        [1.0380],\n",
            "        [1.0410],\n",
            "        [1.0440],\n",
            "        [1.0470],\n",
            "        [1.0500],\n",
            "        [1.0530],\n",
            "        [1.0560],\n",
            "        [1.0590],\n",
            "        [1.0620],\n",
            "        [1.0650],\n",
            "        [1.0680],\n",
            "        [1.0710],\n",
            "        [1.0740],\n",
            "        [1.0770],\n",
            "        [1.0800],\n",
            "        [1.0830],\n",
            "        [1.0860],\n",
            "        [1.0890],\n",
            "        [1.0920],\n",
            "        [1.0950],\n",
            "        [1.0980],\n",
            "        [1.1010],\n",
            "        [1.1040],\n",
            "        [1.1070],\n",
            "        [1.1100],\n",
            "        [1.1130],\n",
            "        [1.1160],\n",
            "        [1.1190],\n",
            "        [1.1220],\n",
            "        [1.1250],\n",
            "        [1.1280],\n",
            "        [1.1310],\n",
            "        [1.1340],\n",
            "        [1.1370]])\n",
            "X_test:\n",
            " tensor([[0.8000],\n",
            "        [0.8100],\n",
            "        [0.8200],\n",
            "        [0.8300],\n",
            "        [0.8400],\n",
            "        [0.8500],\n",
            "        [0.8600],\n",
            "        [0.8700],\n",
            "        [0.8800],\n",
            "        [0.8900],\n",
            "        [0.9000],\n",
            "        [0.9100],\n",
            "        [0.9200],\n",
            "        [0.9300],\n",
            "        [0.9400],\n",
            "        [0.9500],\n",
            "        [0.9600],\n",
            "        [0.9700],\n",
            "        [0.9800],\n",
            "        [0.9900]])\n",
            "y_test:\n",
            " tensor([[1.1400],\n",
            "        [1.1430],\n",
            "        [1.1460],\n",
            "        [1.1490],\n",
            "        [1.1520],\n",
            "        [1.1550],\n",
            "        [1.1580],\n",
            "        [1.1610],\n",
            "        [1.1640],\n",
            "        [1.1670],\n",
            "        [1.1700],\n",
            "        [1.1730],\n",
            "        [1.1760],\n",
            "        [1.1790],\n",
            "        [1.1820],\n",
            "        [1.1850],\n",
            "        [1.1880],\n",
            "        [1.1910],\n",
            "        [1.1940],\n",
            "        [1.1970]])\n",
            "80 80 20 20\n"
          ]
        }
      ]
    },
    {
      "cell_type": "code",
      "source": [
        "# Plot the training and testing data\n",
        "def plot_predictions(train_data,\n",
        "                     train_labels,\n",
        "                     test_data,\n",
        "                     test_labels,\n",
        "                     predictions=None):\n",
        "  \"\"\"\n",
        "  Plots training data, test data, and compares predictions\n",
        "  \"\"\"\n",
        "  plt.figure(figsize=(10,7))\n",
        "\n",
        "  # Plot training data in blue\n",
        "  plt.scatter(train_data, train_labels, c=\"b\", s=4, label=\"Training Data\")\n",
        "\n",
        "  # Plot test data in green\n",
        "  plt.scatter(test_data, test_labels, c=\"g\", s=4, label=\"Test Data\")\n",
        "\n",
        "  # Any predictions?\n",
        "  if predictions is not None:\n",
        "    plt.scatter(test_data, predictions, c=\"r\", s=4, label=\"Predictions\")\n",
        "\n",
        "  # Show legend\n",
        "  plt.legend(prop={\"size\": 14})\n",
        "\n",
        "\n",
        "plot_predictions(X_train, y_train, X_test, y_test)"
      ],
      "metadata": {
        "id": "29iQZFNhlYJ-",
        "outputId": "a5109e85-0209-4d3c-c49c-b53bdee58a9f",
        "colab": {
          "base_uri": "https://localhost:8080/",
          "height": 599
        }
      },
      "execution_count": 5,
      "outputs": [
        {
          "output_type": "display_data",
          "data": {
            "text/plain": [
              "<Figure size 1000x700 with 1 Axes>"
            ],
            "image/png": "[encoded data removed]"
          },
          "metadata": {}
        }
      ]
    },
    {
      "cell_type": "markdown",
      "source": [
        "## 2. Build a PyTorch model by subclassing `nn.Module`.\n",
        "  * Inside should be a randomly initialized `nn.Parameter()` with `requires_grad=True`, one for `weights` and one for `bias`.\n",
        "  * Implement the `forward()` method to compute the linear regression function you used to create the dataset in 1.\n",
        "  * Once you've constructed the model, make an instance of it and check its `state_dict()`.\n",
        "  * **Note:** If you'd like to use `nn.Linear()` instead of `nn.Parameter()` you can."
      ],
      "metadata": {
        "id": "ImZoe3v8jif8"
      }
    },
    {
      "cell_type": "code",
      "source": [
        "# Create PyTorch linear regression model by subclassing nn.Module\n",
        "from torch import nn\n",
        "class LinearRegressionModelV3(nn.Module):\n",
        "  def __init__(self):\n",
        "    super().__init__()\n",
        "    self.linear_layer = nn.Linear(in_features=1, out_features=1)\n",
        "\n",
        "  def forward(self, x: torch.Tensor) -> torch.Tensor:\n",
        "    return self.linear_layer(x)\n"
      ],
      "metadata": {
        "id": "qzd__Y5rjtB8"
      },
      "execution_count": 6,
      "outputs": []
    },
    {
      "cell_type": "code",
      "source": [
        "# Instantiate the model and put it to the target device\n",
        "torch.manual_seed(4)\n",
        "model_3 = LinearRegressionModelV3()\n",
        "model_3.to(device)\n",
        "print(model_3.state_dict())\n",
        "next(model_3.parameters())"
      ],
      "metadata": {
        "id": "5LdcDnmOmyQ2",
        "outputId": "1cc8fdfe-f574-41e2-ec2b-8d863191897e",
        "colab": {
          "base_uri": "https://localhost:8080/"
        }
      },
      "execution_count": 7,
      "outputs": [
        {
          "output_type": "stream",
          "name": "stdout",
          "text": [
            "OrderedDict([('linear_layer.weight', tensor([[0.1193]], device='cuda:0')), ('linear_layer.bias', tensor([0.1182], device='cuda:0'))])\n"
          ]
        },
        {
          "output_type": "execute_result",
          "data": {
            "text/plain": [
              "Parameter containing:\n",
              "tensor([[0.1193]], device='cuda:0', requires_grad=True)"
            ]
          },
          "metadata": {},
          "execution_count": 7
        }
      ]
    },
    {
      "cell_type": "markdown",
      "source": [
        "## 3. Create a loss function and optimizer using `nn.L1Loss()` and `torch.optim.SGD(params, lr)` respectively.\n",
        "  * Set the learning rate of the optimizer to be 0.01 and the parameters to optimize should be the model parameters from the model you created in 2.\n",
        "  * Write a training loop to perform the appropriate training steps for 300 epochs.\n",
        "  * The training loop should test the model on the test dataset every 20 epochs."
      ],
      "metadata": {
        "id": "G6nYOrJhjtfu"
      }
    },
    {
      "cell_type": "code",
      "source": [
        "# Create the loss function and optimizer\n",
        "loss_fn = nn.L1Loss()\n",
        "optimizer = torch.optim.SGD(params=model_3.parameters(), lr=0.01)"
      ],
      "metadata": {
        "id": "ltvoZ-FWjv1j"
      },
      "execution_count": 8,
      "outputs": []
    },
    {
      "cell_type": "code",
      "source": [
        "# Training loop\n",
        "\n",
        "\n",
        "# Train model for 300 epochs\n",
        "epochs = 300\n",
        "\n",
        "# Send data to target device\n",
        "X_train = X_train.to(device)\n",
        "y_train = y_train.to(device)\n",
        "X_test = X_test.to(device)\n",
        "y_test = y_test.to(device)\n",
        "\n",
        "for epoch in range(epochs):\n",
        "  ### Training\n",
        "\n",
        "  # Put model in train mode\n",
        "  model_3.train()\n",
        "\n",
        "  # 1. Forward pass\n",
        "  y_train_pred = model_3(X_train)\n",
        "\n",
        "  # 2. Calculate loss\n",
        "  loss = loss_fn(y_train_pred, y_train)\n",
        "\n",
        "\n",
        "  # 3. Zero gradients\n",
        "  optimizer.zero_grad()\n",
        "\n",
        "  # 4. Backpropagation\n",
        "  loss.backward()\n",
        "\n",
        "  # 5. Step the optimizer\n",
        "  optimizer.step()\n",
        "\n",
        "  ### Perform testing every 20 epochs\n",
        "  if epoch % 20 == 0:\n",
        "    # Put model in evaluation mode and setup inference context\n",
        "    with torch.inference_mode():\n",
        "      # 1. Forward pass\n",
        "      y_pred = model_3(X_test)\n",
        "      # 2. Calculate test loss\n",
        "      test_loss = loss_fn(y_pred, y_test)\n",
        "      # Print out what's happening\n",
        "      print(f\"Epoch: {epoch} | Train loss: {loss:.3f} | Test loss: {test_loss:.3f}\")"
      ],
      "metadata": {
        "id": "xpE83NvNnkdV",
        "outputId": "e2c973bf-d817-4682-86d1-607aef42a9b4",
        "colab": {
          "base_uri": "https://localhost:8080/"
        }
      },
      "execution_count": 9,
      "outputs": [
        {
          "output_type": "stream",
          "name": "stdout",
          "text": [
            "Epoch: 0 | Train loss: 0.853 | Test loss: 0.930\n",
            "Epoch: 20 | Train loss: 0.622 | Test loss: 0.659\n",
            "Epoch: 40 | Train loss: 0.391 | Test loss: 0.389\n",
            "Epoch: 60 | Train loss: 0.160 | Test loss: 0.118\n",
            "Epoch: 80 | Train loss: 0.019 | Test loss: 0.044\n",
            "Epoch: 100 | Train loss: 0.013 | Test loss: 0.029\n",
            "Epoch: 120 | Train loss: 0.006 | Test loss: 0.013\n",
            "Epoch: 140 | Train loss: 0.004 | Test loss: 0.012\n",
            "Epoch: 160 | Train loss: 0.004 | Test loss: 0.012\n",
            "Epoch: 180 | Train loss: 0.004 | Test loss: 0.012\n",
            "Epoch: 200 | Train loss: 0.004 | Test loss: 0.012\n",
            "Epoch: 220 | Train loss: 0.004 | Test loss: 0.012\n",
            "Epoch: 240 | Train loss: 0.004 | Test loss: 0.012\n",
            "Epoch: 260 | Train loss: 0.004 | Test loss: 0.012\n",
            "Epoch: 280 | Train loss: 0.004 | Test loss: 0.012\n"
          ]
        }
      ]
    },
    {
      "cell_type": "markdown",
      "source": [
        "## 4. Make predictions with the trained model on the test data.\n",
        "  * Visualize these predictions against the original training and testing data (**note:** you may need to make sure the predictions are *not* on the GPU if you want to use non-CUDA-enabled libraries such as matplotlib to plot)."
      ],
      "metadata": {
        "id": "x4j4TM18jwa7"
      }
    },
    {
      "cell_type": "code",
      "source": [
        "# Make predictions with the model\n",
        "model_3.eval()\n",
        "with torch.inference_mode():\n",
        "  y_preds = model_3(X_test).cpu()\n",
        "  print(y_preds.device)\n",
        "  print(y_preds)\n"
      ],
      "metadata": {
        "id": "bbMPK5Qjjyx_",
        "outputId": "d819c704-ece8-47b8-d26e-3d22f8b8fd46",
        "colab": {
          "base_uri": "https://localhost:8080/"
        }
      },
      "execution_count": 10,
      "outputs": [
        {
          "output_type": "stream",
          "name": "stdout",
          "text": [
            "cpu\n",
            "tensor([[1.1380],\n",
            "        [1.1410],\n",
            "        [1.1441],\n",
            "        [1.1471],\n",
            "        [1.1502],\n",
            "        [1.1532],\n",
            "        [1.1562],\n",
            "        [1.1593],\n",
            "        [1.1623],\n",
            "        [1.1653],\n",
            "        [1.1684],\n",
            "        [1.1714],\n",
            "        [1.1745],\n",
            "        [1.1775],\n",
            "        [1.1805],\n",
            "        [1.1836],\n",
            "        [1.1866],\n",
            "        [1.1896],\n",
            "        [1.1927],\n",
            "        [1.1957]])\n"
          ]
        }
      ]
    },
    {
      "cell_type": "code",
      "source": [
        "# Plot the predictions (these may need to be on a specific device)\n",
        "plot_predictions(X_train.cpu(), y_train.cpu(), X_test.cpu(), y_test.cpu(), predictions=y_preds.cpu())"
      ],
      "metadata": {
        "id": "K3BdmQaDpFo8",
        "outputId": "49180b7d-d42b-4fd5-c31c-50caad49d27f",
        "colab": {
          "base_uri": "https://localhost:8080/",
          "height": 599
        }
      },
      "execution_count": 11,
      "outputs": [
        {
          "output_type": "display_data",
          "data": {
            "text/plain": [
              "<Figure size 1000x700 with 1 Axes>"
            ],
            "image/png": "[encoded data removed]"
          },
          "metadata": {}
        }
      ]
    },
    {
      "cell_type": "markdown",
      "source": [
        "## 5. Save your trained model's `state_dict()` to file.\n",
        "  * Create a new instance of your model class you made in 2. and load in the `state_dict()` you just saved to it.\n",
        "  * Perform predictions on your test data with the loaded model and confirm they match the original model predictions from 4."
      ],
      "metadata": {
        "id": "s2OnlMWKjzX8"
      }
    },
    {
      "cell_type": "code",
      "source": [
        "from pathlib import Path\n",
        "\n",
        "# 1. Create models directory\n",
        "MODEL_PATH = Path(\"models\")\n",
        "MODEL_PATH.mkdir(parents=True, exist_ok=True)\n",
        "\n",
        "# 2. Create model save path\n",
        "MODEL_NAME = \"model_3.pth\"\n",
        "MODEL_SAVE_PATH = MODEL_PATH / MODEL_NAME\n",
        "# 3. Save the model state dict\n",
        "torch.save(model_3.state_dict(), MODEL_SAVE_PATH)\n",
        "\n",
        "!ls -la models"
      ],
      "metadata": {
        "id": "hgxhgD14qr-i",
        "outputId": "88565765-2c75-4e3e-8f1d-26fafd6d9f81",
        "colab": {
          "base_uri": "https://localhost:8080/"
        }
      },
      "execution_count": 12,
      "outputs": [
        {
          "output_type": "stream",
          "name": "stdout",
          "text": [
            "total 12\n",
            "drwxr-xr-x 2 root root 4096 Sep 19 15:07 .\n",
            "drwxr-xr-x 1 root root 4096 Sep 19 15:07 ..\n",
            "-rw-r--r-- 1 root root 1127 Sep 19 15:07 model_3.pth\n"
          ]
        }
      ]
    },
    {
      "cell_type": "code",
      "source": [
        "# Create new instance of model and load saved state dict (make sure to put it on the target device)\n",
        "model_3_loaded = LinearRegressionModelV3()\n",
        "model_3_loaded.load_state_dict(torch.load(MODEL_SAVE_PATH))"
      ],
      "metadata": {
        "id": "P9vTgiLRrJ7T",
        "outputId": "a8a8ec03-6e3d-4796-da5e-a21d515e878f",
        "colab": {
          "base_uri": "https://localhost:8080/"
        }
      },
      "execution_count": 13,
      "outputs": [
        {
          "output_type": "execute_result",
          "data": {
            "text/plain": [
              "<All keys matched successfully>"
            ]
          },
          "metadata": {},
          "execution_count": 13
        }
      ]
    },
    {
      "cell_type": "code",
      "source": [
        "# Make predictions with loaded model and compare them to the previous\n",
        "model_3_loaded.eval()\n",
        "\n",
        "with torch.inference_mode():\n",
        "  y_preds_loaded = model_3_loaded(X_test.cpu())\n",
        "\n",
        "plot_predictions(X_train.cpu(), y_train.cpu(), X_test.cpu(), y_test.cpu(), predictions=y_preds_loaded.cpu())"
      ],
      "metadata": {
        "id": "8UGX3VebrVtI",
        "outputId": "8ae7558c-d8eb-4b8d-fa8e-b0640844a6a3",
        "colab": {
          "base_uri": "https://localhost:8080/",
          "height": 599
        }
      },
      "execution_count": 14,
      "outputs": [
        {
          "output_type": "display_data",
          "data": {
            "text/plain": [
              "<Figure size 1000x700 with 1 Axes>"
            ],
            "image/png": "[encoded data removed]"
          },
          "metadata": {}
        }
      ]
    },
    {
      "cell_type": "code",
      "source": [
        "y_preds.cpu() == y_preds_loaded.cpu()\n"
      ],
      "metadata": {
        "id": "ITuHl0oYh4Lu",
        "outputId": "ff760383-5155-43bf-9cef-843abaaf33e9",
        "colab": {
          "base_uri": "https://localhost:8080/"
        }
      },
      "execution_count": 15,
      "outputs": [
        {
          "output_type": "execute_result",
          "data": {
            "text/plain": [
              "tensor([[ True],\n",
              "        [ True],\n",
              "        [ True],\n",
              "        [ True],\n",
              "        [ True],\n",
              "        [ True],\n",
              "        [ True],\n",
              "        [ True],\n",
              "        [ True],\n",
              "        [ True],\n",
              "        [ True],\n",
              "        [ True],\n",
              "        [ True],\n",
              "        [ True],\n",
              "        [False],\n",
              "        [ True],\n",
              "        [ True],\n",
              "        [ True],\n",
              "        [ True],\n",
              "        [ True]])"
            ]
          },
          "metadata": {},
          "execution_count": 15
        }
      ]
    },
    {
      "cell_type": "code",
      "source": [],
      "metadata": {
        "id": "tgXT4KyPihlL"
      },
      "execution_count": 15,
      "outputs": []
    }
  ]
}